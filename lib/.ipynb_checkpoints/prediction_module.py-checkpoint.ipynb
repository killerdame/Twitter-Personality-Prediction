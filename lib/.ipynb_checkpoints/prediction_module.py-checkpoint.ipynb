{
 "cells": [
  {
   "cell_type": "code",
   "execution_count": null,
   "metadata": {
    "collapsed": true
   },
   "outputs": [],
   "source": [
    "def prediction_prob():    \n",
    "    pred_prob = model.predict_proba(X_test[2050:2051]).argmax()\n",
    "    print \"The predicted twitter user is:\"\n",
    "    print twitionary[pred_prob]\n",
    "    print ''\n",
    "    print \"The real twitter user is:\"\n",
    "    print twitionary[y_test[2050]]"
   ]
  }
 ],
 "metadata": {
  "kernelspec": {
   "display_name": "Python [conda root]",
   "language": "python",
   "name": "conda-root-py"
  },
  "language_info": {
   "codemirror_mode": {
    "name": "ipython",
    "version": 2
   },
   "file_extension": ".py",
   "mimetype": "text/x-python",
   "name": "python",
   "nbconvert_exporter": "python",
   "pygments_lexer": "ipython2",
   "version": "2.7.12"
  }
 },
 "nbformat": 4,
 "nbformat_minor": 1
}
