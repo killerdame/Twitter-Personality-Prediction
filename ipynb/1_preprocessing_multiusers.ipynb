{
 "cells": [
  {
   "cell_type": "markdown",
   "metadata": {},
   "source": [
    "## Connecting to a Mongo Database and  Twitter via the Twitter API. "
   ]
  },
  {
   "cell_type": "code",
   "execution_count": 1,
   "metadata": {
    "collapsed": false
   },
   "outputs": [],
   "source": [
    "import os\n",
    "os.chdir('../')"
   ]
  },
  {
   "cell_type": "code",
   "execution_count": 2,
   "metadata": {
    "collapsed": false
   },
   "outputs": [],
   "source": [
    "from lib.pull_tweets import connect_to_mongo, get_twitter_client, select_all_tweets, get_user_tweets\n",
    "import twitter, yaml, tweepy\n",
    "import pymongo\n",
    "import pandas as pd\n",
    "from pymongo import MongoClient\n",
    "import csv\n",
    "import re\n",
    "from nltk.tokenize import RegexpTokenizer\n",
    "from nltk.stem import LancasterStemmer\n",
    "from nltk.corpus import stopwords\n",
    "from unidecode import unidecode\n",
    "from lib.cleaning_module import clean_text\n",
    "from nltk.tokenize import word_tokenize\n",
    "import pickle\n",
    "from tweepy import OAuthHandler\n",
    "import json"
   ]
  },
  {
   "cell_type": "code",
   "execution_count": 3,
   "metadata": {
    "collapsed": false,
    "scrolled": true
   },
   "outputs": [
    {
     "name": "stdout",
     "output_type": "stream",
     "text": [
      "[u'creator_tweets', u'sage_tweets', u'tweets', u'elon', u'russell', u'madonna', u'magician_tweets', u'jester_tweets', u'seth', u'paolo', u'pers', u'katy', u'explorer_tweets', u'barack', u'lover_tweets', u'bill', u'zooey', u'hero_tweets', u'kid', u'oz', u'ellen', u'innocent_tweets', u'gina', u'rebel_tweets', u'jessica', u'donald', u'ruler_tweets', u'michael', u'hillary', u'noam', u'nurturer_tweets', u'oprah', u'pope', u'bourdain', u'martha', u'sully', u'kim', u'every_tweets']\n"
     ]
    }
   ],
   "source": [
    "client_aws = connect_to_mongo()"
   ]
  },
  {
   "cell_type": "code",
   "execution_count": 4,
   "metadata": {
    "collapsed": false
   },
   "outputs": [],
   "source": [
    "access_key =  ''\n",
    "access_secret = ''\n",
    "consumer_token =  ''\n",
    "consumer_secret = ''"
   ]
  },
  {
   "cell_type": "markdown",
   "metadata": {},
   "source": [
    "## Getting one twitter history feed per archetype"
   ]
  },
  {
   "cell_type": "code",
   "execution_count": 5,
   "metadata": {
    "collapsed": false
   },
   "outputs": [],
   "source": [
    "def get_user_tweets(screen_name):\n",
    "\n",
    "    auth = OAuthHandler(consumer_token, consumer_secret)\n",
    "    auth.set_access_token(access_key, access_secret)\n",
    "    api = tweepy.API(auth)\n",
    "    \n",
    "    alltweets = []    \n",
    "    new_tweets = api.user_timeline(screen_name = screen_name,count=200)\n",
    "    alltweets.extend(new_tweets)\n",
    "    user=api.get_user(screen_name=screen_name)\n",
    "    oldest = alltweets[-1].id - 1\n",
    "    \n",
    "    while len(new_tweets) > 0:\n",
    "        new_tweets = api.user_timeline(screen_name = screen_name, count=200,max_id=oldest)\n",
    "        alltweets.extend(new_tweets)\n",
    "        oldest = alltweets[-1].id - 1\n",
    "    return alltweets"
   ]
  },
  {
   "cell_type": "code",
   "execution_count": null,
   "metadata": {
    "collapsed": true
   },
   "outputs": [],
   "source": [
    "all_zooey = get_user_tweets('ZooeyDeschanel')\n",
    "for tweet in all_zooey:\n",
    "    client_aws.zooey.insert_one(json.loads(json.dumps(tweet._json)))"
   ]
  },
  {
   "cell_type": "code",
   "execution_count": null,
   "metadata": {
    "collapsed": true
   },
   "outputs": [],
   "source": [
    "all_kid = get_user_tweets('iamkidpresident')\n",
    "for tweet in all_kid:\n",
    "    client_aws.kid.insert_one(json.loads(json.dumps(tweet._json)))"
   ]
  },
  {
   "cell_type": "code",
   "execution_count": null,
   "metadata": {
    "collapsed": true
   },
   "outputs": [],
   "source": [
    "all_oz = get_user_tweets('DrOz')\n",
    "for tweet in all_oz:\n",
    "    client_aws.oz.insert_one(json.loads(json.dumps(tweet._json)))"
   ]
  },
  {
   "cell_type": "code",
   "execution_count": null,
   "metadata": {
    "collapsed": true
   },
   "outputs": [],
   "source": [
    "all_jessica = get_user_tweets('jessicaalba')\n",
    "for tweet in all_jessica:\n",
    "    client_aws.jessica.insert_one(json.loads(json.dumps(tweet._json)))"
   ]
  },
  {
   "cell_type": "code",
   "execution_count": null,
   "metadata": {
    "collapsed": true
   },
   "outputs": [],
   "source": [
    "all_martha = get_user_tweets('MarthaStewart')\n",
    "for tweet in all_martha:\n",
    "    client_aws.martha.insert_one(json.loads(json.dumps(tweet._json)))"
   ]
  },
  {
   "cell_type": "code",
   "execution_count": null,
   "metadata": {
    "collapsed": true
   },
   "outputs": [],
   "source": [
    "all_sully = get_user_tweets('Captsully')\n",
    "for tweet in all_sully:\n",
    "    client_aws.sully.insert_one(json.loads(json.dumps(tweet._json)))"
   ]
  },
  {
   "cell_type": "code",
   "execution_count": null,
   "metadata": {
    "collapsed": true
   },
   "outputs": [],
   "source": [
    "all_bill = get_user_tweets('billmaher')\n",
    "for tweet in all_bill:\n",
    "    client_aws.bill.insert_one(json.loads(json.dumps(tweet._json)))"
   ]
  },
  {
   "cell_type": "code",
   "execution_count": null,
   "metadata": {
    "collapsed": true
   },
   "outputs": [],
   "source": [
    "all_madonna = get_user_tweets('Madonna')\n",
    "for tweet in all_madonna:\n",
    "    client_aws.madonna.insert_one(json.loads(json.dumps(tweet._json)))"
   ]
  },
  {
   "cell_type": "code",
   "execution_count": null,
   "metadata": {
    "collapsed": false
   },
   "outputs": [],
   "source": [
    "all_seth = get_user_tweets('SethMacFarlane')\n",
    "for tweet in all_seth:\n",
    "    client_aws.seth.insert_one(json.loads(json.dumps(tweet._json)))"
   ]
  },
  {
   "cell_type": "code",
   "execution_count": null,
   "metadata": {
    "collapsed": true
   },
   "outputs": [],
   "source": [
    "all_pope = get_user_tweets('Pontifex')\n",
    "for tweet in all_pope:\n",
    "    client_aws.pope.insert_one(json.loads(json.dumps(tweet._json)))"
   ]
  },
  {
   "cell_type": "code",
   "execution_count": null,
   "metadata": {
    "collapsed": true
   },
   "outputs": [],
   "source": [
    "all_hillary = get_user_tweets('HillaryClinton')\n",
    "for tweet in all_hillary:\n",
    "    client_aws.hillary.insert_one(json.loads(json.dumps(tweet._json)))"
   ]
  },
  {
   "cell_type": "code",
   "execution_count": null,
   "metadata": {
    "collapsed": true
   },
   "outputs": [],
   "source": [
    "all_anthony = get_user_tweets('bourdain')\n",
    "for tweet in all_anthony:\n",
    "    client_aws.anthony.insert_one(json.loads(json.dumps(tweet._json)))"
   ]
  },
  {
   "cell_type": "code",
   "execution_count": 6,
   "metadata": {
    "collapsed": true
   },
   "outputs": [],
   "source": [
    "def get_texts_and_user(user):\n",
    "    tweets = get_user_tweets(user)\n",
    "    return pd.concat([pd.DataFrame([[i.user.screen_name, i.text]], columns=['user','text']) for i in tweets],axis=0).reset_index(drop=True)"
   ]
  },
  {
   "cell_type": "code",
   "execution_count": 7,
   "metadata": {
    "collapsed": false
   },
   "outputs": [],
   "source": [
    "jessica_df = get_texts_and_user('jessicaalba')\n",
    "louis_df = get_texts_and_user('Louis_Tomlinson')\n",
    "joseph_df = get_texts_and_user('hitRECordJoe')\n",
    "zooey_df = get_texts_and_user('ZooeyDeschanel')\n",
    "channing_df = get_texts_and_user('channingtatum')\n",
    "jamie_df = get_texts_and_user('iamjamiefoxx')\n",
    "gavin_df = get_texts_and_user('GavinNewsom')\n",
    "justin_df = get_texts_and_user('JustinTrudeau')\n",
    "sully_df = get_texts_and_user('Captsully')\n",
    "reese_df = get_texts_and_user('RWitherspoon')\n",
    "deepak_df = get_texts_and_user('DeepakChopra')\n",
    "kid_df = get_texts_and_user('iamkidpresident')\n",
    "mark_df = get_texts_and_user('mcuban')\n",
    "martha_df = get_texts_and_user('MarthaStewart')\n",
    "shonda_df = get_texts_and_user('shondarhimes')\n",
    "laverne_df = get_texts_and_user('Lavernecox')\n",
    "christiane_df = get_texts_and_user('camanpour')\n",
    "courtney_df = get_texts_and_user('Courtney')\n",
    "bill_df = get_texts_and_user('billmaher')\n",
    "lena_df = get_texts_and_user('lenadunham')\n",
    "madonna_df = get_texts_and_user('Madonna')\n",
    "usher_df = get_texts_and_user('Usher')\n",
    "weeknd_df = get_texts_and_user('theweeknd')\n",
    "james_df = get_texts_and_user('JKCorden')\n",
    "seth_df = get_texts_and_user('SethMacFarlane')\n",
    "sarah_df = get_texts_and_user('SarahKSilverman')\n",
    "dalai_df = get_texts_and_user('dalailama')\n",
    "pope_df = get_texts_and_user('Pontifex')\n",
    "diane_df = get_texts_and_user('DianeSawyer')\n",
    "oz_df = get_texts_and_user('DrOz')\n",
    "tony_df = get_texts_and_user('TonyRobbins')\n",
    "lori_df = get_texts_and_user('LoriGreiner')\n",
    "david_df = get_texts_and_user('David_Cameron')\n",
    "marissa_df = get_texts_and_user('marissamayer')\n",
    "hillary_df = get_texts_and_user('HillaryClinton')\n",
    "gina_df = get_texts_and_user('HereIsGina')\n",
    "katy_df = get_texts_and_user('katyperry')\n",
    "barack_df = get_texts_and_user('BarackObama')\n",
    "oprah_df = get_texts_and_user('Oprah')\n",
    "noam_df = get_texts_and_user('noamchomskyT')\n",
    "michael_df = get_texts_and_user('MMFlint')\n",
    "kim_df = get_texts_and_user('KimKardashian')\n",
    "russell_df = get_texts_and_user('rustyrockets')\n",
    "ellen_df = get_texts_and_user('TheEllenShow')\n",
    "paulo_df = get_texts_and_user('paulocoelho')\n",
    "elon_df = get_texts_and_user('elonmusk')\n",
    "donald_df = get_texts_and_user('realDonaldTrump')\n",
    "anthony_df = get_texts_and_user('bourdain')\n",
    "emma_df = get_texts_and_user('EmmaWatson')\n",
    "iyanla_df = get_texts_and_user('IyanlaVanzant')"
   ]
  },
  {
   "cell_type": "code",
   "execution_count": 8,
   "metadata": {
    "collapsed": false
   },
   "outputs": [],
   "source": [
    "all_tweets2 = [gina_df, katy_df, barack_df, oprah_df, noam_df, michael_df, kim_df, russell_df, ellen_df, paulo_df, elon_df, donald_df]\n",
    "all_tweets2_df = pd.concat(all_tweets2)"
   ]
  },
  {
   "cell_type": "code",
   "execution_count": null,
   "metadata": {
    "collapsed": true
   },
   "outputs": [],
   "source": [
    "all_tweets_alt = [jessica_df, zooey_df, sully_df, kid_df, anthony_df, bill_df, madonna_df, martha_df, seth_df, pope_df, oz_df, hillary_df]\n",
    "all_tweets_alt_df = pd.concat(all_tweets_alt)"
   ]
  },
  {
   "cell_type": "markdown",
   "metadata": {},
   "source": [
    "## Pickling the full dataset of all tweets"
   ]
  },
  {
   "cell_type": "code",
   "execution_count": null,
   "metadata": {
    "collapsed": false
   },
   "outputs": [],
   "source": [
    "with open('all_tweets_alt_df.pkl', 'w') as picklefile:\n",
    "    pickle.dump(all_tweets_alt_df, picklefile)"
   ]
  },
  {
   "cell_type": "code",
   "execution_count": 9,
   "metadata": {
    "collapsed": true
   },
   "outputs": [],
   "source": [
    "with open('all_tweets2_df.pkl', 'w') as picklefile:\n",
    "    pickle.dump(all_tweets2_df, picklefile)"
   ]
  }
 ],
 "metadata": {
  "anaconda-cloud": {},
  "kernelspec": {
   "display_name": "Python [conda root]",
   "language": "python",
   "name": "conda-root-py"
  },
  "language_info": {
   "codemirror_mode": {
    "name": "ipython",
    "version": 2
   },
   "file_extension": ".py",
   "mimetype": "text/x-python",
   "name": "python",
   "nbconvert_exporter": "python",
   "pygments_lexer": "ipython2",
   "version": "2.7.12"
  }
 },
 "nbformat": 4,
 "nbformat_minor": 1
}
