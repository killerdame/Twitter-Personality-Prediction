{
 "cells": [
  {
   "cell_type": "code",
   "execution_count": 13,
   "metadata": {
    "collapsed": false
   },
   "outputs": [],
   "source": [
    "import pandas as pd\n",
    "import numpy as np\n",
    "import seaborn as sns\n",
    "import matplotlib.pyplot as plt\n",
    "%matplotlib inline\n"
   ]
  },
  {
   "cell_type": "code",
   "execution_count": 14,
   "metadata": {
    "collapsed": false
   },
   "outputs": [],
   "source": [
    "hsns_dd_df = pd.read_csv('/Users/kdgulko/dsi/dsi_workspace/projects/project-capstone/capstone_data/HSNS+DD/hsns_dd_data.csv', delim_whitespace=True)"
   ]
  },
  {
   "cell_type": "code",
   "execution_count": 15,
   "metadata": {
    "collapsed": false
   },
   "outputs": [
    {
     "data": {
      "text/plain": [
       "(53981, 26)"
      ]
     },
     "execution_count": 15,
     "metadata": {},
     "output_type": "execute_result"
    }
   ],
   "source": [
    "hsns_dd_df.shape"
   ]
  },
  {
   "cell_type": "code",
   "execution_count": 16,
   "metadata": {
    "collapsed": false
   },
   "outputs": [
    {
     "data": {
      "text/html": [
       "<div>\n",
       "<table border=\"1\" class=\"dataframe\">\n",
       "  <thead>\n",
       "    <tr style=\"text-align: right;\">\n",
       "      <th></th>\n",
       "      <th>HSNS1</th>\n",
       "      <th>HSNS2</th>\n",
       "      <th>HSNS3</th>\n",
       "      <th>HSNS4</th>\n",
       "      <th>HSNS5</th>\n",
       "      <th>HSNS6</th>\n",
       "      <th>HSNS7</th>\n",
       "      <th>HSNS8</th>\n",
       "      <th>HSNS9</th>\n",
       "      <th>HSNS10</th>\n",
       "      <th>...</th>\n",
       "      <th>DDN3</th>\n",
       "      <th>DDN4</th>\n",
       "      <th>DDM1</th>\n",
       "      <th>DDM2</th>\n",
       "      <th>DDM3</th>\n",
       "      <th>DDM4</th>\n",
       "      <th>age</th>\n",
       "      <th>gender</th>\n",
       "      <th>accuracy</th>\n",
       "      <th>country</th>\n",
       "    </tr>\n",
       "  </thead>\n",
       "  <tbody>\n",
       "    <tr>\n",
       "      <th>0</th>\n",
       "      <td>2</td>\n",
       "      <td>4</td>\n",
       "      <td>5</td>\n",
       "      <td>1</td>\n",
       "      <td>4</td>\n",
       "      <td>5</td>\n",
       "      <td>4</td>\n",
       "      <td>3</td>\n",
       "      <td>3</td>\n",
       "      <td>2</td>\n",
       "      <td>...</td>\n",
       "      <td>1</td>\n",
       "      <td>1</td>\n",
       "      <td>1</td>\n",
       "      <td>2</td>\n",
       "      <td>2</td>\n",
       "      <td>1</td>\n",
       "      <td>37</td>\n",
       "      <td>2</td>\n",
       "      <td>98</td>\n",
       "      <td>PT</td>\n",
       "    </tr>\n",
       "    <tr>\n",
       "      <th>1</th>\n",
       "      <td>4</td>\n",
       "      <td>2</td>\n",
       "      <td>2</td>\n",
       "      <td>4</td>\n",
       "      <td>3</td>\n",
       "      <td>4</td>\n",
       "      <td>4</td>\n",
       "      <td>5</td>\n",
       "      <td>4</td>\n",
       "      <td>3</td>\n",
       "      <td>...</td>\n",
       "      <td>2</td>\n",
       "      <td>3</td>\n",
       "      <td>4</td>\n",
       "      <td>4</td>\n",
       "      <td>4</td>\n",
       "      <td>3</td>\n",
       "      <td>34</td>\n",
       "      <td>3</td>\n",
       "      <td>95</td>\n",
       "      <td>PL</td>\n",
       "    </tr>\n",
       "    <tr>\n",
       "      <th>2</th>\n",
       "      <td>5</td>\n",
       "      <td>5</td>\n",
       "      <td>5</td>\n",
       "      <td>4</td>\n",
       "      <td>2</td>\n",
       "      <td>5</td>\n",
       "      <td>5</td>\n",
       "      <td>4</td>\n",
       "      <td>4</td>\n",
       "      <td>2</td>\n",
       "      <td>...</td>\n",
       "      <td>4</td>\n",
       "      <td>3</td>\n",
       "      <td>3</td>\n",
       "      <td>4</td>\n",
       "      <td>4</td>\n",
       "      <td>2</td>\n",
       "      <td>22</td>\n",
       "      <td>2</td>\n",
       "      <td>80</td>\n",
       "      <td>AU</td>\n",
       "    </tr>\n",
       "    <tr>\n",
       "      <th>3</th>\n",
       "      <td>4</td>\n",
       "      <td>1</td>\n",
       "      <td>2</td>\n",
       "      <td>2</td>\n",
       "      <td>4</td>\n",
       "      <td>5</td>\n",
       "      <td>2</td>\n",
       "      <td>2</td>\n",
       "      <td>5</td>\n",
       "      <td>2</td>\n",
       "      <td>...</td>\n",
       "      <td>4</td>\n",
       "      <td>1</td>\n",
       "      <td>4</td>\n",
       "      <td>2</td>\n",
       "      <td>3</td>\n",
       "      <td>4</td>\n",
       "      <td>24</td>\n",
       "      <td>1</td>\n",
       "      <td>99</td>\n",
       "      <td>US</td>\n",
       "    </tr>\n",
       "    <tr>\n",
       "      <th>4</th>\n",
       "      <td>5</td>\n",
       "      <td>3</td>\n",
       "      <td>4</td>\n",
       "      <td>5</td>\n",
       "      <td>5</td>\n",
       "      <td>5</td>\n",
       "      <td>4</td>\n",
       "      <td>5</td>\n",
       "      <td>4</td>\n",
       "      <td>3</td>\n",
       "      <td>...</td>\n",
       "      <td>5</td>\n",
       "      <td>2</td>\n",
       "      <td>4</td>\n",
       "      <td>4</td>\n",
       "      <td>1</td>\n",
       "      <td>5</td>\n",
       "      <td>21</td>\n",
       "      <td>2</td>\n",
       "      <td>90</td>\n",
       "      <td>US</td>\n",
       "    </tr>\n",
       "  </tbody>\n",
       "</table>\n",
       "<p>5 rows × 26 columns</p>\n",
       "</div>"
      ],
      "text/plain": [
       "   HSNS1  HSNS2  HSNS3  HSNS4  HSNS5  HSNS6  HSNS7  HSNS8  HSNS9  HSNS10  \\\n",
       "0      2      4      5      1      4      5      4      3      3       2   \n",
       "1      4      2      2      4      3      4      4      5      4       3   \n",
       "2      5      5      5      4      2      5      5      4      4       2   \n",
       "3      4      1      2      2      4      5      2      2      5       2   \n",
       "4      5      3      4      5      5      5      4      5      4       3   \n",
       "\n",
       "    ...     DDN3  DDN4  DDM1  DDM2  DDM3  DDM4  age  gender  accuracy  country  \n",
       "0   ...        1     1     1     2     2     1   37       2        98       PT  \n",
       "1   ...        2     3     4     4     4     3   34       3        95       PL  \n",
       "2   ...        4     3     3     4     4     2   22       2        80       AU  \n",
       "3   ...        4     1     4     2     3     4   24       1        99       US  \n",
       "4   ...        5     2     4     4     1     5   21       2        90       US  \n",
       "\n",
       "[5 rows x 26 columns]"
      ]
     },
     "execution_count": 16,
     "metadata": {},
     "output_type": "execute_result"
    }
   ],
   "source": [
    "hsns_dd_df.head()"
   ]
  },
  {
   "cell_type": "code",
   "execution_count": 17,
   "metadata": {
    "collapsed": false
   },
   "outputs": [],
   "source": [
    "new_df = hsns_dd_df.drop('age', axis=1)\n",
    "new_df = new_df.drop('accuracy', axis=1)\n",
    "new_df = new_df.drop('country', axis=1)\n",
    "new_df = new_df.drop('gender', axis=1)"
   ]
  },
  {
   "cell_type": "code",
   "execution_count": 18,
   "metadata": {
    "collapsed": false
   },
   "outputs": [],
   "source": [
    "new_sum_df = new_df.copy()"
   ]
  },
  {
   "cell_type": "code",
   "execution_count": 19,
   "metadata": {
    "collapsed": false
   },
   "outputs": [],
   "source": [
    "hyper_sen_cols = [col for col in new_df.columns if col.startswith('HSNS')]\n",
    "hs_df = new_sum_df[hyper_sen_cols]"
   ]
  },
  {
   "cell_type": "code",
   "execution_count": 20,
   "metadata": {
    "collapsed": true
   },
   "outputs": [],
   "source": [
    "psycho_cols = [col for col in new_df.columns if col.startswith('DDP')]\n",
    "ddp_df = new_sum_df[psycho_cols]"
   ]
  },
  {
   "cell_type": "code",
   "execution_count": 21,
   "metadata": {
    "collapsed": true
   },
   "outputs": [],
   "source": [
    "narc_cols = [col for col in new_df.columns if col.startswith('DDN')]\n",
    "ddn_df = new_sum_df[narc_cols]"
   ]
  },
  {
   "cell_type": "code",
   "execution_count": 22,
   "metadata": {
    "collapsed": true
   },
   "outputs": [],
   "source": [
    "masc_cols = [col for col in new_df.columns if col.startswith('DDM')]\n",
    "ddm_df = new_sum_df[masc_cols]"
   ]
  },
  {
   "cell_type": "code",
   "execution_count": 23,
   "metadata": {
    "collapsed": false
   },
   "outputs": [],
   "source": [
    "new_sum_df['HSNS_sum'] = new_sum_df[hyper_sen_cols].sum(axis=1)"
   ]
  },
  {
   "cell_type": "code",
   "execution_count": 24,
   "metadata": {
    "collapsed": true
   },
   "outputs": [],
   "source": [
    "new_sum_df['DDP_sum'] = new_sum_df[psycho_cols].sum(axis=1)"
   ]
  },
  {
   "cell_type": "code",
   "execution_count": 25,
   "metadata": {
    "collapsed": true
   },
   "outputs": [],
   "source": [
    "new_sum_df['DDN_sum'] = new_sum_df[narc_cols].sum(axis=1)"
   ]
  },
  {
   "cell_type": "code",
   "execution_count": 26,
   "metadata": {
    "collapsed": false
   },
   "outputs": [],
   "source": [
    "new_sum_df['DDM_sum'] = new_sum_df[masc_cols].sum(axis=1)"
   ]
  },
  {
   "cell_type": "code",
   "execution_count": 27,
   "metadata": {
    "collapsed": false
   },
   "outputs": [
    {
     "data": {
      "text/plain": [
       "3.7616013041625758"
      ]
     },
     "execution_count": 27,
     "metadata": {},
     "output_type": "execute_result"
    }
   ],
   "source": [
    "new_sum_df['HSNS1'].mean()"
   ]
  },
  {
   "cell_type": "code",
   "execution_count": 28,
   "metadata": {
    "collapsed": false
   },
   "outputs": [],
   "source": [
    "sum_df = new_sum_df[['HSNS_sum','DDP_sum','DDN_sum','DDM_sum']].copy()"
   ]
  },
  {
   "cell_type": "code",
   "execution_count": null,
   "metadata": {
    "collapsed": false
   },
   "outputs": [],
   "source": [
    "sns.pairplot(sum_df, x_vars=sum_df, y_vars=sum_df)"
   ]
  },
  {
   "cell_type": "code",
   "execution_count": null,
   "metadata": {
    "collapsed": false
   },
   "outputs": [],
   "source": [
    "plt.figure(figsize=(20,6))\n",
    "corr = new_df.corr()\n",
    "mask = np.zeros_like(corr)\n",
    "mask[np.triu_indices_from(mask, 0)] = True\n",
    "with sns.axes_style(\"white\"):\n",
    "    ax = sns.heatmap(corr, mask=mask, square=True,\n",
    "                     cmap='RdBu')\n",
    "    plt.xticks(rotation=90, ha='center')"
   ]
  },
  {
   "cell_type": "code",
   "execution_count": null,
   "metadata": {
    "collapsed": false,
    "scrolled": true
   },
   "outputs": [],
   "source": [
    "plt.figure(figsize=(10,6))\n",
    "corr = sum_df.corr()\n",
    "mask = np.zeros_like(corr)\n",
    "mask[np.triu_indices_from(mask, 0)] = True\n",
    "with sns.axes_style(\"white\"):\n",
    "    ax = sns.heatmap(corr, mask=mask, square=True,\n",
    "                     cmap='RdBu')\n",
    "    plt.xticks(rotation=90, ha='center')"
   ]
  },
  {
   "cell_type": "code",
   "execution_count": null,
   "metadata": {
    "collapsed": false
   },
   "outputs": [],
   "source": [
    "fig, axes = plt.subplots(6, 4)\n",
    "axes = axes.flatten()\n",
    "fig.set_size_inches(20, 20)\n",
    "fig.suptitle('Distribution of Features')\n",
    "\n",
    "for i, col in enumerate(new_df.columns):\n",
    "    feature = new_df[col]\n",
    "    sns.distplot(feature, label=col, ax=axes[i]).set(xlim=(1, 5),)\n",
    "    axes[i].axvline(feature.mean(),linewidth=2)\n",
    "    axes[i].axvline(feature.median(),linewidth=2, color='r')"
   ]
  },
  {
   "cell_type": "code",
   "execution_count": null,
   "metadata": {
    "collapsed": false
   },
   "outputs": [],
   "source": [
    "new_df.columns"
   ]
  },
  {
   "cell_type": "code",
   "execution_count": null,
   "metadata": {
    "collapsed": true
   },
   "outputs": [],
   "source": [
    "from sklearn.decomposition import PCA \n",
    "from sklearn.preprocessing import StandardScaler"
   ]
  },
  {
   "cell_type": "code",
   "execution_count": 34,
   "metadata": {
    "collapsed": false
   },
   "outputs": [],
   "source": [
    "ss = StandardScaler().fit_transform(new_df)\n",
    "pca = PCA(n_components=5)\n",
    "pca.fit_transform(new_df)"
   ]
  },
  {
   "cell_type": "code",
   "execution_count": 1,
   "metadata": {
    "collapsed": false
   },
   "outputs": [
    {
     "name": "stdout",
     "output_type": "stream",
     "text": [
      "Collecting twython\n",
      "  Downloading twython-3.4.0.tar.gz\n",
      "Requirement already satisfied: requests>=2.1.0 in /Users/kdgulko/anaconda/lib/python2.7/site-packages (from twython)\n",
      "Requirement already satisfied: requests_oauthlib>=0.4.0 in /Users/kdgulko/anaconda/lib/python2.7/site-packages (from twython)\n",
      "Requirement already satisfied: oauthlib>=0.6.2 in /Users/kdgulko/anaconda/lib/python2.7/site-packages (from requests_oauthlib>=0.4.0->twython)\n",
      "Building wheels for collected packages: twython\n",
      "  Running setup.py bdist_wheel for twython ... \u001b[?25l-\b \bdone\n",
      "\u001b[?25h  Stored in directory: /Users/kdgulko/Library/Caches/pip/wheels/48/e9/f5/a4c968725948c73f71df51a3c6759425358c1eda2dcf2031f4\n",
      "Successfully built twython\n",
      "Installing collected packages: twython\n",
      "Successfully installed twython-3.4.0\n"
     ]
    }
   ],
   "source": [
    "!pip install twython"
   ]
  },
  {
   "cell_type": "code",
   "execution_count": 2,
   "metadata": {
    "collapsed": false
   },
   "outputs": [],
   "source": [
    "from nltk.twitter import Query, Streamer, Twitter, TweetViewer, TweetWriter, credsfromfile"
   ]
  },
  {
   "cell_type": "code",
   "execution_count": 9,
   "metadata": {
    "collapsed": true
   },
   "outputs": [],
   "source": [
    "tweets = ('twitter_feeds/twitter2_16.txt')"
   ]
  },
  {
   "cell_type": "code",
   "execution_count": 10,
   "metadata": {
    "collapsed": false,
    "scrolled": true
   },
   "outputs": [],
   "source": [
    "def parse_tweet(data):\n",
    "    return {\n",
    "        '_id' : data.get('id', None),\n",
    "        'created_at' : data.get('created_at', None),\n",
    "        'user_id' : data['user']['screen_name'],\n",
    "        'user_name' : data['user']['name'],\n",
    "        'text' : data.get('text', None),\n",
    "        'url' : data.get('url'),\n",
    "        'favorite_count' : data.get('favorite_count', None),\n",
    "        'retweet_count' : data.get('retweet_count', None)\n",
    "    }"
   ]
  },
  {
   "cell_type": "code",
   "execution_count": 11,
   "metadata": {
    "collapsed": false
   },
   "outputs": [
    {
     "ename": "AttributeError",
     "evalue": "'str' object has no attribute 'get'",
     "output_type": "error",
     "traceback": [
      "\u001b[0;31m---------------------------------------------------------------------------\u001b[0m",
      "\u001b[0;31mAttributeError\u001b[0m                            Traceback (most recent call last)",
      "\u001b[0;32m<ipython-input-11-aa7073959671>\u001b[0m in \u001b[0;36m<module>\u001b[0;34m()\u001b[0m\n\u001b[0;32m----> 1\u001b[0;31m \u001b[0mparse_tweet\u001b[0m\u001b[0;34m(\u001b[0m\u001b[0mtweets\u001b[0m\u001b[0;34m)\u001b[0m\u001b[0;34m\u001b[0m\u001b[0m\n\u001b[0m",
      "\u001b[0;32m<ipython-input-10-64961fe28de0>\u001b[0m in \u001b[0;36mparse_tweet\u001b[0;34m(data)\u001b[0m\n\u001b[1;32m      1\u001b[0m \u001b[0;32mdef\u001b[0m \u001b[0mparse_tweet\u001b[0m\u001b[0;34m(\u001b[0m\u001b[0mdata\u001b[0m\u001b[0;34m)\u001b[0m\u001b[0;34m:\u001b[0m\u001b[0;34m\u001b[0m\u001b[0m\n\u001b[1;32m      2\u001b[0m     return {\n\u001b[0;32m----> 3\u001b[0;31m         \u001b[0;34m'_id'\u001b[0m \u001b[0;34m:\u001b[0m \u001b[0mdata\u001b[0m\u001b[0;34m.\u001b[0m\u001b[0mget\u001b[0m\u001b[0;34m(\u001b[0m\u001b[0;34m'id'\u001b[0m\u001b[0;34m,\u001b[0m \u001b[0mNone\u001b[0m\u001b[0;34m)\u001b[0m\u001b[0;34m,\u001b[0m\u001b[0;34m\u001b[0m\u001b[0m\n\u001b[0m\u001b[1;32m      4\u001b[0m         \u001b[0;34m'created_at'\u001b[0m \u001b[0;34m:\u001b[0m \u001b[0mdata\u001b[0m\u001b[0;34m.\u001b[0m\u001b[0mget\u001b[0m\u001b[0;34m(\u001b[0m\u001b[0;34m'created_at'\u001b[0m\u001b[0;34m,\u001b[0m \u001b[0mNone\u001b[0m\u001b[0;34m)\u001b[0m\u001b[0;34m,\u001b[0m\u001b[0;34m\u001b[0m\u001b[0m\n\u001b[1;32m      5\u001b[0m         \u001b[0;34m'user_id'\u001b[0m \u001b[0;34m:\u001b[0m \u001b[0mdata\u001b[0m\u001b[0;34m[\u001b[0m\u001b[0;34m'user'\u001b[0m\u001b[0;34m]\u001b[0m\u001b[0;34m[\u001b[0m\u001b[0;34m'screen_name'\u001b[0m\u001b[0;34m]\u001b[0m\u001b[0;34m,\u001b[0m\u001b[0;34m\u001b[0m\u001b[0m\n",
      "\u001b[0;31mAttributeError\u001b[0m: 'str' object has no attribute 'get'"
     ]
    }
   ],
   "source": [
    "parse_tweet(tweets)"
   ]
  },
  {
   "cell_type": "code",
   "execution_count": null,
   "metadata": {
    "collapsed": false
   },
   "outputs": [],
   "source": []
  },
  {
   "cell_type": "code",
   "execution_count": null,
   "metadata": {
    "collapsed": false
   },
   "outputs": [],
   "source": []
  },
  {
   "cell_type": "code",
   "execution_count": null,
   "metadata": {
    "collapsed": false,
    "scrolled": true
   },
   "outputs": [],
   "source": []
  },
  {
   "cell_type": "code",
   "execution_count": null,
   "metadata": {
    "collapsed": true
   },
   "outputs": [],
   "source": []
  },
  {
   "cell_type": "code",
   "execution_count": null,
   "metadata": {
    "collapsed": true
   },
   "outputs": [],
   "source": []
  },
  {
   "cell_type": "code",
   "execution_count": null,
   "metadata": {
    "collapsed": true
   },
   "outputs": [],
   "source": []
  },
  {
   "cell_type": "code",
   "execution_count": null,
   "metadata": {
    "collapsed": false
   },
   "outputs": [],
   "source": [
    "#  This data was collected through an online personality test billed as \"Dark Triad Personality Test\".\n",
    "\n",
    "# It was constructed with several scales, this data covers two of them:\n",
    "\n",
    "# 1. The Hyper Sensitive Narcissism Scale. Hendin, H.; & Cheek, J. (1997). \"Assessing Hypersensitive Narcissism: A Re-examination of Murray\\'s Narcissism Scale\". Journal of Research in Personality, 31, 588-599.\n",
    "# 2. The Dirty Dozen. Jonason, P.; Webster, G. (2010). \"The Dirty Dozen: A Concise Measure of the Dark Triad\". Psychological Assessment, 22(2), 420ñ432.\n",
    "\n",
    "# These two yielded the following items that were rated on a five point scale (1 labelled as \"Disagree\", 3 labelled as \"Neutral\", 5 labelled as \"Agree\"; 0 = missed)\n",
    "text =\"\"\"\n",
    "I can become entirely absorbed in thinking about my personal affairs, my health, my cares or my relations to others.\n",
    "My feelings are easily hurt by ridicule or the slighting remarks of others.\n",
    "When I enter a room I often become self conscious and feel that the eyes of others are upon me.\n",
    "I dislike sharing the credit of an achievement with others.\n",
    "I feel that I have enough on my hands without worrying about other people's troubles.\n",
    "I feel that I am temperamentally different from most people.\n",
    "I often interpret the remarks of others in a personal way.\n",
    "I easily become wrapped up in my own interests and forget the existence of others.\n",
    "I dislike being with a group unless I know that I am appreciated by at least one of those present.\n",
    "I am secretly \"put out\" or annoyed when other people come to me with their troubles, asking me for my time and sympathy.\n",
    "I tend to manipulate others to get my way.\n",
    "I have used deceit or lied to get my way.\n",
    "I have used flattery to get my way.\n",
    "I tend to exploit others towards my own end.\n",
    "I tend to lack remorse.\n",
    "I tend to not be too concerned with morality or the morality of my actions.\n",
    "I tend to be callous or insensitive.\n",
    "I tend to be cynical.\n",
    "I tend to want others to admire me.\n",
    "I tend to want others to pay attention to me.\n",
    "I tend to seek prestige or status.\n",
    "I tend to expect special favors from others.\n",
    "\"\"\"\n",
    "\n"
   ]
  },
  {
   "cell_type": "code",
   "execution_count": null,
   "metadata": {
    "collapsed": false
   },
   "outputs": [],
   "source": [
    "print text"
   ]
  },
  {
   "cell_type": "code",
   "execution_count": null,
   "metadata": {
    "collapsed": false
   },
   "outputs": [],
   "source": [
    "from nltk.corpus import stopwords\n",
    "\n",
    "stop = stopwords.words('english')\n",
    "words =  [i for i in text.split() if i not in stop]\n",
    "\n",
    "more_stop = ['I', 'tend', 'to', 'be', 'want']\n",
    "\n",
    "corpus = []\n",
    "\n",
    "for words in text:\n",
    "    lower_text = words.lower() #lowercase everything just in case\n",
    "    tokens = tokenizer.tokenize(lower_text)\n",
    "    tokens = [token for token in tokens if len(token) > 1 and type(token) != int and token not in more_stop]\n",
    "    corpus.append(tokens)\n"
   ]
  },
  {
   "cell_type": "code",
   "execution_count": null,
   "metadata": {
    "collapsed": false
   },
   "outputs": [],
   "source": [
    " \n"
   ]
  },
  {
   "cell_type": "code",
   "execution_count": null,
   "metadata": {
    "collapsed": false
   },
   "outputs": [],
   "source": [
    "more_stop = ['I', 'tend', 'to', 'be', 'want']\n",
    "\n",
    "corpus = []\n",
    "\n",
    "for i in new_bag:\n",
    "    words = [i for i in new_bag if i not in more_stop]\n",
    "    corpus.append(words)\n",
    "\n"
   ]
  },
  {
   "cell_type": "code",
   "execution_count": null,
   "metadata": {
    "collapsed": false
   },
   "outputs": [],
   "source": [
    "corpus"
   ]
  },
  {
   "cell_type": "code",
   "execution_count": null,
   "metadata": {
    "collapsed": false
   },
   "outputs": [],
   "source": []
  },
  {
   "cell_type": "code",
   "execution_count": null,
   "metadata": {
    "collapsed": true
   },
   "outputs": [],
   "source": []
  }
 ],
 "metadata": {
  "anaconda-cloud": {},
  "kernelspec": {
   "display_name": "Python [conda root]",
   "language": "python",
   "name": "conda-root-py"
  },
  "language_info": {
   "codemirror_mode": {
    "name": "ipython",
    "version": 2
   },
   "file_extension": ".py",
   "mimetype": "text/x-python",
   "name": "python",
   "nbconvert_exporter": "python",
   "pygments_lexer": "ipython2",
   "version": "2.7.12"
  }
 },
 "nbformat": 4,
 "nbformat_minor": 1
}
