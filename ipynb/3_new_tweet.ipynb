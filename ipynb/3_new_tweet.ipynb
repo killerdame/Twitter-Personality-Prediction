{
 "cells": [
  {
   "cell_type": "code",
   "execution_count": 3,
   "metadata": {
    "collapsed": true
   },
   "outputs": [],
   "source": [
    "import os\n",
    "os.chdir('../')"
   ]
  },
  {
   "cell_type": "code",
   "execution_count": 4,
   "metadata": {
    "collapsed": false
   },
   "outputs": [],
   "source": [
    "from lib.pull_tweets import get_twitter_client, get_user_tweets, get_texts_and_user\n",
    "import twitter, yaml\n",
    "import pandas as pd\n",
    "import seaborn as sns\n",
    "import csv\n",
    "import re\n",
    "from nltk.corpus import stopwords\n",
    "from unidecode import unidecode\n",
    "from lib.cleaning_module import clean_text\n",
    "import pickle\n",
    "from sklearn.neural_network import MLPClassifier\n",
    "from sklearn.feature_extraction.text import TfidfVectorizer\n",
    "from sklearn.decomposition import TruncatedSVD\n",
    "from sklearn.model_selection import train_test_split\n",
    "from sklearn.linear_model import LogisticRegression\n",
    "from sklearn.metrics import accuracy_score, precision_score, recall_score, confusion_matrix, classification_report, silhouette_score\n",
    "import sklearn.neural_network as nn\n",
    "from lib.general_model import general_model, build_vectorizer\n",
    "from lib.prediction_module import prediction_prob\n",
    "from sklearn.externals import joblib\n",
    "from tweepy import OAuthHandler\n",
    "import tweepy\n",
    "import matplotlib.pyplot as plt\n",
    "%matplotlib inline\n",
    "import numpy as np\n",
    "from sklearn.pipeline import Pipeline"
   ]
  },
  {
   "cell_type": "code",
   "execution_count": 5,
   "metadata": {
    "collapsed": true
   },
   "outputs": [],
   "source": [
    "access_key =  '823714388905336832-Vk8UvBNUR7VodGhHzdKEmK5GNs3ULxB'\n",
    "access_secret = 'XK86kGwlp4zwDzxYhYc2oHu0qJIE11uRp83Ex6TUg4JCg'\n",
    "consumer_token =  'N5dNhpdbhfLbn5Z94XyRVpr3I'\n",
    "consumer_secret = 'G8CfW44BA1mofPBh3bP0gRGp6hokuw5h3PlZCUkPRYMccyYznE'"
   ]
  },
  {
   "cell_type": "code",
   "execution_count": 6,
   "metadata": {
    "collapsed": true
   },
   "outputs": [],
   "source": [
    "def get_user_tweets(screen_name):\n",
    "\n",
    "    auth = OAuthHandler(consumer_token, consumer_secret)\n",
    "    auth.set_access_token(access_key, access_secret)\n",
    "    api = tweepy.API(auth)\n",
    "    \n",
    "    alltweets = []    \n",
    "    new_tweets = api.user_timeline(screen_name = screen_name,count=200)\n",
    "    alltweets.extend(new_tweets)\n",
    "    user=api.get_user(screen_name=screen_name)\n",
    "    oldest = alltweets[-1].id - 1\n",
    "    \n",
    "    while len(new_tweets) > 0:\n",
    "        new_tweets = api.user_timeline(screen_name = screen_name, count=200,max_id=oldest)\n",
    "        alltweets.extend(new_tweets)\n",
    "        oldest = alltweets[-1].id - 1\n",
    "    return alltweets"
   ]
  },
  {
   "cell_type": "code",
   "execution_count": 7,
   "metadata": {
    "collapsed": false
   },
   "outputs": [],
   "source": [
    "new_user_tweets = get_user_tweets('iamjamiefoxx')\n",
    "all_tw = pd.concat([pd.DataFrame([[i.user.screen_name, i.text]], \n",
    "                        columns=['user','text']) \n",
    "                        for i in new_user_tweets],axis=0).reset_index(drop=True)"
   ]
  },
  {
   "cell_type": "code",
   "execution_count": 8,
   "metadata": {
    "collapsed": false
   },
   "outputs": [],
   "source": [
    "tfid = joblib.load('data/pickles/tfid_1.pkl')\n",
    "svd = joblib.load('data/pickles/svd_1.pkl')\n",
    "mlpc = joblib.load('data/pickles/mlpc_2.pkl')"
   ]
  },
  {
   "cell_type": "code",
   "execution_count": 9,
   "metadata": {
    "collapsed": false
   },
   "outputs": [],
   "source": [
    "tfid = tfid.fit_transform(all_tw['text'])\n",
    "transformed_X = svd.fit_transform(tfid)\n",
    "all_proba = mlpc.predict_proba(transformed_X)"
   ]
  },
  {
   "cell_type": "code",
   "execution_count": 11,
   "metadata": {
    "collapsed": true
   },
   "outputs": [],
   "source": [
    "Archetypes = {  0 : 'The Innocent', \n",
    "                1 : 'The Everyperson', \n",
    "                2 : 'The Hero',\n",
    "                3 : 'The Nurturer',\n",
    "                4 : 'The Explorer',\n",
    "                5 : 'The Rebel',\n",
    "                6 : 'The Lover',\n",
    "                7 : 'The Creator',\n",
    "                8 : 'The Jester',\n",
    "                9 : 'The Sage',\n",
    "                10 : 'The Magician',\n",
    "                11 : 'The Ruler'}"
   ]
  },
  {
   "cell_type": "code",
   "execution_count": 12,
   "metadata": {
    "collapsed": false
   },
   "outputs": [],
   "source": [
    "inn_avg = np.mean([item[0] for item in all_proba])\n",
    "every_avg = np.mean([item[1] for item in all_proba])\n",
    "hero_avg = np.mean([item[2] for item in all_proba])\n",
    "nurt_avg = np.mean([item[3] for item in all_proba])\n",
    "exp_avg = np.mean([item[4] for item in all_proba])\n",
    "rebel_avg = np.mean([item[5] for item in all_proba])\n",
    "lover_avg = np.mean([item[6] for item in all_proba])\n",
    "creat_avg = np.mean([item[7] for item in all_proba])\n",
    "jest_avg = np.mean([item[8] for item in all_proba])\n",
    "sage_avg = np.mean([item[9] for item in all_proba])\n",
    "mag_avg = np.mean([item[10] for item in all_proba])\n",
    "ruler_avg = np.mean([item[11] for item in all_proba])\n",
    "all_tweet_avg = [inn_avg, every_avg, hero_avg, nurt_avg, exp_avg, rebel_avg, lover_avg, creat_avg, jest_avg, sage_avg, mag_avg, ruler_avg]"
   ]
  },
  {
   "cell_type": "code",
   "execution_count": 13,
   "metadata": {
    "collapsed": false
   },
   "outputs": [],
   "source": [
    "results = pd.DataFrame(zip([value for value in Archetypes.values()],  all_tweet_avg))\n",
    "results.rename(index=str, columns={0 : 'archetype', 1 : 'rank' }, inplace=True)\n",
    "results = results.sort_values(['rank'], ascending=True)\n",
    "results['percentage'] = pd.Series([round(val, 2) for val in results['rank']], index=results.index)\n",
    "results['percentage'] = pd.Series([\"{0:.2f}%\".format(val * 100) for val in results['rank']], index=results.index)"
   ]
  },
  {
   "cell_type": "code",
   "execution_count": 14,
   "metadata": {
    "collapsed": false
   },
   "outputs": [
    {
     "data": {
      "text/html": [
       "<div>\n",
       "<table border=\"1\" class=\"dataframe\">\n",
       "  <thead>\n",
       "    <tr style=\"text-align: right;\">\n",
       "      <th></th>\n",
       "      <th>archetype</th>\n",
       "      <th>rank</th>\n",
       "      <th>percentage</th>\n",
       "    </tr>\n",
       "  </thead>\n",
       "  <tbody>\n",
       "    <tr>\n",
       "      <th>5</th>\n",
       "      <td>The Rebel</td>\n",
       "      <td>0.039781</td>\n",
       "      <td>3.98%</td>\n",
       "    </tr>\n",
       "    <tr>\n",
       "      <th>7</th>\n",
       "      <td>The Creator</td>\n",
       "      <td>0.052564</td>\n",
       "      <td>5.26%</td>\n",
       "    </tr>\n",
       "    <tr>\n",
       "      <th>2</th>\n",
       "      <td>The Hero</td>\n",
       "      <td>0.059779</td>\n",
       "      <td>5.98%</td>\n",
       "    </tr>\n",
       "    <tr>\n",
       "      <th>11</th>\n",
       "      <td>The Ruler</td>\n",
       "      <td>0.073100</td>\n",
       "      <td>7.31%</td>\n",
       "    </tr>\n",
       "    <tr>\n",
       "      <th>3</th>\n",
       "      <td>The Nurturer</td>\n",
       "      <td>0.073345</td>\n",
       "      <td>7.33%</td>\n",
       "    </tr>\n",
       "    <tr>\n",
       "      <th>6</th>\n",
       "      <td>The Lover</td>\n",
       "      <td>0.075084</td>\n",
       "      <td>7.51%</td>\n",
       "    </tr>\n",
       "    <tr>\n",
       "      <th>1</th>\n",
       "      <td>The Everyperson</td>\n",
       "      <td>0.075922</td>\n",
       "      <td>7.59%</td>\n",
       "    </tr>\n",
       "    <tr>\n",
       "      <th>0</th>\n",
       "      <td>The Innocent</td>\n",
       "      <td>0.081014</td>\n",
       "      <td>8.10%</td>\n",
       "    </tr>\n",
       "    <tr>\n",
       "      <th>4</th>\n",
       "      <td>The Explorer</td>\n",
       "      <td>0.083585</td>\n",
       "      <td>8.36%</td>\n",
       "    </tr>\n",
       "    <tr>\n",
       "      <th>9</th>\n",
       "      <td>The Sage</td>\n",
       "      <td>0.084105</td>\n",
       "      <td>8.41%</td>\n",
       "    </tr>\n",
       "    <tr>\n",
       "      <th>10</th>\n",
       "      <td>The Magician</td>\n",
       "      <td>0.094873</td>\n",
       "      <td>9.49%</td>\n",
       "    </tr>\n",
       "    <tr>\n",
       "      <th>8</th>\n",
       "      <td>The Jester</td>\n",
       "      <td>0.206850</td>\n",
       "      <td>20.68%</td>\n",
       "    </tr>\n",
       "  </tbody>\n",
       "</table>\n",
       "</div>"
      ],
      "text/plain": [
       "          archetype      rank percentage\n",
       "5         The Rebel  0.039781      3.98%\n",
       "7       The Creator  0.052564      5.26%\n",
       "2          The Hero  0.059779      5.98%\n",
       "11        The Ruler  0.073100      7.31%\n",
       "3      The Nurturer  0.073345      7.33%\n",
       "6         The Lover  0.075084      7.51%\n",
       "1   The Everyperson  0.075922      7.59%\n",
       "0      The Innocent  0.081014      8.10%\n",
       "4      The Explorer  0.083585      8.36%\n",
       "9          The Sage  0.084105      8.41%\n",
       "10     The Magician  0.094873      9.49%\n",
       "8        The Jester  0.206850     20.68%"
      ]
     },
     "execution_count": 14,
     "metadata": {},
     "output_type": "execute_result"
    }
   ],
   "source": [
    "results"
   ]
  },
  {
   "cell_type": "code",
   "execution_count": 20,
   "metadata": {
    "collapsed": false
   },
   "outputs": [
    {
     "data": {
      "text/plain": [
       "<matplotlib.text.Text at 0x11dc30110>"
      ]
     },
     "execution_count": 20,
     "metadata": {},
     "output_type": "execute_result"
    },
    {
     "data": {
      "image/png": "[encoded data removed]",
      "text/plain": [
       "<matplotlib.figure.Figure at 0x11dae2790>"
      ]
     },
     "metadata": {},
     "output_type": "display_data"
    }
   ],
   "source": [
    "color = sns.cubehelix_palette(n_colors=12)\n",
    "g = sns.barplot(x=results['archetype'], y=results['rank'], palette=color)\n",
    "g.set_xticklabels(results['archetype'], rotation='vertical')\n",
    "g.axes.set_title('Jamie Foxx', fontsize=20)"
   ]
  }
 ],
 "metadata": {
  "anaconda-cloud": {},
  "kernelspec": {
   "display_name": "Python [conda root]",
   "language": "python",
   "name": "conda-root-py"
  },
  "language_info": {
   "codemirror_mode": {
    "name": "ipython",
    "version": 2
   },
   "file_extension": ".py",
   "mimetype": "text/x-python",
   "name": "python",
   "nbconvert_exporter": "python",
   "pygments_lexer": "ipython2",
   "version": "2.7.12"
  }
 },
 "nbformat": 4,
 "nbformat_minor": 1
}
