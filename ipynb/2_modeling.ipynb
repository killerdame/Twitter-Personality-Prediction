{
 "cells": [
  {
   "cell_type": "code",
   "execution_count": 1,
   "metadata": {
    "collapsed": true
   },
   "outputs": [],
   "source": [
    "import os\n",
    "os.chdir('../')"
   ]
  },
  {
   "cell_type": "code",
   "execution_count": 2,
   "metadata": {
    "collapsed": false
   },
   "outputs": [],
   "source": [
    "import seaborn as sns\n",
    "import pandas as pd\n",
    "import numpy as np\n",
    "import matplotlib.pyplot as plt\n",
    "%matplotlib inline\n",
    "import pickle\n",
    "from sklearn.externals import joblib\n",
    "from sklearn.neural_network import MLPClassifier\n",
    "from sklearn.preprocessing import LabelEncoder\n",
    "from sklearn.feature_extraction.text import TfidfVectorizer\n",
    "from sklearn.decomposition import TruncatedSVD\n",
    "from sklearn.model_selection import train_test_split\n",
    "from sklearn.linear_model import LogisticRegression\n",
    "from sklearn.tree import DecisionTreeClassifier\n",
    "from sklearn.naive_bayes import GaussianNB \n",
    "from sklearn.neighbors import KNeighborsClassifier\n",
    "from sklearn.ensemble import ExtraTreesClassifier, RandomForestClassifier\n",
    "from sklearn.metrics import accuracy_score, precision_score, recall_score, confusion_matrix, classification_report\n",
    "import sklearn.neural_network as nn\n",
    "from lib.general_model import general_model\n",
    "from lib.prediction_module import prediction_prob"
   ]
  },
  {
   "cell_type": "markdown",
   "metadata": {},
   "source": [
    "#### Vectorize and Transform Model"
   ]
  },
  {
   "cell_type": "markdown",
   "metadata": {},
   "source": [
    "Importing pickled data and vectorizing the text of each tweet for each user using the a term frequency–inverse document frequency vectorizer (TfidfVectorizer).  Then TruncatedSVD is used to reduce the feature dementionality to 500."
   ]
  },
  {
   "cell_type": "code",
   "execution_count": 3,
   "metadata": {
    "collapsed": false
   },
   "outputs": [
    {
     "ename": "IOError",
     "evalue": "[Errno 2] No such file or directory: 'data/pickles/all_tweets1_df.pkl'",
     "output_type": "error",
     "traceback": [
      "\u001b[0;31m---------------------------------------------------------------------------\u001b[0m",
      "\u001b[0;31mIOError\u001b[0m                                   Traceback (most recent call last)",
      "\u001b[0;32m<ipython-input-3-9498cad10a1f>\u001b[0m in \u001b[0;36m<module>\u001b[0;34m()\u001b[0m\n\u001b[0;32m----> 1\u001b[0;31m \u001b[0mraw_data1\u001b[0m \u001b[0;34m=\u001b[0m \u001b[0mpd\u001b[0m\u001b[0;34m.\u001b[0m\u001b[0mread_pickle\u001b[0m\u001b[0;34m(\u001b[0m\u001b[0;34m'data/pickles/all_tweets1_df.pkl'\u001b[0m\u001b[0;34m)\u001b[0m\u001b[0;34m\u001b[0m\u001b[0m\n\u001b[0m\u001b[1;32m      2\u001b[0m \u001b[0mraw_data1\u001b[0m\u001b[0;34m.\u001b[0m\u001b[0mhead\u001b[0m\u001b[0;34m(\u001b[0m\u001b[0;34m)\u001b[0m\u001b[0;34m\u001b[0m\u001b[0m\n",
      "\u001b[0;32m/Users/kdgulko/anaconda/lib/python2.7/site-packages/pandas/io/pickle.pyc\u001b[0m in \u001b[0;36mread_pickle\u001b[0;34m(path)\u001b[0m\n\u001b[1;32m     63\u001b[0m \u001b[0;34m\u001b[0m\u001b[0m\n\u001b[1;32m     64\u001b[0m     \u001b[0;32mtry\u001b[0m\u001b[0;34m:\u001b[0m\u001b[0;34m\u001b[0m\u001b[0m\n\u001b[0;32m---> 65\u001b[0;31m         \u001b[0;32mreturn\u001b[0m \u001b[0mtry_read\u001b[0m\u001b[0;34m(\u001b[0m\u001b[0mpath\u001b[0m\u001b[0;34m)\u001b[0m\u001b[0;34m\u001b[0m\u001b[0m\n\u001b[0m\u001b[1;32m     66\u001b[0m     \u001b[0;32mexcept\u001b[0m\u001b[0;34m:\u001b[0m\u001b[0;34m\u001b[0m\u001b[0m\n\u001b[1;32m     67\u001b[0m         \u001b[0;32mif\u001b[0m \u001b[0mPY3\u001b[0m\u001b[0;34m:\u001b[0m\u001b[0;34m\u001b[0m\u001b[0m\n",
      "\u001b[0;32m/Users/kdgulko/anaconda/lib/python2.7/site-packages/pandas/io/pickle.pyc\u001b[0m in \u001b[0;36mtry_read\u001b[0;34m(path, encoding)\u001b[0m\n\u001b[1;32m     59\u001b[0m             \u001b[0;31m# compat pickle\u001b[0m\u001b[0;34m\u001b[0m\u001b[0;34m\u001b[0m\u001b[0m\n\u001b[1;32m     60\u001b[0m             \u001b[0;32mexcept\u001b[0m\u001b[0;34m:\u001b[0m\u001b[0;34m\u001b[0m\u001b[0m\n\u001b[0;32m---> 61\u001b[0;31m                 \u001b[0;32mwith\u001b[0m \u001b[0mopen\u001b[0m\u001b[0;34m(\u001b[0m\u001b[0mpath\u001b[0m\u001b[0;34m,\u001b[0m \u001b[0;34m'rb'\u001b[0m\u001b[0;34m)\u001b[0m \u001b[0;32mas\u001b[0m \u001b[0mfh\u001b[0m\u001b[0;34m:\u001b[0m\u001b[0;34m\u001b[0m\u001b[0m\n\u001b[0m\u001b[1;32m     62\u001b[0m                     \u001b[0;32mreturn\u001b[0m \u001b[0mpc\u001b[0m\u001b[0;34m.\u001b[0m\u001b[0mload\u001b[0m\u001b[0;34m(\u001b[0m\u001b[0mfh\u001b[0m\u001b[0;34m,\u001b[0m \u001b[0mencoding\u001b[0m\u001b[0;34m=\u001b[0m\u001b[0mencoding\u001b[0m\u001b[0;34m,\u001b[0m \u001b[0mcompat\u001b[0m\u001b[0;34m=\u001b[0m\u001b[0mTrue\u001b[0m\u001b[0;34m)\u001b[0m\u001b[0;34m\u001b[0m\u001b[0m\n\u001b[1;32m     63\u001b[0m \u001b[0;34m\u001b[0m\u001b[0m\n",
      "\u001b[0;31mIOError\u001b[0m: [Errno 2] No such file or directory: 'data/pickles/all_tweets1_df.pkl'"
     ]
    }
   ],
   "source": [
    "raw_data1 = pd.read_pickle('data/pickles/all_tweets1_df.pkl')\n",
    "raw_data1.head()"
   ]
  },
  {
   "cell_type": "code",
   "execution_count": 4,
   "metadata": {
    "collapsed": false
   },
   "outputs": [],
   "source": [
    "tfid_1 = TfidfVectorizer(stop_words='english', decode_error='replace', use_idf=True, max_df=2.0)\n",
    "tfid_trans_1 = tfid_1.fit_transform(raw_data1['text'])"
   ]
  },
  {
   "cell_type": "code",
   "execution_count": 5,
   "metadata": {
    "collapsed": false
   },
   "outputs": [],
   "source": [
    "joblib.dump(tfid_1, \"tfid_1.pkl\")\n",
    "from_pkl_cls = joblib.load(\"tfid_1.pkl\")"
   ]
  },
  {
   "cell_type": "code",
   "execution_count": 6,
   "metadata": {
    "collapsed": false
   },
   "outputs": [],
   "source": [
    "svd_1 = TruncatedSVD(n_components=500, n_iter=100)\n",
    "transformed_X = pd.DataFrame(svd_1.fit_transform(tfid_trans_1))"
   ]
  },
  {
   "cell_type": "code",
   "execution_count": 7,
   "metadata": {
    "collapsed": false
   },
   "outputs": [],
   "source": [
    "joblib.dump(svd_1, \"svd_1.pkl\")\n",
    "from_pkl_cls = joblib.load(\"svd_1.pkl\")"
   ]
  },
  {
   "cell_type": "code",
   "execution_count": 8,
   "metadata": {
    "collapsed": false,
    "scrolled": true
   },
   "outputs": [
    {
     "data": {
      "image/png": "[encoded data removed]",
      "text/plain": [
       "<matplotlib.figure.Figure at 0x11404d610>"
      ]
     },
     "metadata": {},
     "output_type": "display_data"
    }
   ],
   "source": [
    "x = range(500)\n",
    "plt.plot(x, np.cumsum(svd_1.explained_variance_ratio_), color='black')\n",
    "plt.ylim(0, 0.3)\n",
    "\n",
    "plt.xlabel('SVD components')\n",
    "plt.ylabel('Explained Variance')\n",
    "plt.show()"
   ]
  },
  {
   "cell_type": "markdown",
   "metadata": {},
   "source": [
    "#### Label Encode Target and Train Test Split"
   ]
  },
  {
   "cell_type": "code",
   "execution_count": 9,
   "metadata": {
    "collapsed": false
   },
   "outputs": [],
   "source": [
    "y = raw_data1['user']\n",
    "X = transformed_X "
   ]
  },
  {
   "cell_type": "code",
   "execution_count": 10,
   "metadata": {
    "collapsed": false
   },
   "outputs": [],
   "source": [
    "le = LabelEncoder()\n",
    "y = le.fit_transform(y)"
   ]
  },
  {
   "cell_type": "code",
   "execution_count": 11,
   "metadata": {
    "collapsed": false
   },
   "outputs": [],
   "source": [
    "X_train, X_test, y_train, y_test = train_test_split(X, y, test_size=.3, random_state=50 )\n",
    "data_dict = {\n",
    "             'X_test' : X_test,\n",
    "             'X_train' : X_train,\n",
    "             'y_test' : y_test,\n",
    "             'y_train' : y_train} "
   ]
  },
  {
   "cell_type": "code",
   "execution_count": 29,
   "metadata": {
    "collapsed": true
   },
   "outputs": [],
   "source": [
    "def evaluate_model(model):\n",
    "    model.fit(X_train, y_train)\n",
    "    \n",
    "    y_pred = model.predict(X_test)\n",
    "    \n",
    "    a = accuracy_score(y_test, y_pred)\n",
    "    cm = confusion_matrix(y_test, y_pred)\n",
    "    cr = classification_report(y_test, y_pred)\n",
    "    \n",
    "    print cm\n",
    "    print cr\n",
    "    return a"
   ]
  },
  {
   "cell_type": "markdown",
   "metadata": {},
   "source": [
    "#### Logistic Regression"
   ]
  },
  {
   "cell_type": "code",
   "execution_count": 30,
   "metadata": {
    "collapsed": false,
    "scrolled": true
   },
   "outputs": [],
   "source": [
    "log_reg = LogisticRegression(penalty='l2', C=1)"
   ]
  },
  {
   "cell_type": "code",
   "execution_count": 31,
   "metadata": {
    "collapsed": false
   },
   "outputs": [
    {
     "name": "stdout",
     "output_type": "stream",
     "text": [
      "[[869  11  11   7   2  25   6  16   0   3   7  22]\n",
      " [  4 601 104  36  16 104   7  28   1  26  14  11]\n",
      " [  3  41 662  18  19 100  19  51   0   9  13  44]\n",
      " [ 22  51  46 601   6  57  11  45   1  17  89   8]\n",
      " [  3  21  23  12 732  28  18  64   0  21  14  18]\n",
      " [  5  58 120  23  19 621  10  85   0  10  24  31]\n",
      " [  6  20  11  19  21  20 580  99   1  14  19  37]\n",
      " [  7  32 104  32  26  98  42 532   0  20  20  60]\n",
      " [  1   6  48  10   0   5   0   8 825   9  16  13]\n",
      " [  3  22  70  19  14  53   6  56   0 667  19  30]\n",
      " [ 24   8  35  70   5  25  22  12   0  11 732   4]\n",
      " [ 12  17  36  26  12  38  31  70   0  13  15 681]]\n",
      "             precision    recall  f1-score   support\n",
      "\n",
      "          0       0.91      0.89      0.90       979\n",
      "          1       0.68      0.63      0.65       952\n",
      "          2       0.52      0.68      0.59       979\n",
      "          3       0.69      0.63      0.66       954\n",
      "          4       0.84      0.77      0.80       954\n",
      "          5       0.53      0.62      0.57      1006\n",
      "          6       0.77      0.68      0.73       847\n",
      "          7       0.50      0.55      0.52       973\n",
      "          8       1.00      0.88      0.93       941\n",
      "          9       0.81      0.70      0.75       959\n",
      "         10       0.75      0.77      0.76       948\n",
      "         11       0.71      0.72      0.71       951\n",
      "\n",
      "avg / total       0.72      0.71      0.71     11443\n",
      "\n"
     ]
    },
    {
     "data": {
      "text/plain": [
       "0.70811850039325352"
      ]
     },
     "execution_count": 31,
     "metadata": {},
     "output_type": "execute_result"
    }
   ],
   "source": [
    "evaluate_model(log_reg)"
   ]
  },
  {
   "cell_type": "markdown",
   "metadata": {
    "collapsed": false
   },
   "source": [
    "#### Decision Trees"
   ]
  },
  {
   "cell_type": "code",
   "execution_count": 15,
   "metadata": {
    "collapsed": false
   },
   "outputs": [
    {
     "name": "stdout",
     "output_type": "stream",
     "text": [
      "[[697  18  28  34  25  31  20  23   3  18  40  42]\n",
      " [ 15 456  97  62  34  94  36  62   9  31  25  31]\n",
      " [ 27  81 409  58  40 110  32  84   8  36  39  55]\n",
      " [ 40  73  64 332  47  69  54  60  14  28 141  32]\n",
      " [ 23  41  39  44 513  36  45  82   2  35  43  51]\n",
      " [ 43 107 129  77  51 319  35  88   8  42  49  58]\n",
      " [ 27  37  52  41  61  49 361  83   7  36  37  56]\n",
      " [ 25  58  90  68  70  81  77 325   6  62  46  65]\n",
      " [  8  11  33  12   0  11   8   8 830   6   4  10]\n",
      " [ 17  56  51  31  37  53  30  53   7 563  26  35]\n",
      " [ 31  36  39 144  41  46  38  44   4  29 469  27]\n",
      " [ 34  35  56  39  47  66  49  99   7  38  28 453]]\n",
      "             precision    recall  f1-score   support\n",
      "\n",
      "          0       0.71      0.71      0.71       979\n",
      "          1       0.45      0.48      0.47       952\n",
      "          2       0.38      0.42      0.40       979\n",
      "          3       0.35      0.35      0.35       954\n",
      "          4       0.53      0.54      0.53       954\n",
      "          5       0.33      0.32      0.32      1006\n",
      "          6       0.46      0.43      0.44       847\n",
      "          7       0.32      0.33      0.33       973\n",
      "          8       0.92      0.88      0.90       941\n",
      "          9       0.61      0.59      0.60       959\n",
      "         10       0.50      0.49      0.49       948\n",
      "         11       0.50      0.48      0.49       951\n",
      "\n",
      "avg / total       0.50      0.50      0.50     11443\n",
      "\n"
     ]
    },
    {
     "data": {
      "text/plain": [
       "0.50048064318797514"
      ]
     },
     "execution_count": 15,
     "metadata": {},
     "output_type": "execute_result"
    }
   ],
   "source": [
    "dec_tree = DecisionTreeClassifier(criterion='gini',max_depth=None, min_samples_split=3)\n",
    "evaluate_model(dec_tree)"
   ]
  },
  {
   "cell_type": "markdown",
   "metadata": {},
   "source": [
    "#### Random Forest"
   ]
  },
  {
   "cell_type": "code",
   "execution_count": 16,
   "metadata": {
    "collapsed": false
   },
   "outputs": [
    {
     "name": "stdout",
     "output_type": "stream",
     "text": [
      "[[854  13  15  22   2  20   7  14   0   4  10  18]\n",
      " [  8 547  55  70  31 155  10  26   2  14  23  11]\n",
      " [ 17  58 532  50  29 142  15  70   1   7  26  32]\n",
      " [ 22  38  35 527  23  84  24  37   2  10 139  13]\n",
      " [ 13  19   9  36 681  29  31  61   1  12  28  34]\n",
      " [ 26  72  93  45  42 550  17  68   1   5  44  43]\n",
      " [ 22  16  15  28  44  28 526  75   7   6  32  48]\n",
      " [ 19  36  81  50  53 122  62 455   2  15  28  50]\n",
      " [  6   6  35  10   0  14   1   6 849   3   9   2]\n",
      " [  4  18  38  26  21  69  25  44   3 655  30  26]\n",
      " [ 27  17  13 115  27  37  33  13   1   6 654   5]\n",
      " [ 37  20  31  33  36  44  43  57   0   8  21 621]]\n",
      "             precision    recall  f1-score   support\n",
      "\n",
      "          0       0.81      0.87      0.84       979\n",
      "          1       0.64      0.57      0.60       952\n",
      "          2       0.56      0.54      0.55       979\n",
      "          3       0.52      0.55      0.54       954\n",
      "          4       0.69      0.71      0.70       954\n",
      "          5       0.43      0.55      0.48      1006\n",
      "          6       0.66      0.62      0.64       847\n",
      "          7       0.49      0.47      0.48       973\n",
      "          8       0.98      0.90      0.94       941\n",
      "          9       0.88      0.68      0.77       959\n",
      "         10       0.63      0.69      0.66       948\n",
      "         11       0.69      0.65      0.67       951\n",
      "\n",
      "avg / total       0.66      0.65      0.65     11443\n",
      "\n"
     ]
    },
    {
     "data": {
      "text/plain": [
       "0.65114043520055931"
      ]
     },
     "execution_count": 16,
     "metadata": {},
     "output_type": "execute_result"
    }
   ],
   "source": [
    "rand_for = RandomForestClassifier(n_estimators=50, min_samples_split=7, criterion='gini')\n",
    "evaluate_model(rand_for)"
   ]
  },
  {
   "cell_type": "markdown",
   "metadata": {},
   "source": [
    "#### K Neighbors "
   ]
  },
  {
   "cell_type": "code",
   "execution_count": 17,
   "metadata": {
    "collapsed": false
   },
   "outputs": [
    {
     "name": "stdout",
     "output_type": "stream",
     "text": [
      "[[737  15  22  14   5  31  41  32   6  31  22  23]\n",
      " [  5 470  90  40  20 115  43  62   5  62  10  30]\n",
      " [  6  60 558  25  28  86  28  82   9  48   9  40]\n",
      " [ 14  54  69 345  23  78  57  99  16  74  59  66]\n",
      " [  4  31  36  16 546  57  77  79   5  54   8  41]\n",
      " [ 12  74 118  33  41 421  46 120  11  64  16  50]\n",
      " [  4  25  31  13  18  36 494  89  12  58   6  61]\n",
      " [  8  43 112  15  31 113  66 446   5  58  10  66]\n",
      " [  0   6  44   9   2  10   6   8 836  11   2   7]\n",
      " [  3  22  49  12   7  49  12  42  14 702  10  37]\n",
      " [ 17  34  46  71  25  50  56  48  12  63 485  41]\n",
      " [  4  29  52  19  16  39  48  77   6  50   5 606]]\n",
      "             precision    recall  f1-score   support\n",
      "\n",
      "          0       0.91      0.75      0.82       979\n",
      "          1       0.54      0.49      0.52       952\n",
      "          2       0.45      0.57      0.51       979\n",
      "          3       0.56      0.36      0.44       954\n",
      "          4       0.72      0.57      0.64       954\n",
      "          5       0.39      0.42      0.40      1006\n",
      "          6       0.51      0.58      0.54       847\n",
      "          7       0.38      0.46      0.41       973\n",
      "          8       0.89      0.89      0.89       941\n",
      "          9       0.55      0.73      0.63       959\n",
      "         10       0.76      0.51      0.61       948\n",
      "         11       0.57      0.64      0.60       951\n",
      "\n",
      "avg / total       0.60      0.58      0.58     11443\n",
      "\n"
     ]
    },
    {
     "data": {
      "text/plain": [
       "0.58079175041510089"
      ]
     },
     "execution_count": 17,
     "metadata": {},
     "output_type": "execute_result"
    }
   ],
   "source": [
    "knn = KNeighborsClassifier(n_neighbors=5, weights='distance', algorithm='brute')\n",
    "evaluate_model(knn)"
   ]
  },
  {
   "cell_type": "markdown",
   "metadata": {},
   "source": [
    "#### Extra Trees"
   ]
  },
  {
   "cell_type": "code",
   "execution_count": 18,
   "metadata": {
    "collapsed": false
   },
   "outputs": [
    {
     "name": "stdout",
     "output_type": "stream",
     "text": [
      "[[855  16  14  15   3  22  10  10   1   5  13  15]\n",
      " [ 14 545  69  57  38 109  18  35   2  16  24  25]\n",
      " [ 29  77 534  40  33 100  12  66   0  24  35  29]\n",
      " [ 49  61  39 501  33  64  25  43   1  15 113  10]\n",
      " [ 18  31  16  31 669  23  37  70   1   9  25  24]\n",
      " [ 29  88 116  72  52 458  20  73   0  17  35  46]\n",
      " [ 25  25  24  46  36  32 511  63   2  19  23  41]\n",
      " [ 30  48 100  49  48 101  66 421   0  20  21  69]\n",
      " [  7   5  39   7   0   9   3   5 853   3   5   5]\n",
      " [  8  21  44  27  27  54  19  44   3 668  17  27]\n",
      " [ 43  23  22 125  29  29  29  15   0  11 606  16]\n",
      " [ 44  24  25  36  32  37  41  66   3  14  21 608]]\n",
      "             precision    recall  f1-score   support\n",
      "\n",
      "          0       0.74      0.87      0.80       979\n",
      "          1       0.57      0.57      0.57       952\n",
      "          2       0.51      0.55      0.53       979\n",
      "          3       0.50      0.53      0.51       954\n",
      "          4       0.67      0.70      0.68       954\n",
      "          5       0.44      0.46      0.45      1006\n",
      "          6       0.65      0.60      0.62       847\n",
      "          7       0.46      0.43      0.45       973\n",
      "          8       0.98      0.91      0.94       941\n",
      "          9       0.81      0.70      0.75       959\n",
      "         10       0.65      0.64      0.64       948\n",
      "         11       0.66      0.64      0.65       951\n",
      "\n",
      "avg / total       0.64      0.63      0.63     11443\n",
      "\n"
     ]
    },
    {
     "data": {
      "text/plain": [
       "0.6317399283404701"
      ]
     },
     "execution_count": 18,
     "metadata": {},
     "output_type": "execute_result"
    }
   ],
   "source": [
    "ext_tree = ExtraTreesClassifier(n_estimators=50, criterion='entropy')\n",
    "evaluate_model(ext_tree)"
   ]
  },
  {
   "cell_type": "markdown",
   "metadata": {},
   "source": [
    "#### Naive Bayes"
   ]
  },
  {
   "cell_type": "code",
   "execution_count": 19,
   "metadata": {
    "collapsed": false
   },
   "outputs": [
    {
     "name": "stdout",
     "output_type": "stream",
     "text": [
      "[[682   7  31  25   7   4  31  21  28  87  15  41]\n",
      " [ 61 262  42  73  82  38  38  23  23 272  23  15]\n",
      " [ 44  21 224  60  94  32  53  29  33 328  46  15]\n",
      " [ 70  22  45 291  53  34  63  32  43 193  93  15]\n",
      " [ 30  14  46  46 488  29  52  24  40 158  17  10]\n",
      " [ 53  31  69  84  93 139  63  45  45 323  47  14]\n",
      " [ 44   9  21  45  42  18 361  21  32 218  24  12]\n",
      " [ 64  20  48  54  53  39  55 180  45 358  40  17]\n",
      " [ 60   0   9  11   2   3   6   5 716  92  29   8]\n",
      " [ 45  20  16  40  41  14  34  14  31 675  18  11]\n",
      " [ 77   9  36  69  42  20  33  25  43 127 444  23]\n",
      " [ 72  16  24  33  39  15  53  32  34 268  41 324]]\n",
      "             precision    recall  f1-score   support\n",
      "\n",
      "          0       0.52      0.70      0.60       979\n",
      "          1       0.61      0.28      0.38       952\n",
      "          2       0.37      0.23      0.28       979\n",
      "          3       0.35      0.31      0.33       954\n",
      "          4       0.47      0.51      0.49       954\n",
      "          5       0.36      0.14      0.20      1006\n",
      "          6       0.43      0.43      0.43       847\n",
      "          7       0.40      0.18      0.25       973\n",
      "          8       0.64      0.76      0.70       941\n",
      "          9       0.22      0.70      0.33       959\n",
      "         10       0.53      0.47      0.50       948\n",
      "         11       0.64      0.34      0.45       951\n",
      "\n",
      "avg / total       0.46      0.42      0.41     11443\n",
      "\n"
     ]
    },
    {
     "data": {
      "text/plain": [
       "0.41824696320894872"
      ]
     },
     "execution_count": 19,
     "metadata": {},
     "output_type": "execute_result"
    }
   ],
   "source": [
    "gnb = GaussianNB()\n",
    "evaluate_model(gnb)"
   ]
  },
  {
   "cell_type": "markdown",
   "metadata": {},
   "source": [
    "#### Multi-Layer Perceptron Neural Network "
   ]
  },
  {
   "cell_type": "code",
   "execution_count": 20,
   "metadata": {
    "collapsed": false
   },
   "outputs": [
    {
     "name": "stdout",
     "output_type": "stream",
     "text": [
      "Iteration 1, loss = 2.47272912\n",
      "Iteration 2, loss = 2.43040224\n",
      "Iteration 3, loss = 2.37460740\n",
      "Iteration 4, loss = 2.29218334\n",
      "Iteration 5, loss = 2.17589046\n",
      "Iteration 6, loss = 2.02877012\n",
      "Iteration 7, loss = 1.86750860\n",
      "Iteration 8, loss = 1.70592183\n",
      "Iteration 9, loss = 1.55634979\n",
      "Iteration 10, loss = 1.42647260\n",
      "Iteration 11, loss = 1.31847890\n",
      "Iteration 12, loss = 1.23053203\n",
      "Iteration 13, loss = 1.15941204\n",
      "Iteration 14, loss = 1.10236429\n",
      "Iteration 15, loss = 1.05527471\n",
      "Iteration 16, loss = 1.01750860\n",
      "Iteration 17, loss = 0.98486424\n",
      "Iteration 18, loss = 0.95839533\n",
      "Iteration 19, loss = 0.93550660\n",
      "Iteration 20, loss = 0.91539992\n",
      "Iteration 21, loss = 0.89889614\n",
      "Iteration 22, loss = 0.88416615\n",
      "Iteration 23, loss = 0.87141349\n",
      "Iteration 24, loss = 0.85940239\n",
      "Iteration 25, loss = 0.84907479\n",
      "Iteration 26, loss = 0.84005125\n",
      "Iteration 27, loss = 0.83164398\n",
      "Iteration 28, loss = 0.82406116\n",
      "Iteration 29, loss = 0.81704469\n",
      "Iteration 30, loss = 0.81058497\n",
      "Iteration 31, loss = 0.80531054\n",
      "Iteration 32, loss = 0.80034477\n",
      "Iteration 33, loss = 0.79506913\n",
      "Iteration 34, loss = 0.79067132\n",
      "Iteration 35, loss = 0.78651396\n",
      "Iteration 36, loss = 0.78238783\n",
      "Iteration 37, loss = 0.77907479\n",
      "Iteration 38, loss = 0.77613048\n",
      "Iteration 39, loss = 0.77252917\n",
      "Iteration 40, loss = 0.76948395\n",
      "Iteration 41, loss = 0.76601091\n",
      "Iteration 42, loss = 0.76397911\n",
      "Iteration 43, loss = 0.76132523\n",
      "Iteration 44, loss = 0.75875289\n",
      "Iteration 45, loss = 0.75633451\n",
      "Iteration 46, loss = 0.75408519\n",
      "Iteration 47, loss = 0.75209859\n",
      "Iteration 48, loss = 0.75029397\n",
      "Iteration 49, loss = 0.74819749\n",
      "Iteration 50, loss = 0.74665960\n",
      "Iteration 51, loss = 0.74482038\n",
      "Iteration 52, loss = 0.74353243\n",
      "Iteration 53, loss = 0.74137552\n",
      "Iteration 54, loss = 0.74010909\n",
      "Iteration 55, loss = 0.73801372\n",
      "Iteration 56, loss = 0.73703585\n",
      "Iteration 57, loss = 0.73580838\n",
      "Iteration 58, loss = 0.73453145\n",
      "Iteration 59, loss = 0.73254880\n",
      "Iteration 60, loss = 0.73161911\n",
      "Iteration 61, loss = 0.73063651\n",
      "Iteration 62, loss = 0.72982660\n",
      "Iteration 63, loss = 0.72802679\n",
      "Iteration 64, loss = 0.72719415\n",
      "Iteration 65, loss = 0.72646470\n",
      "Iteration 66, loss = 0.72508949\n",
      "Iteration 67, loss = 0.72413508\n",
      "Iteration 68, loss = 0.72323712\n",
      "Iteration 69, loss = 0.72204122\n",
      "Iteration 70, loss = 0.72099281\n",
      "Iteration 71, loss = 0.72022052\n",
      "Iteration 72, loss = 0.71926499\n",
      "Iteration 73, loss = 0.71813343\n",
      "Iteration 74, loss = 0.71776483\n",
      "Iteration 75, loss = 0.71679689\n",
      "Iteration 76, loss = 0.71616053\n",
      "Iteration 77, loss = 0.71540513\n",
      "Iteration 78, loss = 0.71453868\n",
      "Iteration 79, loss = 0.71365254\n",
      "Iteration 80, loss = 0.71330663\n",
      "Iteration 81, loss = 0.71242338\n",
      "Iteration 82, loss = 0.71159408\n",
      "Iteration 83, loss = 0.71155963\n",
      "Iteration 84, loss = 0.71067047\n",
      "Iteration 85, loss = 0.70971305\n",
      "Iteration 86, loss = 0.70879480\n",
      "Iteration 87, loss = 0.70850024\n",
      "Iteration 88, loss = 0.70807761\n",
      "Iteration 89, loss = 0.70728416\n",
      "Iteration 90, loss = 0.70660595\n",
      "Iteration 91, loss = 0.70633045\n",
      "Iteration 92, loss = 0.70532875\n",
      "Iteration 93, loss = 0.70487454\n",
      "Iteration 94, loss = 0.70446406\n",
      "Iteration 95, loss = 0.70404164\n",
      "Iteration 96, loss = 0.70318921\n",
      "Iteration 97, loss = 0.70289451\n",
      "Iteration 98, loss = 0.70245685\n",
      "Iteration 99, loss = 0.70211767\n",
      "Iteration 100, loss = 0.70184891\n",
      "Iteration 101, loss = 0.70106555\n",
      "Iteration 102, loss = 0.70051417\n",
      "Iteration 103, loss = 0.69976934\n",
      "Iteration 104, loss = 0.70066342\n",
      "Iteration 105, loss = 0.69896629\n",
      "Iteration 106, loss = 0.69838122\n",
      "Iteration 107, loss = 0.69804964\n",
      "Iteration 108, loss = 0.69776891\n",
      "Iteration 109, loss = 0.69711150\n",
      "Iteration 110, loss = 0.69744526\n",
      "Iteration 111, loss = 0.69637055\n",
      "Iteration 112, loss = 0.69597955\n",
      "Iteration 113, loss = 0.69630170\n",
      "Iteration 114, loss = 0.69545150\n",
      "Iteration 115, loss = 0.69497365\n",
      "Iteration 116, loss = 0.69431012\n",
      "Iteration 117, loss = 0.69480234\n",
      "Iteration 118, loss = 0.69390865\n",
      "Iteration 119, loss = 0.69341652\n",
      "Iteration 120, loss = 0.69318798\n",
      "Iteration 121, loss = 0.69273852\n",
      "Iteration 122, loss = 0.69245889\n",
      "Iteration 123, loss = 0.69255903\n",
      "Iteration 124, loss = 0.69186612\n",
      "Iteration 125, loss = 0.69191240\n",
      "Iteration 126, loss = 0.69141770\n",
      "Iteration 127, loss = 0.69040060\n",
      "Iteration 128, loss = 0.69014422\n",
      "Iteration 129, loss = 0.69017373\n",
      "Iteration 130, loss = 0.68904899\n",
      "Iteration 131, loss = 0.68961549\n",
      "Iteration 132, loss = 0.68902470\n",
      "Iteration 133, loss = 0.68835337\n",
      "Iteration 134, loss = 0.68941235\n",
      "Iteration 135, loss = 0.68786844\n",
      "Iteration 136, loss = 0.68753684\n",
      "Iteration 137, loss = 0.68768670\n",
      "Iteration 138, loss = 0.68718152\n",
      "Iteration 139, loss = 0.68700022\n",
      "Iteration 140, loss = 0.68713156\n",
      "Iteration 141, loss = 0.68595653\n",
      "Iteration 142, loss = 0.68614117\n",
      "Iteration 143, loss = 0.68531317\n",
      "Iteration 144, loss = 0.68517900\n",
      "Iteration 145, loss = 0.68538280\n",
      "Iteration 146, loss = 0.68532457\n",
      "Iteration 147, loss = 0.68432704\n",
      "Iteration 148, loss = 0.68454145\n",
      "Iteration 149, loss = 0.68364031\n",
      "Iteration 150, loss = 0.68391046\n",
      "Iteration 151, loss = 0.68379972\n",
      "Iteration 152, loss = 0.68327236\n",
      "Iteration 153, loss = 0.68317553\n",
      "Iteration 154, loss = 0.68272481\n",
      "Iteration 155, loss = 0.68188181\n",
      "Iteration 156, loss = 0.68233923\n",
      "Iteration 157, loss = 0.68175322\n",
      "Iteration 158, loss = 0.68149191\n",
      "Iteration 159, loss = 0.68101090\n",
      "Iteration 160, loss = 0.68096437\n",
      "Iteration 161, loss = 0.68078835\n",
      "Iteration 162, loss = 0.68050488\n",
      "Iteration 163, loss = 0.68015688\n",
      "Iteration 164, loss = 0.68031706\n",
      "Iteration 165, loss = 0.67961858\n",
      "Iteration 166, loss = 0.68004745\n",
      "Iteration 167, loss = 0.67952716\n",
      "Iteration 168, loss = 0.67918957\n",
      "Iteration 169, loss = 0.67850811\n",
      "Iteration 170, loss = 0.67865352\n",
      "Iteration 171, loss = 0.67841957\n",
      "Iteration 172, loss = 0.67780402\n",
      "Iteration 173, loss = 0.67811189\n",
      "Iteration 174, loss = 0.67799769\n",
      "Iteration 175, loss = 0.67781814\n",
      "Training loss did not improve more than tol=0.000100 for two consecutive epochs. Stopping.\n",
      "[[857  15   9  14   1  16  13  11   3  12  17  11]\n",
      " [  6 625  81  37  18  69  12  42   2  38  11  11]\n",
      " [  1  40 678  21  18  73  21  59   1  29   9  29]\n",
      " [ 10  39  40 626   8  37  19  39   7  15  94  20]\n",
      " [  6  16  17  15 771  23  23  44   2  22   6   9]\n",
      " [  7  67 112  37  24 541  20  91   2  38  30  37]\n",
      " [  5  12  12  23  15  13 615  73   3  21  17  38]\n",
      " [  4  33  95  34  23  81  59 545   2  29   9  59]\n",
      " [  1   1  36  14   0   1   1   9 844  10  10  14]\n",
      " [  2  20  37  18  16  18   9  45   9 742  13  30]\n",
      " [ 10   7  17  75   6  11  18  12   0  10 771  11]\n",
      " [  9  16  28  15  12  24  29  62   1  21  14 720]]\n",
      "             precision    recall  f1-score   support\n",
      "\n",
      "          0       0.93      0.88      0.90       979\n",
      "          1       0.70      0.66      0.68       952\n",
      "          2       0.58      0.69      0.63       979\n",
      "          3       0.67      0.66      0.66       954\n",
      "          4       0.85      0.81      0.83       954\n",
      "          5       0.60      0.54      0.57      1006\n",
      "          6       0.73      0.73      0.73       847\n",
      "          7       0.53      0.56      0.54       973\n",
      "          8       0.96      0.90      0.93       941\n",
      "          9       0.75      0.77      0.76       959\n",
      "         10       0.77      0.81      0.79       948\n",
      "         11       0.73      0.76      0.74       951\n",
      "\n",
      "avg / total       0.73      0.73      0.73     11443\n",
      "\n"
     ]
    },
    {
     "data": {
      "text/plain": [
       "0.72839290395875211"
      ]
     },
     "execution_count": 20,
     "metadata": {},
     "output_type": "execute_result"
    }
   ],
   "source": [
    "mlpc = nn.MLPClassifier(verbose=2, max_iter=2000, activation = 'logistic', hidden_layer_sizes= (100,))                    \n",
    "evaluate_model(mlpc)"
   ]
  },
  {
   "cell_type": "markdown",
   "metadata": {},
   "source": [
    "### Determine best model based on accuracy scores "
   ]
  },
  {
   "cell_type": "code",
   "execution_count": 24,
   "metadata": {
    "collapsed": false
   },
   "outputs": [],
   "source": [
    "model_scores = {'LogisticRegression' : '71',\n",
    "                'DecisionTrees' : '50',\n",
    "                'RandomForrest' : '65',\n",
    "                'KNeighbors' : '58',\n",
    "                'ExtraTrees': '63',\n",
    "                'NaiveBayes' : '42',\n",
    "                'Neural Network' : '73'\n",
    "               }"
   ]
  },
  {
   "cell_type": "code",
   "execution_count": 25,
   "metadata": {
    "collapsed": false
   },
   "outputs": [
    {
     "data": {
      "image/png": "[encoded data removed]",
      "text/plain": [
       "<matplotlib.figure.Figure at 0x116426fd0>"
      ]
     },
     "metadata": {},
     "output_type": "display_data"
    }
   ],
   "source": [
    "barlist = plt.bar(range(len(model_scores)), model_scores.values(), align='center')\n",
    "plt.xticks(range(len(model_scores)), model_scores.keys(), rotation=45)\n",
    "plt.xlabel('model', fontsize=18)\n",
    "plt.ylabel('score', fontsize=18)\n",
    "barlist[3].set_color('r')"
   ]
  },
  {
   "cell_type": "markdown",
   "metadata": {},
   "source": [
    "### Pickle best model for new tweets"
   ]
  },
  {
   "cell_type": "code",
   "execution_count": 23,
   "metadata": {
    "collapsed": false
   },
   "outputs": [],
   "source": [
    "joblib.dump(mlpc, \"MLPC_2.pkl\")\n",
    "from_pkl_cls = joblib.load(\"MLPC_2.pkl\")"
   ]
  },
  {
   "cell_type": "code",
   "execution_count": null,
   "metadata": {
    "collapsed": true
   },
   "outputs": [],
   "source": []
  }
 ],
 "metadata": {
  "anaconda-cloud": {},
  "kernelspec": {
   "display_name": "Python [conda root]",
   "language": "python",
   "name": "conda-root-py"
  },
  "language_info": {
   "codemirror_mode": {
    "name": "ipython",
    "version": 2
   },
   "file_extension": ".py",
   "mimetype": "text/x-python",
   "name": "python",
   "nbconvert_exporter": "python",
   "pygments_lexer": "ipython2",
   "version": "2.7.12"
  }
 },
 "nbformat": 4,
 "nbformat_minor": 1
}
