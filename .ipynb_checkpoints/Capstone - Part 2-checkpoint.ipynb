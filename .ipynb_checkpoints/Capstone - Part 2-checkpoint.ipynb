{
 "cells": [
  {
   "cell_type": "raw",
   "metadata": {},
   "source": [
    "Identify: Articulate Problem Statement/Specific goals & success criteria\n",
    "Identify: Outline proposed methods & models\n",
    "Parse: Identify risks & assumptions\n",
    "Parse: Create local PostgreSQL database\n",
    "Parse: Query, Sort, & Clean Data\n",
    "Parse: Create a Data Dictionary\n",
    "Mine: Perform & summarize EDA"
   ]
  },
  {
   "cell_type": "markdown",
   "metadata": {},
   "source": [
    "I am using Twitter feeds from 12 different celebrities/public figures as representation of 12 Archetypes. I will build a model that will attempt to predict a matching archetype or collections of archetypes with percentages when a user inputs their twitter handle into a UX. \n",
    "\n",
    "Archetype categories - representative figures\n",
    "positive & negative traits\n",
    "\n",
    "The Innocent - Gina Rodriguez\n",
    "posivite traits - optimistic, honest and enthusiastic\n",
    "negative traits - irritating, boring and childish \n",
    "\n",
    "The Every(wo)man - Katy Perry\n",
    "posivite traits - friendly, empathetic and reliable\n",
    "negative traits - weak, superficial and suggestible\n",
    "\n",
    "The Hero - Barak Obama\n",
    "posivite traits - brave, determined and skilfull\n",
    "negative traits - arrogant, aggressive and ruthless\n",
    "\n",
    "The Nurturer - Oprah Winfrey\n",
    "posivite traits - compassionate, generous and strong\n",
    "negative traits - masochistic, manipulative and codependent\n",
    "\n",
    "The Explorer - Noam Chomsky\n",
    "posivite traits - independent, ambitious and spiritual\n",
    "negative traits - restless, aimless and flaky\n",
    "\n",
    "The Rebel - Michael Moore \n",
    "posivite traits - free-spirited, brave and adaptable\n",
    "negative traits - destructive, out of control, nihilistic\n",
    "\n",
    "The Lover - Kim Kardashian\n",
    "posivite traits - passionate, magnetic and committed\n",
    "negative traits - people-pleasing, obsessive and shallow\n",
    "\n",
    "The Creater -  Russel Brand, \n",
    "posivite traits - imaginative, expressive and innovative\n",
    "negative traits - self-indulgent, melodramatic and narcissistic\n",
    "\n",
    "The Jester - Ellen DeGeneres, \n",
    "posivite traits - joyful, carefree and original\n",
    "negative traits - irresponsible, cruel and frivolous\n",
    "\n",
    "The Sage - Paulo Coelho\n",
    "posivite traits - wise, articulate and open-minded\n",
    "negative traits - pedantic, self-absorbed and cold\n",
    "\n",
    "The Magician - Elon Musk, \n",
    "posivite traits - driven and charismatic with a capacity for healing\n",
    "negative traits - manipulative, dishonest and disconnected from reality\n",
    "\n",
    "The Ruler - Donald Trump\n",
    "posivite traits - confident, responsible and fair\n",
    "negative traits - rigid, controlling and entitled"
   ]
  },
  {
   "cell_type": "raw",
   "metadata": {},
   "source": [
    "I am using a Mongo Database on an AWS instance to to store my twitter data. I will itilize tf-idf in sklearn to vectorize the dataframe and TruncatedSVD to reduce the dimentions. I will train multiple classification models and cross validate parameters to determine the best outcome.  The models I plan on using are Logistic Regression, Random Forrest, Extra Trees, K Nearest Neighbors, Cosine Similarities, Gaussian Naive Bayes, Gradient Boost Classifier and possibily Convolutional Neural Networks."
   ]
  },
  {
   "cell_type": "raw",
   "metadata": {},
   "source": [
    "It is possible that the data will not accurately produce accurate represention of the person who posts the tweets. There is also a risk that the tweets between the different archtypes will be too similar and not have enough division. "
   ]
  },
  {
   "cell_type": "markdown",
   "metadata": {},
   "source": []
  },
  {
   "cell_type": "code",
   "execution_count": null,
   "metadata": {
    "collapsed": true
   },
   "outputs": [],
   "source": []
  }
 ],
 "metadata": {
  "kernelspec": {
   "display_name": "Python [conda root]",
   "language": "python",
   "name": "conda-root-py"
  },
  "language_info": {
   "codemirror_mode": {
    "name": "ipython",
    "version": 2
   },
   "file_extension": ".py",
   "mimetype": "text/x-python",
   "name": "python",
   "nbconvert_exporter": "python",
   "pygments_lexer": "ipython2",
   "version": "2.7.12"
  }
 },
 "nbformat": 4,
 "nbformat_minor": 1
}
