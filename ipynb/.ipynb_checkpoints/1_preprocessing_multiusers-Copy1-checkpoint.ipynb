{
 "cells": [
  {
   "cell_type": "code",
   "execution_count": 1,
   "metadata": {
    "collapsed": false
   },
   "outputs": [],
   "source": [
    "import os\n",
    "os.chdir('../')"
   ]
  },
  {
   "cell_type": "code",
   "execution_count": 2,
   "metadata": {
    "collapsed": false
   },
   "outputs": [],
   "source": [
    "from lib.pull_tweets import connect_to_mongo, get_twitter_client, select_all_tweets, get_user_tweets\n",
    "import twitter, yaml, tweepy\n",
    "import pymongo\n",
    "import pandas as pd\n",
    "from pymongo import MongoClient\n",
    "import csv\n",
    "import re\n",
    "from nltk.tokenize import RegexpTokenizer\n",
    "from nltk.stem import LancasterStemmer\n",
    "from nltk.corpus import stopwords\n",
    "from unidecode import unidecode\n",
    "from lib.cleaning_module import clean_text\n",
    "from nltk.tokenize import word_tokenize\n",
    "import pickle\n",
    "from tweepy import OAuthHandler\n",
    "import json"
   ]
  },
  {
   "cell_type": "code",
   "execution_count": 18,
   "metadata": {
    "collapsed": false,
    "scrolled": true
   },
   "outputs": [
    {
     "name": "stdout",
     "output_type": "stream",
     "text": [
      "[u'creator_tweets', u'sage_tweets', u'tweets', u'elon', u'russell', u'madonna', u'magician_tweets', u'jester_tweets', u'seth', u'paolo', u'pers', u'katy', u'explorer_tweets', u'barack', u'lover_tweets', u'bill', u'zooey', u'hero_tweets', u'kid', u'oz', u'ellen', u'innocent_tweets', u'gina', u'rebel_tweets', u'jessica', u'donald', u'ruler_tweets', u'michael', u'hillary', u'noam', u'nurturer_tweets', u'oprah', u'pope', u'bourdain', u'martha', u'sully', u'kim', u'every_tweets']\n"
     ]
    }
   ],
   "source": [
    "client_aws = connect_to_mongo()"
   ]
  },
  {
   "cell_type": "code",
   "execution_count": 4,
   "metadata": {
    "collapsed": false
   },
   "outputs": [],
   "source": [
    "access_key =  '823714388905336832-Vk8UvBNUR7VodGhHzdKEmK5GNs3ULxB'\n",
    "access_secret = 'XK86kGwlp4zwDzxYhYc2oHu0qJIE11uRp83Ex6TUg4JCg'\n",
    "consumer_token =  'N5dNhpdbhfLbn5Z94XyRVpr3I'\n",
    "consumer_secret = 'G8CfW44BA1mofPBh3bP0gRGp6hokuw5h3PlZCUkPRYMccyYznE'"
   ]
  },
  {
   "cell_type": "code",
   "execution_count": 6,
   "metadata": {
    "collapsed": false
   },
   "outputs": [],
   "source": [
    "def get_user_tweets(screen_name):\n",
    "\n",
    "    auth = OAuthHandler(consumer_token, consumer_secret)\n",
    "    auth.set_access_token(access_key, access_secret)\n",
    "    api = tweepy.API(auth)\n",
    "    \n",
    "    alltweets = []    \n",
    "    new_tweets = api.user_timeline(screen_name = screen_name,count=200)\n",
    "    alltweets.extend(new_tweets)\n",
    "    user=api.get_user(screen_name=screen_name)\n",
    "    oldest = alltweets[-1].id - 1\n",
    "    \n",
    "    while len(new_tweets) > 0:\n",
    "        new_tweets = api.user_timeline(screen_name = screen_name, count=200,max_id=oldest)\n",
    "        alltweets.extend(new_tweets)\n",
    "        oldest = alltweets[-1].id - 1\n",
    "    return alltweets"
   ]
  },
  {
   "cell_type": "code",
   "execution_count": null,
   "metadata": {
    "collapsed": true
   },
   "outputs": [],
   "source": [
    "all_zooey = get_user_tweets('ZooeyDeschanel')\n",
    "for tweet in all_zooey:\n",
    "    client_aws.zooey.insert_one(json.loads(json.dumps(tweet._json)))"
   ]
  },
  {
   "cell_type": "code",
   "execution_count": 7,
   "metadata": {
    "collapsed": true
   },
   "outputs": [],
   "source": [
    "all_kid = get_user_tweets('iamkidpresident')\n",
    "for tweet in all_kid:\n",
    "    client_aws.kid.insert_one(json.loads(json.dumps(tweet._json)))"
   ]
  },
  {
   "cell_type": "code",
   "execution_count": 8,
   "metadata": {
    "collapsed": true
   },
   "outputs": [],
   "source": [
    "all_oz = get_user_tweets('DrOz')\n",
    "for tweet in all_oz:\n",
    "    client_aws.oz.insert_one(json.loads(json.dumps(tweet._json)))"
   ]
  },
  {
   "cell_type": "code",
   "execution_count": 9,
   "metadata": {
    "collapsed": true
   },
   "outputs": [],
   "source": [
    "all_jessica = get_user_tweets('jessicaalba')\n",
    "for tweet in all_jessica:\n",
    "    client_aws.jessica.insert_one(json.loads(json.dumps(tweet._json)))"
   ]
  },
  {
   "cell_type": "code",
   "execution_count": 10,
   "metadata": {
    "collapsed": true
   },
   "outputs": [],
   "source": [
    "all_martha = get_user_tweets('MarthaStewart')\n",
    "for tweet in all_martha:\n",
    "    client_aws.martha.insert_one(json.loads(json.dumps(tweet._json)))"
   ]
  },
  {
   "cell_type": "code",
   "execution_count": 11,
   "metadata": {
    "collapsed": true
   },
   "outputs": [],
   "source": [
    "all_sully = get_user_tweets('Captsully')\n",
    "for tweet in all_sully:\n",
    "    client_aws.sully.insert_one(json.loads(json.dumps(tweet._json)))"
   ]
  },
  {
   "cell_type": "code",
   "execution_count": 12,
   "metadata": {
    "collapsed": true
   },
   "outputs": [],
   "source": [
    "all_bill = get_user_tweets('billmaher')\n",
    "for tweet in all_bill:\n",
    "    client_aws.bill.insert_one(json.loads(json.dumps(tweet._json)))"
   ]
  },
  {
   "cell_type": "code",
   "execution_count": 13,
   "metadata": {
    "collapsed": true
   },
   "outputs": [],
   "source": [
    "all_madonna = get_user_tweets('Madonna')\n",
    "for tweet in all_madonna:\n",
    "    client_aws.madonna.insert_one(json.loads(json.dumps(tweet._json)))"
   ]
  },
  {
   "cell_type": "code",
   "execution_count": 17,
   "metadata": {
    "collapsed": false
   },
   "outputs": [],
   "source": [
    "all_seth = get_user_tweets('SethMacFarlane')\n",
    "for tweet in all_seth:\n",
    "    client_aws.seth.insert_one(json.loads(json.dumps(tweet._json)))"
   ]
  },
  {
   "cell_type": "code",
   "execution_count": 15,
   "metadata": {
    "collapsed": true
   },
   "outputs": [],
   "source": [
    "all_pope = get_user_tweets('Pontifex')\n",
    "for tweet in all_pope:\n",
    "    client_aws.pope.insert_one(json.loads(json.dumps(tweet._json)))"
   ]
  },
  {
   "cell_type": "code",
   "execution_count": 16,
   "metadata": {
    "collapsed": true
   },
   "outputs": [],
   "source": [
    "all_hillary = get_user_tweets('HillaryClinton')\n",
    "for tweet in all_hillary:\n",
    "    client_aws.hillary.insert_one(json.loads(json.dumps(tweet._json)))"
   ]
  },
  {
   "cell_type": "code",
   "execution_count": null,
   "metadata": {
    "collapsed": true
   },
   "outputs": [],
   "source": [
    "all_anthony = get_user_tweets('bourdain')\n",
    "for tweet in all_anthony:\n",
    "    client_aws.anthony.insert_one(json.loads(json.dumps(tweet._json)))"
   ]
  },
  {
   "cell_type": "code",
   "execution_count": null,
   "metadata": {
    "collapsed": true
   },
   "outputs": [],
   "source": []
  },
  {
   "cell_type": "code",
   "execution_count": null,
   "metadata": {
    "collapsed": true
   },
   "outputs": [],
   "source": []
  },
  {
   "cell_type": "code",
   "execution_count": null,
   "metadata": {
    "collapsed": false
   },
   "outputs": [],
   "source": [
    "# #gets each tweet in a users historical twitter account and adds them all to a mongodb collection\n",
    "# for user in innocent_user_list:\n",
    "#     all_tweets = get_user_tweets(user)\n",
    "#     for tweet in all_tweets:\n",
    "#         client_aws.innocent_tweets.insert_one(json.loads(json.dumps(tweet._json)))"
   ]
  },
  {
   "cell_type": "code",
   "execution_count": null,
   "metadata": {
    "collapsed": false
   },
   "outputs": [],
   "source": [
    "# for user in every_user_list:\n",
    "#     alltweets = get_user_tweets(user)\n",
    "#     for tweet in alltweets:\n",
    "#         client_aws.every_tweets.insert_one(json.loads(json.dumps(tweet._json)))"
   ]
  },
  {
   "cell_type": "code",
   "execution_count": null,
   "metadata": {
    "collapsed": false
   },
   "outputs": [],
   "source": [
    "#  for user in hero_user_list:\n",
    "#     alltweets = get_user_tweets(user)\n",
    "#     for tweet in alltweets:\n",
    "#         client_aws.hero_tweets.insert_one(json.loads(json.dumps(tweet._json)))"
   ]
  },
  {
   "cell_type": "code",
   "execution_count": null,
   "metadata": {
    "collapsed": false
   },
   "outputs": [],
   "source": [
    "# for user in nurturer_user_list:\n",
    "#     alltweets = get_user_tweets(user)\n",
    "#     for tweet in alltweets:\n",
    "#         client_aws.nurturer_tweets.insert_one(json.loads(json.dumps(tweet._json)))"
   ]
  },
  {
   "cell_type": "code",
   "execution_count": null,
   "metadata": {
    "collapsed": true
   },
   "outputs": [],
   "source": [
    "# for user in creator_user_list:\n",
    "#     alltweets = get_user_tweets(user)\n",
    "#     for tweet in alltweets:\n",
    "#         client_aws.creator_tweets.insert_one(json.loads(json.dumps(tweet._json)))"
   ]
  },
  {
   "cell_type": "code",
   "execution_count": null,
   "metadata": {
    "collapsed": true
   },
   "outputs": [],
   "source": [
    "# for user in rebel_user_list:\n",
    "#     alltweets = get_user_tweets(user)\n",
    "#     for tweet in alltweets:\n",
    "#         client_aws.rebel_tweets.insert_one(json.loads(json.dumps(tweet._json)))"
   ]
  },
  {
   "cell_type": "code",
   "execution_count": null,
   "metadata": {
    "collapsed": true
   },
   "outputs": [],
   "source": [
    "# for user in lover_user_list:\n",
    "#     alltweets = get_user_tweets(user)\n",
    "#     for tweet in alltweets:\n",
    "#         client_aws.lover_tweets.insert_one(json.loads(json.dumps(tweet._json)))"
   ]
  },
  {
   "cell_type": "code",
   "execution_count": null,
   "metadata": {
    "collapsed": true
   },
   "outputs": [],
   "source": [
    "# for user in magician_user_list:\n",
    "#     alltweets = get_user_tweets(user)\n",
    "#     for tweet in alltweets:\n",
    "#         client_aws.magician_tweets.insert_one(json.loads(json.dumps(tweet._json)))"
   ]
  },
  {
   "cell_type": "code",
   "execution_count": null,
   "metadata": {
    "collapsed": true
   },
   "outputs": [],
   "source": [
    "# for user in jester_user_list:\n",
    "#     alltweets = get_user_tweets(user)\n",
    "#     for tweet in alltweets:\n",
    "#         client_aws.jester_tweets.insert_one(json.loads(json.dumps(tweet._json)))"
   ]
  },
  {
   "cell_type": "code",
   "execution_count": null,
   "metadata": {
    "collapsed": false
   },
   "outputs": [],
   "source": [
    "# alltweets = get_user_tweets('EmmaWatson')\n",
    "# for tweet in alltweets:\n",
    "#     client_aws.sage_tweets.insert_one(json.loads(json.dumps(tweet._json)))"
   ]
  },
  {
   "cell_type": "code",
   "execution_count": null,
   "metadata": {
    "collapsed": true
   },
   "outputs": [],
   "source": [
    "# alltweets = get_user_tweets('IyanlaVanzant')\n",
    "# for tweet in alltweets:\n",
    "#     client_aws.sage_tweets.insert_one(json.loads(json.dumps(tweet._json)))"
   ]
  },
  {
   "cell_type": "code",
   "execution_count": null,
   "metadata": {
    "collapsed": true
   },
   "outputs": [],
   "source": [
    "# for user in sage_user_list:\n",
    "#     alltweets = get_user_tweets(user)\n",
    "#     for tweet in alltweets:\n",
    "#         client_aws.sage_tweets.insert_one(json.loads(json.dumps(tweet._json)))"
   ]
  },
  {
   "cell_type": "code",
   "execution_count": null,
   "metadata": {
    "collapsed": true
   },
   "outputs": [],
   "source": [
    "# for user in ruler_user_list:\n",
    "#     alltweets = get_user_tweets(user)\n",
    "#     for tweet in alltweets:\n",
    "#         client_aws.ruler_tweets.insert_one(json.loads(json.dumps(tweet._json)))"
   ]
  },
  {
   "cell_type": "code",
   "execution_count": 20,
   "metadata": {
    "collapsed": true
   },
   "outputs": [],
   "source": [
    "def get_texts_and_user(user):\n",
    "    tweets = get_user_tweets(user)\n",
    "    return pd.concat([pd.DataFrame([[i.user.screen_name, i.text]], columns=['user','text']) for i in tweets],axis=0).reset_index(drop=True)"
   ]
  },
  {
   "cell_type": "code",
   "execution_count": 21,
   "metadata": {
    "collapsed": false
   },
   "outputs": [],
   "source": [
    "jessica_df = get_texts_and_user('jessicaalba')\n",
    "# louis_df = get_texts_and_user('Louis_Tomlinson')\n",
    "# joseph_df = get_texts_and_user('hitRECordJoe')\n",
    "zooey_df = get_texts_and_user('ZooeyDeschanel')\n",
    "# channing_df = get_texts_and_user('channingtatum')\n",
    "# jamie_df = get_texts_and_user('iamjamiefoxx')\n",
    "# gavin_df = get_texts_and_user('GavinNewsom')\n",
    "# justin_df = get_texts_and_user('JustinTrudeau')\n",
    "sully_df = get_texts_and_user('Captsully')\n",
    "# reese_df = get_texts_and_user('RWitherspoon')\n",
    "# deepak_df = get_texts_and_user('DeepakChopra')\n",
    "kid_df = get_texts_and_user('iamkidpresident')\n",
    "# mark_df = get_texts_and_user('mcuban')\n",
    "martha_df = get_texts_and_user('MarthaStewart')\n",
    "# shonda_df = get_texts_and_user('shondarhimes')\n",
    "# laverne_df = get_texts_and_user('Lavernecox')\n",
    "# christiane_df = get_texts_and_user('camanpour')\n",
    "# courtney_df = get_texts_and_user('Courtney')\n",
    "bill_df = get_texts_and_user('billmaher')\n",
    "# lena_df = get_texts_and_user('lenadunham')\n",
    "madonna_df = get_texts_and_user('Madonna')\n",
    "# usher_df = get_texts_and_user('Usher')\n",
    "# weeknd_df = get_texts_and_user('theweeknd')\n",
    "# james_df = get_texts_and_user('JKCorden')\n",
    "seth_df = get_texts_and_user('SethMacFarlane')\n",
    "# sarah_df = get_texts_and_user('SarahKSilverman')\n",
    "# dalai_df = get_texts_and_user('dalailama')\n",
    "pope_df = get_texts_and_user('Pontifex')\n",
    "# diane_df = get_texts_and_user('DianeSawyer')\n",
    "oz_df = get_texts_and_user('DrOz')\n",
    "# tony_df = get_texts_and_user('TonyRobbins')\n",
    "# lori_df = get_texts_and_user('LoriGreiner')\n",
    "# david_df = get_texts_and_user('David_Cameron')\n",
    "# marissa_df = get_texts_and_user('marissamayer')\n",
    "hillary_df = get_texts_and_user('HillaryClinton')\n",
    "# gina_df = get_texts_and_user('HereIsGina')\n",
    "# katy_df = get_texts_and_user('katyperry')\n",
    "# barack_df = get_texts_and_user('BarackObama')\n",
    "# oprah_df = get_texts_and_user('Oprah')\n",
    "# noam_df = get_texts_and_user('noamchomskyT')\n",
    "# michael_df = get_texts_and_user('MMFlint')\n",
    "# kim_df = get_texts_and_user('KimKardashian')\n",
    "# russell_df = get_texts_and_user('rustyrockets')\n",
    "# ellen_df = get_texts_and_user('TheEllenShow')\n",
    "# paulo_df = get_texts_and_user('paulocoelho')\n",
    "# elon_df = get_texts_and_user('elonmusk')\n",
    "# donald_df = get_texts_and_user('realDonaldTrump')\n",
    "anthony_df = get_texts_and_user('bourdain')\n",
    "# emma_df = get_texts_and_user('EmmaWatson')\n",
    "# iyanla_df = get_texts_and_user('IyanlaVanzant')"
   ]
  },
  {
   "cell_type": "code",
   "execution_count": 22,
   "metadata": {
    "collapsed": true
   },
   "outputs": [],
   "source": [
    "all_tweets_alt = [jessica_df, zooey_df, sully_df, kid_df, anthony_df, bill_df, madonna_df, martha_df, seth_df, pope_df, oz_df, hillary_df]\n",
    "all_tweets_alt_df = pd.concat(all_tweets_alt)"
   ]
  },
  {
   "cell_type": "code",
   "execution_count": 27,
   "metadata": {
    "collapsed": false
   },
   "outputs": [],
   "source": [
    "with open('all_tweets_alt_df.pkl', 'w') as picklefile:\n",
    "    pickle.dump(all_tweets_alt_df, picklefile)"
   ]
  },
  {
   "cell_type": "code",
   "execution_count": null,
   "metadata": {
    "collapsed": false,
    "scrolled": true
   },
   "outputs": [],
   "source": [
    "innocent = [gina_df, jessica_df, louis_df, joseph_df]\n",
    "innocent_df = pd.concat(innocent)\n",
    "innocent_df['group'] = innocent_df.apply(lambda x: 0, axis='columns')"
   ]
  },
  {
   "cell_type": "code",
   "execution_count": null,
   "metadata": {
    "collapsed": true
   },
   "outputs": [],
   "source": [
    "innocent2 = [jessica_df, joseph_df]\n",
    "innocent2_df = pd.concat(innocent2)\n",
    "innocent2_df['group'] = innocent2_df.apply(lambda x: 0, axis='columns')"
   ]
  },
  {
   "cell_type": "code",
   "execution_count": null,
   "metadata": {
    "collapsed": false
   },
   "outputs": [],
   "source": [
    "everyperson = [katy_df, zooey_df, channing_df, jamie_df]\n",
    "everyperson_df = pd.concat(everyperson)\n",
    "everyperson_df['group'] = everyperson_df.apply(lambda x: 1, axis='columns')"
   ]
  },
  {
   "cell_type": "code",
   "execution_count": null,
   "metadata": {
    "collapsed": true
   },
   "outputs": [],
   "source": [
    "everyperson2 = [zooey_df, channing_df]\n",
    "everyperson2_df = pd.concat(everyperson2)\n",
    "everyperson2_df['group'] = everyperson2_df.apply(lambda x: 1, axis='columns')"
   ]
  },
  {
   "cell_type": "code",
   "execution_count": null,
   "metadata": {
    "collapsed": true
   },
   "outputs": [],
   "source": [
    "hero = [barack_df, sully_df, justin_df, gavin_df]\n",
    "hero_df = pd.concat(hero)\n",
    "hero_df['group'] = hero_df.apply(lambda x: 2, axis='columns')"
   ]
  },
  {
   "cell_type": "code",
   "execution_count": null,
   "metadata": {
    "collapsed": false
   },
   "outputs": [],
   "source": [
    "hero2 = [barack_df, sully_df]\n",
    "hero2_df = pd.concat(hero2)\n",
    "hero2_df['group'] = hero2_df.apply(lambda x: 2, axis='columns')"
   ]
  },
  {
   "cell_type": "code",
   "execution_count": null,
   "metadata": {
    "collapsed": false
   },
   "outputs": [],
   "source": [
    "nurturer2 = [oprah_df, kid_df]\n",
    "nurturer2_df = pd.concat(nurturer2)\n",
    "nurturer2_df['group'] = nurturer2_df.apply(lambda x: 3, axis='columns')"
   ]
  },
  {
   "cell_type": "code",
   "execution_count": null,
   "metadata": {
    "collapsed": false
   },
   "outputs": [],
   "source": [
    "explorer = [noam_df, anthony_df, laverne_df, christiane_df]\n",
    "explorer_df = pd.concat(explorer)\n",
    "explorer_df['group'] = explorer_df.apply(lambda x: 4, axis='columns')"
   ]
  },
  {
   "cell_type": "code",
   "execution_count": null,
   "metadata": {
    "collapsed": false
   },
   "outputs": [],
   "source": [
    "explorer2 = [noam_df, laverne_df]\n",
    "explorer2_df = pd.concat(explorer2)\n",
    "explorer2_df['group'] = explorer2_df.apply(lambda x: 4, axis='columns')"
   ]
  },
  {
   "cell_type": "code",
   "execution_count": null,
   "metadata": {
    "collapsed": false
   },
   "outputs": [],
   "source": [
    "rebel = [michael_df, courtney_df, bill_df, lena_df]\n",
    "rebel_df = pd.concat(rebel)\n",
    "rebel_df['group'] = rebel_df.apply(lambda x: 5, axis='columns')"
   ]
  },
  {
   "cell_type": "code",
   "execution_count": null,
   "metadata": {
    "collapsed": false
   },
   "outputs": [],
   "source": [
    "rebel2 = [bill_df, lena_df]\n",
    "rebel2_df = pd.concat(rebel2)\n",
    "rebel2_df['group'] = rebel2_df.apply(lambda x: 5, axis='columns')"
   ]
  },
  {
   "cell_type": "code",
   "execution_count": null,
   "metadata": {
    "collapsed": false
   },
   "outputs": [],
   "source": [
    "lover = [kim_df, madonna_df, usher_df, weeknd_df]\n",
    "lover_df = pd.concat(lover)\n",
    "lover_df['group'] = lover_df.apply(lambda x: 6, axis='columns')"
   ]
  },
  {
   "cell_type": "code",
   "execution_count": null,
   "metadata": {
    "collapsed": false
   },
   "outputs": [],
   "source": [
    "lover2 = [kim_df, weeknd_df]\n",
    "lover2_df = pd.concat(lover2)\n",
    "lover2_df['group'] = lover2_df.apply(lambda x: 6, axis='columns')"
   ]
  },
  {
   "cell_type": "code",
   "execution_count": null,
   "metadata": {
    "collapsed": false
   },
   "outputs": [],
   "source": [
    "creator = [russell_df, martha_df, mark_df, shonda_df]\n",
    "creator_df = pd.concat(creator)\n",
    "creator_df['group'] = creator_df.apply(lambda x: 7, axis='columns')"
   ]
  },
  {
   "cell_type": "code",
   "execution_count": null,
   "metadata": {
    "collapsed": false
   },
   "outputs": [],
   "source": [
    "creator2 = [mark_df, shonda_df]\n",
    "creator2_df = pd.concat(creator2)\n",
    "creator2_df['group'] = creator2_df.apply(lambda x: 7, axis='columns')"
   ]
  },
  {
   "cell_type": "code",
   "execution_count": null,
   "metadata": {
    "collapsed": false
   },
   "outputs": [],
   "source": [
    "jester = [ellen_df, james_df, seth_df, sarah_df]\n",
    "jester_df = pd.concat(jester)\n",
    "jester_df['group'] = jester_df.apply(lambda x: 8, axis='columns')"
   ]
  },
  {
   "cell_type": "code",
   "execution_count": null,
   "metadata": {
    "collapsed": true
   },
   "outputs": [],
   "source": [
    "jester2 = [ellen_df, james_df]\n",
    "jester2_df = pd.concat(jester2)\n",
    "jester2_df['group'] = jester2_df.apply(lambda x: 8, axis='columns')"
   ]
  },
  {
   "cell_type": "code",
   "execution_count": null,
   "metadata": {
    "collapsed": false
   },
   "outputs": [],
   "source": [
    "sage = [paulo_df, dalai_df, pope_df, diane_df, iyanla_df, emma_df]\n",
    "sage_df = pd.concat(sage)\n",
    "sage_df['group'] = sage_df.apply(lambda x: 9, axis='columns')"
   ]
  },
  {
   "cell_type": "code",
   "execution_count": null,
   "metadata": {
    "collapsed": true
   },
   "outputs": [],
   "source": [
    "sage2 = [dalai_df, iyanla_df]\n",
    "sage2_df = pd.concat(sage2)\n",
    "sage2_df['group'] = sage2_df.apply(lambda x: 9, axis='columns')"
   ]
  },
  {
   "cell_type": "code",
   "execution_count": null,
   "metadata": {
    "collapsed": false
   },
   "outputs": [],
   "source": [
    "magician = [elon_df, oz_df, tony_df, lori_df]\n",
    "magician_df = pd.concat(magician)\n",
    "magician_df['group'] = magician_df.apply(lambda x: 10, axis='columns')"
   ]
  },
  {
   "cell_type": "code",
   "execution_count": null,
   "metadata": {
    "collapsed": true
   },
   "outputs": [],
   "source": [
    "magician2 = [elon_df, oz_df]\n",
    "magician2_df = pd.concat(magician2)\n",
    "magician2_df['group'] = magician2_df.apply(lambda x: 10, axis='columns')"
   ]
  },
  {
   "cell_type": "code",
   "execution_count": null,
   "metadata": {
    "collapsed": false
   },
   "outputs": [],
   "source": [
    "ruler = [donald_df, david_df, marissa_df, hillary_df]\n",
    "ruler_df = pd.concat(ruler)\n",
    "ruler_df['group'] = ruler_df.apply(lambda x: 11, axis='columns')"
   ]
  },
  {
   "cell_type": "code",
   "execution_count": null,
   "metadata": {
    "collapsed": false
   },
   "outputs": [],
   "source": [
    "ruler3 = [donald_df, hillary_df]\n",
    "ruler3_df = pd.concat(ruler3)\n",
    "ruler3_df['group'] = ruler2_df.apply(lambda x: 11, axis='columns')"
   ]
  },
  {
   "cell_type": "code",
   "execution_count": null,
   "metadata": {
    "collapsed": false
   },
   "outputs": [],
   "source": [
    "all_tweets2 = [innocent2_df, \n",
    "              everyperson2_df, \n",
    "              hero2_df, \n",
    "              nurturer2_df, \n",
    "              explorer2_df, \n",
    "              rebel2_df, \n",
    "              lover2_df, \n",
    "              creator2_df, \n",
    "              jester2_df, \n",
    "              sage2_df, \n",
    "              magician2_df, \n",
    "              ruler2_df]\n",
    "all_tweets2_df = pd.concat(all_tweets2)"
   ]
  },
  {
   "cell_type": "code",
   "execution_count": null,
   "metadata": {
    "collapsed": false
   },
   "outputs": [],
   "source": [
    "all_tweets2_df.head()"
   ]
  },
  {
   "cell_type": "code",
   "execution_count": null,
   "metadata": {
    "collapsed": true
   },
   "outputs": [],
   "source": [
    "with open('all_tweets2_df.pkl', 'w') as picklefile:\n",
    "    pickle.dump(all_tweets2_df, picklefile)"
   ]
  },
  {
   "cell_type": "code",
   "execution_count": null,
   "metadata": {
    "collapsed": true
   },
   "outputs": [],
   "source": [
    "with open('innocent_df.pkl', 'w') as picklefile:\n",
    "    pickle.dump(innocent_df, picklefile)"
   ]
  },
  {
   "cell_type": "code",
   "execution_count": null,
   "metadata": {
    "collapsed": true
   },
   "outputs": [],
   "source": [
    "with open('everyperson_df.pkl', 'w') as picklefile:\n",
    "    pickle.dump(everyperson_df, picklefile)"
   ]
  },
  {
   "cell_type": "code",
   "execution_count": null,
   "metadata": {
    "collapsed": true
   },
   "outputs": [],
   "source": [
    "with open('hero_df.pkl', 'w') as picklefile:\n",
    "    pickle.dump(hero_df, picklefile)"
   ]
  },
  {
   "cell_type": "code",
   "execution_count": null,
   "metadata": {
    "collapsed": true
   },
   "outputs": [],
   "source": [
    "with open('nurturer_df.pkl', 'w') as picklefile:\n",
    "    pickle.dump(nurturer_df, picklefile)"
   ]
  },
  {
   "cell_type": "code",
   "execution_count": null,
   "metadata": {
    "collapsed": true
   },
   "outputs": [],
   "source": [
    "with open('explorer_df.pkl', 'w') as picklefile:\n",
    "    pickle.dump(explorer_df, picklefile)"
   ]
  },
  {
   "cell_type": "code",
   "execution_count": null,
   "metadata": {
    "collapsed": true
   },
   "outputs": [],
   "source": [
    "with open('explorer2_df.pkl', 'w') as picklefile:\n",
    "    pickle.dump(explorer2_df, picklefile)"
   ]
  },
  {
   "cell_type": "code",
   "execution_count": null,
   "metadata": {
    "collapsed": true
   },
   "outputs": [],
   "source": [
    "with open('rebel_df.pkl', 'w') as picklefile:\n",
    "    pickle.dump(rebel_df, picklefile)"
   ]
  },
  {
   "cell_type": "code",
   "execution_count": null,
   "metadata": {
    "collapsed": true
   },
   "outputs": [],
   "source": [
    "with open('lover_df.pkl', 'w') as picklefile:\n",
    "    pickle.dump(lover_df, picklefile)"
   ]
  },
  {
   "cell_type": "code",
   "execution_count": null,
   "metadata": {
    "collapsed": false
   },
   "outputs": [],
   "source": [
    "with open('creator_df.pkl', 'w') as picklefile:\n",
    "    pickle.dump(creator_df, picklefile)"
   ]
  },
  {
   "cell_type": "code",
   "execution_count": null,
   "metadata": {
    "collapsed": true
   },
   "outputs": [],
   "source": [
    "with open('jester_df.pkl', 'w') as picklefile:\n",
    "    pickle.dump(jester_df, picklefile)"
   ]
  },
  {
   "cell_type": "code",
   "execution_count": null,
   "metadata": {
    "collapsed": true
   },
   "outputs": [],
   "source": [
    "with open('sage_df.pkl', 'w') as picklefile:\n",
    "    pickle.dump(sage_df, picklefile)"
   ]
  },
  {
   "cell_type": "code",
   "execution_count": null,
   "metadata": {
    "collapsed": true
   },
   "outputs": [],
   "source": [
    "with open('magician_df.pkl', 'w') as picklefile:\n",
    "    pickle.dump(magician_df, picklefile)"
   ]
  },
  {
   "cell_type": "code",
   "execution_count": null,
   "metadata": {
    "collapsed": true
   },
   "outputs": [],
   "source": [
    "with open('ruler_df.pkl', 'w') as picklefile:\n",
    "    pickle.dump(ruler_df, picklefile)"
   ]
  },
  {
   "cell_type": "code",
   "execution_count": null,
   "metadata": {
    "collapsed": false
   },
   "outputs": [],
   "source": [
    "with open('ruler3_df.pkl', 'w') as picklefile:\n",
    "    pickle.dump(ruler3_df, picklefile)"
   ]
  },
  {
   "cell_type": "code",
   "execution_count": null,
   "metadata": {
    "collapsed": true
   },
   "outputs": [],
   "source": [
    "with open('innocent2_df.pkl', 'w') as picklefile:\n",
    "    pickle.dump(innocent2_df, picklefile)"
   ]
  },
  {
   "cell_type": "code",
   "execution_count": null,
   "metadata": {
    "collapsed": true
   },
   "outputs": [],
   "source": [
    "with open('magician2_df.pkl', 'w') as picklefile:\n",
    "    pickle.dump(magician2_df, picklefile)"
   ]
  },
  {
   "cell_type": "code",
   "execution_count": null,
   "metadata": {
    "collapsed": true
   },
   "outputs": [],
   "source": [
    "with open('sage2_df.pkl', 'w') as picklefile:\n",
    "    pickle.dump(sage2_df, picklefile)"
   ]
  },
  {
   "cell_type": "code",
   "execution_count": null,
   "metadata": {
    "collapsed": false
   },
   "outputs": [],
   "source": [
    "with open('jester2_df.pkl', 'w') as picklefile:\n",
    "    pickle.dump(jester2_df, picklefile)"
   ]
  },
  {
   "cell_type": "code",
   "execution_count": null,
   "metadata": {
    "collapsed": true
   },
   "outputs": [],
   "source": [
    "with open('creator2_df.pkl', 'w') as picklefile:\n",
    "    pickle.dump(creator2_df, picklefile)"
   ]
  },
  {
   "cell_type": "code",
   "execution_count": null,
   "metadata": {
    "collapsed": true
   },
   "outputs": [],
   "source": [
    "with open('lover2_df.pkl', 'w') as picklefile:\n",
    "    pickle.dump(lover2_df, picklefile)"
   ]
  },
  {
   "cell_type": "code",
   "execution_count": null,
   "metadata": {
    "collapsed": true
   },
   "outputs": [],
   "source": [
    "with open('rebel2_df.pkl', 'w') as picklefile:\n",
    "    pickle.dump(rebel2_df, picklefile)"
   ]
  },
  {
   "cell_type": "code",
   "execution_count": null,
   "metadata": {
    "collapsed": true
   },
   "outputs": [],
   "source": [
    "with open('nurturer2_df.pkl', 'w') as picklefile:\n",
    "    pickle.dump(nurturer2_df, picklefile)"
   ]
  },
  {
   "cell_type": "code",
   "execution_count": null,
   "metadata": {
    "collapsed": true
   },
   "outputs": [],
   "source": [
    "with open('hero2_df.pkl', 'w') as picklefile:\n",
    "    pickle.dump(hero2_df, picklefile)"
   ]
  },
  {
   "cell_type": "code",
   "execution_count": null,
   "metadata": {
    "collapsed": true
   },
   "outputs": [],
   "source": []
  }
 ],
 "metadata": {
  "anaconda-cloud": {},
  "kernelspec": {
   "display_name": "Python [conda root]",
   "language": "python",
   "name": "conda-root-py"
  },
  "language_info": {
   "codemirror_mode": {
    "name": "ipython",
    "version": 2
   },
   "file_extension": ".py",
   "mimetype": "text/x-python",
   "name": "python",
   "nbconvert_exporter": "python",
   "pygments_lexer": "ipython2",
   "version": "2.7.12"
  }
 },
 "nbformat": 4,
 "nbformat_minor": 1
}
