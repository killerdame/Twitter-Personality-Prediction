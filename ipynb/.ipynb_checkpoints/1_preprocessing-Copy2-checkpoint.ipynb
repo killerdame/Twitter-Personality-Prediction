{
 "cells": [
  {
   "cell_type": "code",
   "execution_count": 3,
   "metadata": {
    "collapsed": false
   },
   "outputs": [],
   "source": [
    "import os\n",
    "os.chdir('../')"
   ]
  },
  {
   "cell_type": "code",
   "execution_count": 4,
   "metadata": {
    "collapsed": false
   },
   "outputs": [],
   "source": [
    "from lib.pull_tweets import connect_to_mongo, get_twitter_client, select_all_tweets, get_user_tweets\n",
    "import twitter, yaml, tweepy\n",
    "import pymongo\n",
    "import pandas as pd\n",
    "from pymongo import MongoClient\n",
    "import csv\n",
    "import re\n",
    "from nltk.tokenize import RegexpTokenizer\n",
    "from nltk.stem import LancasterStemmer\n",
    "from nltk.corpus import stopwords\n",
    "from unidecode import unidecode\n",
    "from lib.cleaning_module import clean_text\n",
    "from nltk.tokenize import word_tokenize\n",
    "import pickle\n",
    "from tweepy import OAuthHandler\n",
    "import json"
   ]
  },
  {
   "cell_type": "code",
   "execution_count": 5,
   "metadata": {
    "collapsed": false,
    "scrolled": true
   },
   "outputs": [
    {
     "name": "stdout",
     "output_type": "stream",
     "text": [
      "[u'ellen', u'creator_tweets', u'innocent_tweets', u'gina', u'rebel_tweets', u'sage_tweets', u'tweets', u'elon', u'donald', u'russell', u'ruler_tweets', u'michael', u'magician_tweets', u'jester_tweets', u'noam', u'paolo', u'nurturer_tweets', u'pers', u'oprah', u'katy', u'explorer_tweets', u'barack', u'bourdain', u'lover_tweets', u'kim', u'hero_tweets', u'every_tweets']\n"
     ]
    }
   ],
   "source": [
    "client_aws = connect_to_mongo()"
   ]
  },
  {
   "cell_type": "code",
   "execution_count": 5,
   "metadata": {
    "collapsed": false
   },
   "outputs": [],
   "source": [
    "access_key =  '823714388905336832-Vk8UvBNUR7VodGhHzdKEmK5GNs3ULxB'\n",
    "access_secret = 'XK86kGwlp4zwDzxYhYc2oHu0qJIE11uRp83Ex6TUg4JCg'\n",
    "consumer_token =  'N5dNhpdbhfLbn5Z94XyRVpr3I'\n",
    "consumer_secret = 'G8CfW44BA1mofPBh3bP0gRGp6hokuw5h3PlZCUkPRYMccyYznE'"
   ]
  },
  {
   "cell_type": "code",
   "execution_count": 28,
   "metadata": {
    "collapsed": false
   },
   "outputs": [],
   "source": [
    "def get_user_tweets(screen_name):\n",
    "\n",
    "    auth = OAuthHandler(consumer_token, consumer_secret)\n",
    "    auth.set_access_token(access_key, access_secret)\n",
    "    api = tweepy.API(auth)\n",
    "    \n",
    "    alltweets = []    \n",
    "    new_tweets = api.user_timeline(screen_name = screen_name,count=200)\n",
    "    alltweets.extend(new_tweets)\n",
    "    user=api.get_user(screen_name=screen_name)\n",
    "    oldest = alltweets[-1].id - 1\n",
    "    \n",
    "    while len(new_tweets) > 0:\n",
    "        new_tweets = api.user_timeline(screen_name = screen_name, count=200,max_id=oldest)\n",
    "        alltweets.extend(new_tweets)\n",
    "        oldest = alltweets[-1].id - 1\n",
    "    return alltweets"
   ]
  },
  {
   "cell_type": "code",
   "execution_count": null,
   "metadata": {
    "collapsed": true
   },
   "outputs": [],
   "source": []
  },
  {
   "cell_type": "code",
   "execution_count": 7,
   "metadata": {
    "collapsed": true
   },
   "outputs": [],
   "source": [
    "# innocent_user_list = ['jessicaalba', 'HereIsGina', 'Louis_Tomlinson', 'hitRECordJoe']\n",
    "# every_user_list = ['katyperry', 'ZooeyDeschanel' ,'channingtatum' ,'iamjamiefoxx']\n",
    "# hero_user_list = ['BarackObama', 'GavinNewsom' ,'JustinTrudeau' ,'Captsully']\n",
    "# nurturer_user_list = ['Oprah', 'RWitherspoon' ,'DeepakChopra' ,'iamkidpresident']\n",
    "# creator_user_list = ['rustyrockets', 'mcuban' ,'MarthaStewart' ,'shondarhimes']\n",
    "# explorer_user_list = ['', '' ,'' ,'']\n",
    "# rebel_user_list = ['', '' ,'' ,'']\n",
    "# lover_user_list = ['', '' ,'' ,'']\n",
    "# magician_user_list = ['', '' ,'' ,'']\n",
    "# jester_user_list = ['', '' ,'' ,'']\n",
    "# sage_user_list = ['', '' ,'' ,'']\n",
    "# ruler_user_list = ['', '' ,'' ,'']"
   ]
  },
  {
   "cell_type": "code",
   "execution_count": 34,
   "metadata": {
    "collapsed": false
   },
   "outputs": [],
   "source": [
    "# #gets each tweet in a users historical twitter account and adds them all to a mongodb collection\n",
    "# for user in innocent_user_list:\n",
    "#     all_tweets = get_user_tweets(user)\n",
    "#     for tweet in all_tweets:\n",
    "#         client_aws.innocent_tweets.insert_one(json.loads(json.dumps(tweet._json)))"
   ]
  },
  {
   "cell_type": "code",
   "execution_count": 10,
   "metadata": {
    "collapsed": false
   },
   "outputs": [],
   "source": [
    "# for user in every_user_list:\n",
    "#     alltweets = get_user_tweets(user)\n",
    "#     for tweet in alltweets:\n",
    "#         client_aws.every_tweets.insert_one(json.loads(json.dumps(tweet._json)))"
   ]
  },
  {
   "cell_type": "code",
   "execution_count": 13,
   "metadata": {
    "collapsed": false
   },
   "outputs": [],
   "source": [
    "#  for user in hero_user_list:\n",
    "#     alltweets = get_user_tweets(user)\n",
    "#     for tweet in alltweets:\n",
    "#         client_aws.hero_tweets.insert_one(json.loads(json.dumps(tweet._json)))"
   ]
  },
  {
   "cell_type": "code",
   "execution_count": 14,
   "metadata": {
    "collapsed": false
   },
   "outputs": [],
   "source": [
    "# for user in nurturer_user_list:\n",
    "#     alltweets = get_user_tweets(user)\n",
    "#     for tweet in alltweets:\n",
    "#         client_aws.nurturer_tweets.insert_one(json.loads(json.dumps(tweet._json)))"
   ]
  },
  {
   "cell_type": "code",
   "execution_count": 15,
   "metadata": {
    "collapsed": true
   },
   "outputs": [],
   "source": [
    "# for user in creator_user_list:\n",
    "#     alltweets = get_user_tweets(user)\n",
    "#     for tweet in alltweets:\n",
    "#         client_aws.creator_tweets.insert_one(json.loads(json.dumps(tweet._json)))"
   ]
  },
  {
   "cell_type": "code",
   "execution_count": null,
   "metadata": {
    "collapsed": true
   },
   "outputs": [],
   "source": [
    "# for user in rebel_user_list:\n",
    "#     alltweets = get_user_tweets(user)\n",
    "#     for tweet in alltweets:\n",
    "#         client_aws.rebel_tweets.insert_one(json.loads(json.dumps(tweet._json)))"
   ]
  },
  {
   "cell_type": "code",
   "execution_count": null,
   "metadata": {
    "collapsed": true
   },
   "outputs": [],
   "source": [
    "# for user in lover_user_list:\n",
    "#     alltweets = get_user_tweets(user)\n",
    "#     for tweet in alltweets:\n",
    "#         client_aws.lover_tweets.insert_one(json.loads(json.dumps(tweet._json)))"
   ]
  },
  {
   "cell_type": "code",
   "execution_count": null,
   "metadata": {
    "collapsed": true
   },
   "outputs": [],
   "source": [
    "# for user in magician_user_list:\n",
    "#     alltweets = get_user_tweets(user)\n",
    "#     for tweet in alltweets:\n",
    "#         client_aws.magician_tweets.insert_one(json.loads(json.dumps(tweet._json)))"
   ]
  },
  {
   "cell_type": "code",
   "execution_count": null,
   "metadata": {
    "collapsed": true
   },
   "outputs": [],
   "source": [
    "# for user in jester_user_list:\n",
    "#     alltweets = get_user_tweets(user)\n",
    "#     for tweet in alltweets:\n",
    "#         client_aws.jester_tweets.insert_one(json.loads(json.dumps(tweet._json)))"
   ]
  },
  {
   "cell_type": "code",
   "execution_count": 44,
   "metadata": {
    "collapsed": false
   },
   "outputs": [],
   "source": [
    "# alltweets = get_user_tweets('EmmaWatson')\n",
    "# for tweet in alltweets:\n",
    "#     client_aws.sage_tweets.insert_one(json.loads(json.dumps(tweet._json)))"
   ]
  },
  {
   "cell_type": "code",
   "execution_count": 45,
   "metadata": {
    "collapsed": true
   },
   "outputs": [],
   "source": [
    "# alltweets = get_user_tweets('IyanlaVanzant')\n",
    "# for tweet in alltweets:\n",
    "#     client_aws.sage_tweets.insert_one(json.loads(json.dumps(tweet._json)))"
   ]
  },
  {
   "cell_type": "code",
   "execution_count": null,
   "metadata": {
    "collapsed": true
   },
   "outputs": [],
   "source": [
    "# for user in sage_user_list:\n",
    "#     alltweets = get_user_tweets(user)\n",
    "#     for tweet in alltweets:\n",
    "#         client_aws.sage_tweets.insert_one(json.loads(json.dumps(tweet._json)))"
   ]
  },
  {
   "cell_type": "code",
   "execution_count": null,
   "metadata": {
    "collapsed": true
   },
   "outputs": [],
   "source": [
    "# for user in ruler_user_list:\n",
    "#     alltweets = get_user_tweets(user)\n",
    "#     for tweet in alltweets:\n",
    "#         client_aws.ruler_tweets.insert_one(json.loads(json.dumps(tweet._json)))"
   ]
  },
  {
   "cell_type": "code",
   "execution_count": 26,
   "metadata": {
    "collapsed": true
   },
   "outputs": [],
   "source": [
    "def get_texts_and_user(user):\n",
    "    tweets = get_user_tweets(user)\n",
    "    return pd.concat([pd.DataFrame([[i.user.screen_name, i.text]], columns=['user','text']) for i in tweets],axis=0).reset_index(drop=True)"
   ]
  },
  {
   "cell_type": "code",
   "execution_count": 66,
   "metadata": {
    "collapsed": false
   },
   "outputs": [],
   "source": [
    "# jessica_df = get_texts_and_user('jessicaalba')\n",
    "# louis_df = get_texts_and_user('Louis_Tomlinson')\n",
    "# joseph_df = get_texts_and_user('hitRECordJoe')\n",
    "# zooey_df = get_texts_and_user('ZooeyDeschanel')\n",
    "# channing_df = get_texts_and_user('channingtatum')\n",
    "# jamie_df = get_texts_and_user('iamjamiefoxx')\n",
    "# gavin_df = get_texts_and_user('GavinNewsom')\n",
    "# justin_df = get_texts_and_user('JustinTrudeau')\n",
    "# sully_df = get_texts_and_user('Captsully')\n",
    "# reese_df = get_texts_and_user('RWitherspoon')\n",
    "# deepak_df = get_texts_and_user('DeepakChopra')\n",
    "# kid_df = get_texts_and_user('iamkidpresident')\n",
    "# mark_df = get_texts_and_user('mcuban')\n",
    "# martha_df = get_texts_and_user('MarthaStewart')\n",
    "# shonda_df = get_texts_and_user('shondarhimes')\n",
    "# laverne_df = get_texts_and_user('Lavernecox')\n",
    "# christiane_df = get_texts_and_user('camanpour')\n",
    "# courtney_df = get_texts_and_user('Courtney')\n",
    "# bill_df = get_texts_and_user('billmaher')\n",
    "# lena_df = get_texts_and_user('lenadunham')\n",
    "# madonna_df = get_texts_and_user('Madonna')\n",
    "# usher_df = get_texts_and_user('Usher')\n",
    "# weeknd_df = get_texts_and_user('theweeknd')\n",
    "# james_df = get_texts_and_user('JKCorden')\n",
    "# seth_df = get_texts_and_user('SethMacFarlane')\n",
    "# sarah_df = get_texts_and_user('SarahKSilverman')\n",
    "# dalai_df = get_texts_and_user('dalailama')\n",
    "# pope_df = get_texts_and_user('Pontifex')\n",
    "# diane_df = get_texts_and_user('DianeSawyer')\n",
    "# oz_df = get_texts_and_user('DrOz')\n",
    "# tony_df = get_texts_and_user('TonyRobbins')\n",
    "# lori_df = get_texts_and_user('LoriGreiner')\n",
    "# david_df = get_texts_and_user('David_Cameron')\n",
    "# marissa_df = get_texts_and_user('marissamayer')\n",
    "# hillary_df = get_texts_and_user('HillaryClinton')\n",
    "# gina_df = get_texts_and_user('HereIsGina')\n",
    "# katy_df = get_texts_and_user('katyperry')\n",
    "# barack_df = get_texts_and_user('BarackObama')\n",
    "# oprah_df = get_texts_and_user('Oprah')\n",
    "# noam_df = get_texts_and_user('noamchomskyT')\n",
    "# michael_df = get_texts_and_user('MMFlint')\n",
    "# kim_df = get_texts_and_user('KimKardashian')\n",
    "# russell_df = get_texts_and_user('rustyrockets')\n",
    "# ellen_df = get_texts_and_user('TheEllenShow')\n",
    "# paulo_df = get_texts_and_user('paulocoelho')\n",
    "# elon_df = get_texts_and_user('elonmusk')\n",
    "# donald_df = get_texts_and_user('realDonaldTrump')\n",
    "# anthony_df = get_texts_and_user('bourdain')\n",
    "# emma_df = get_texts_and_user('EmmaWatson')\n",
    "# iyanla_df = get_texts_and_user('IyanlaVanzant')"
   ]
  },
  {
   "cell_type": "code",
   "execution_count": 97,
   "metadata": {
    "collapsed": false,
    "scrolled": true
   },
   "outputs": [],
   "source": [
    "innocent = [gina_df, jessica_df, louis_df, joseph_df]\n",
    "innocent_df = pd.concat(innocent)\n",
    "innocent_df['group'] = innocent_df.apply(lambda x: 0, axis='columns')"
   ]
  },
  {
   "cell_type": "code",
   "execution_count": 98,
   "metadata": {
    "collapsed": false
   },
   "outputs": [],
   "source": [
    "everyperson = [katy_df, zooey_df, channing_df, jamie_df]\n",
    "everyperson_df = pd.concat(everyperson)\n",
    "everyperson_df['group'] = everyperson_df.apply(lambda x: 1, axis='columns')"
   ]
  },
  {
   "cell_type": "code",
   "execution_count": 99,
   "metadata": {
    "collapsed": false
   },
   "outputs": [],
   "source": [
    "hero = [barack_df, gavin_df, justin_df, sully_df]\n",
    "hero_df = pd.concat(hero)\n",
    "hero_df['group'] = hero_df.apply(lambda x: 2, axis='columns')"
   ]
  },
  {
   "cell_type": "code",
   "execution_count": 100,
   "metadata": {
    "collapsed": false
   },
   "outputs": [],
   "source": [
    "nurturer = [oprah_df, reese_df, deepak_df, kid_df]\n",
    "nurturer_df = pd.concat(nurturer)\n",
    "nurturer_df['group'] = nurturer_df.apply(lambda x: 3, axis='columns')"
   ]
  },
  {
   "cell_type": "code",
   "execution_count": 101,
   "metadata": {
    "collapsed": false
   },
   "outputs": [],
   "source": [
    "explorer = [noam_df, anthony_df, laverne_df, christiane_df]\n",
    "explorer_df = pd.concat(explorer)\n",
    "explorer_df['group'] = explorer_df.apply(lambda x: 4, axis='columns')"
   ]
  },
  {
   "cell_type": "code",
   "execution_count": 102,
   "metadata": {
    "collapsed": false
   },
   "outputs": [],
   "source": [
    "rebel = [michael_df, courtney_df, bill_df, lena_df]\n",
    "rebel_df = pd.concat(rebel)\n",
    "rebel_df['group'] = rebel_df.apply(lambda x: 5, axis='columns')"
   ]
  },
  {
   "cell_type": "code",
   "execution_count": 103,
   "metadata": {
    "collapsed": false
   },
   "outputs": [],
   "source": [
    "lover = [kim_df, madonna_df, usher_df, weeknd_df]\n",
    "lover_df = pd.concat(lover)\n",
    "lover_df['group'] = lover_df.apply(lambda x: 6, axis='columns')"
   ]
  },
  {
   "cell_type": "code",
   "execution_count": 104,
   "metadata": {
    "collapsed": false
   },
   "outputs": [],
   "source": [
    "creator = [russell_df, martha_df, mark_df, shonda_df]\n",
    "creator_df = pd.concat(creator)\n",
    "creator_df['group'] = creator_df.apply(lambda x: 7, axis='columns')"
   ]
  },
  {
   "cell_type": "code",
   "execution_count": 105,
   "metadata": {
    "collapsed": false
   },
   "outputs": [],
   "source": [
    "jester = [ellen_df, james_df, seth_df, sarah_df]\n",
    "jester_df = pd.concat(jester)\n",
    "jester_df['group'] = jester_df.apply(lambda x: 8, axis='columns')"
   ]
  },
  {
   "cell_type": "code",
   "execution_count": 106,
   "metadata": {
    "collapsed": false
   },
   "outputs": [],
   "source": [
    "sage = [paulo_df, dalai_df, pope_df, diane_df, iyanla_df, emma_df]\n",
    "sage_df = pd.concat(sage)\n",
    "sage_df['group'] = sage_df.apply(lambda x: 9, axis='columns')"
   ]
  },
  {
   "cell_type": "code",
   "execution_count": 107,
   "metadata": {
    "collapsed": false
   },
   "outputs": [],
   "source": [
    "magician = [elon_df, oz_df, tony_df, lori_df]\n",
    "magician_df = pd.concat(magician)\n",
    "magician_df['group'] = magician_df.apply(lambda x: 10, axis='columns')"
   ]
  },
  {
   "cell_type": "code",
   "execution_count": 108,
   "metadata": {
    "collapsed": false
   },
   "outputs": [],
   "source": [
    "ruler = [donald_df, david_df, marissa_df, hillary_df]\n",
    "ruler_df = pd.concat(ruler)\n",
    "ruler_df['group'] = ruler_df.apply(lambda x: 11, axis='columns')"
   ]
  },
  {
   "cell_type": "code",
   "execution_count": 6,
   "metadata": {
    "collapsed": false
   },
   "outputs": [
    {
     "ename": "NameError",
     "evalue": "name 'innocent_df' is not defined",
     "output_type": "error",
     "traceback": [
      "\u001b[0;31m---------------------------------------------------------------------------\u001b[0m",
      "\u001b[0;31mNameError\u001b[0m                                 Traceback (most recent call last)",
      "\u001b[0;32m<ipython-input-6-6a74a7bf026c>\u001b[0m in \u001b[0;36m<module>\u001b[0;34m()\u001b[0m\n\u001b[0;32m----> 1\u001b[0;31m all_tweets = [innocent_df, \n\u001b[0m\u001b[1;32m      2\u001b[0m               \u001b[0meveryperson_df\u001b[0m\u001b[0;34m,\u001b[0m\u001b[0;34m\u001b[0m\u001b[0m\n\u001b[1;32m      3\u001b[0m               \u001b[0mhero_df\u001b[0m\u001b[0;34m,\u001b[0m\u001b[0;34m\u001b[0m\u001b[0m\n\u001b[1;32m      4\u001b[0m               \u001b[0mnurturer_df\u001b[0m\u001b[0;34m,\u001b[0m\u001b[0;34m\u001b[0m\u001b[0m\n\u001b[1;32m      5\u001b[0m               \u001b[0mexplorer_df\u001b[0m\u001b[0;34m,\u001b[0m\u001b[0;34m\u001b[0m\u001b[0m\n",
      "\u001b[0;31mNameError\u001b[0m: name 'innocent_df' is not defined"
     ]
    }
   ],
   "source": [
    "all_tweets = [innocent_df, \n",
    "              everyperson_df, \n",
    "              hero_df, \n",
    "              nurturer_df, \n",
    "              explorer_df, \n",
    "              rebel_df, \n",
    "              lover_df, \n",
    "              creator_df, \n",
    "              jester_df, \n",
    "              sage_df, \n",
    "              magician_df, \n",
    "              ruler_df]\n",
    "all_tweets_df = pd.concat(all_tweets)"
   ]
  },
  {
   "cell_type": "code",
   "execution_count": 1,
   "metadata": {
    "collapsed": false
   },
   "outputs": [
    {
     "ename": "NameError",
     "evalue": "name 'all_tweets_df' is not defined",
     "output_type": "error",
     "traceback": [
      "\u001b[0;31m---------------------------------------------------------------------------\u001b[0m",
      "\u001b[0;31mNameError\u001b[0m                                 Traceback (most recent call last)",
      "\u001b[0;32m<ipython-input-1-52bbdf590354>\u001b[0m in \u001b[0;36m<module>\u001b[0;34m()\u001b[0m\n\u001b[0;32m----> 1\u001b[0;31m \u001b[0mall_tweets_df\u001b[0m\u001b[0;34m.\u001b[0m\u001b[0mhead\u001b[0m\u001b[0;34m(\u001b[0m\u001b[0;34m)\u001b[0m\u001b[0;34m\u001b[0m\u001b[0m\n\u001b[0m",
      "\u001b[0;31mNameError\u001b[0m: name 'all_tweets_df' is not defined"
     ]
    }
   ],
   "source": [
    "all_tweets_df.head()"
   ]
  },
  {
   "cell_type": "code",
   "execution_count": 117,
   "metadata": {
    "collapsed": true
   },
   "outputs": [],
   "source": [
    "with open('all_tweets_df.pkl', 'w') as picklefile:\n",
    "    pickle.dump(all_tweets_df, picklefile)"
   ]
  },
  {
   "cell_type": "code",
   "execution_count": 75,
   "metadata": {
    "collapsed": true
   },
   "outputs": [],
   "source": [
    "with open('innocent_df.pkl', 'w') as picklefile:\n",
    "    pickle.dump(innocent_df, picklefile)"
   ]
  },
  {
   "cell_type": "code",
   "execution_count": 76,
   "metadata": {
    "collapsed": true
   },
   "outputs": [],
   "source": [
    "with open('everyperson_df.pkl', 'w') as picklefile:\n",
    "    pickle.dump(everyperson_df, picklefile)"
   ]
  },
  {
   "cell_type": "code",
   "execution_count": 77,
   "metadata": {
    "collapsed": true
   },
   "outputs": [],
   "source": [
    "with open('hero_df.pkl', 'w') as picklefile:\n",
    "    pickle.dump(hero_df, picklefile)"
   ]
  },
  {
   "cell_type": "code",
   "execution_count": 78,
   "metadata": {
    "collapsed": true
   },
   "outputs": [],
   "source": [
    "with open('nurturer_df.pkl', 'w') as picklefile:\n",
    "    pickle.dump(nurturer_df, picklefile)"
   ]
  },
  {
   "cell_type": "code",
   "execution_count": 79,
   "metadata": {
    "collapsed": true
   },
   "outputs": [],
   "source": [
    "with open('explorer_df.pkl', 'w') as picklefile:\n",
    "    pickle.dump(explorer_df, picklefile)"
   ]
  },
  {
   "cell_type": "code",
   "execution_count": 80,
   "metadata": {
    "collapsed": true
   },
   "outputs": [],
   "source": [
    "with open('rebel_df.pkl', 'w') as picklefile:\n",
    "    pickle.dump(rebel_df, picklefile)"
   ]
  },
  {
   "cell_type": "code",
   "execution_count": 81,
   "metadata": {
    "collapsed": true
   },
   "outputs": [],
   "source": [
    "with open('lover_df.pkl', 'w') as picklefile:\n",
    "    pickle.dump(lover_df, picklefile)"
   ]
  },
  {
   "cell_type": "code",
   "execution_count": 83,
   "metadata": {
    "collapsed": false
   },
   "outputs": [],
   "source": [
    "with open('creator_df.pkl', 'w') as picklefile:\n",
    "    pickle.dump(creator_df, picklefile)"
   ]
  },
  {
   "cell_type": "code",
   "execution_count": 84,
   "metadata": {
    "collapsed": true
   },
   "outputs": [],
   "source": [
    "with open('jester_df.pkl', 'w') as picklefile:\n",
    "    pickle.dump(jester_df, picklefile)"
   ]
  },
  {
   "cell_type": "code",
   "execution_count": 85,
   "metadata": {
    "collapsed": true
   },
   "outputs": [],
   "source": [
    "with open('sage_df.pkl', 'w') as picklefile:\n",
    "    pickle.dump(sage_df, picklefile)"
   ]
  },
  {
   "cell_type": "code",
   "execution_count": 86,
   "metadata": {
    "collapsed": true
   },
   "outputs": [],
   "source": [
    "with open('magician_df.pkl', 'w') as picklefile:\n",
    "    pickle.dump(magician_df, picklefile)"
   ]
  },
  {
   "cell_type": "code",
   "execution_count": 87,
   "metadata": {
    "collapsed": true
   },
   "outputs": [],
   "source": [
    "with open('ruler_df.pkl', 'w') as picklefile:\n",
    "    pickle.dump(ruler_df, picklefile)"
   ]
  },
  {
   "cell_type": "code",
   "execution_count": null,
   "metadata": {
    "collapsed": true
   },
   "outputs": [],
   "source": []
  }
 ],
 "metadata": {
  "anaconda-cloud": {},
  "kernelspec": {
   "display_name": "Python [conda root]",
   "language": "python",
   "name": "conda-root-py"
  },
  "language_info": {
   "codemirror_mode": {
    "name": "ipython",
    "version": 2
   },
   "file_extension": ".py",
   "mimetype": "text/x-python",
   "name": "python",
   "nbconvert_exporter": "python",
   "pygments_lexer": "ipython2",
   "version": "2.7.12"
  }
 },
 "nbformat": 4,
 "nbformat_minor": 1
}
