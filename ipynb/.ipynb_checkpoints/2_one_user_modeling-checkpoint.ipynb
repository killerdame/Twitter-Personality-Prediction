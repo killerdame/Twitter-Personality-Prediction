{
 "cells": [
  {
   "cell_type": "code",
   "execution_count": 1,
   "metadata": {
    "collapsed": true
   },
   "outputs": [],
   "source": [
    "import os\n",
    "os.chdir('../')"
   ]
  },
  {
   "cell_type": "code",
   "execution_count": 2,
   "metadata": {
    "collapsed": false
   },
   "outputs": [],
   "source": [
    "import xgboost as xgb\n",
    "import seaborn as sns\n",
    "import pandas as pd\n",
    "import numpy as np\n",
    "import matplotlib.pyplot as plt\n",
    "%matplotlib inline\n",
    "import pickle\n",
    "import re\n",
    "from sklearn.neural_network import MLPClassifier\n",
    "from sklearn.preprocessing import LabelEncoder\n",
    "from sklearn.feature_extraction.text import TfidfVectorizer\n",
    "from sklearn.decomposition import TruncatedSVD\n",
    "from sklearn.model_selection import train_test_split, GridSearchCV, KFold, RandomizedSearchCV, StratifiedKFold\n",
    "from sklearn.linear_model import LogisticRegression\n",
    "from sklearn.tree import DecisionTreeClassifier\n",
    "from sklearn.naive_bayes import GaussianNB \n",
    "from sklearn.neighbors import KNeighborsClassifier\n",
    "from sklearn.ensemble import GradientBoostingClassifier, ExtraTreesClassifier, RandomForestClassifier\n",
    "from sklearn.metrics import accuracy_score, precision_score, recall_score, confusion_matrix, classification_report, silhouette_score\n",
    "from sklearn.datasets import make_classification\n",
    "from scipy.stats import randint, uniform\n",
    "from xgboost.sklearn import XGBClassifier\n",
    "import sklearn.neural_network as nn\n",
    "from sklearn.cluster import KMeans\n",
    "from lib.general_model import general_model\n",
    "from lib.prediction_module import prediction_prob"
   ]
  },
  {
   "cell_type": "code",
   "execution_count": 3,
   "metadata": {
    "collapsed": false
   },
   "outputs": [],
   "source": [
    "from sklearn.externals import joblib\n",
    "transformer = joblib.load('data/tweets_df.pkl')"
   ]
  },
  {
   "cell_type": "code",
   "execution_count": 4,
   "metadata": {
    "collapsed": true
   },
   "outputs": [],
   "source": [
    "twitionary = {  0 : 'Elon Musk', \n",
    "                1 : 'Donald Trump', \n",
    "                2 : 'Ellen Degeneres',\n",
    "                3 : 'Kim Kardashian',\n",
    "                4 : 'Noam Chomsky',\n",
    "                5 : 'Michael Moore',\n",
    "                6 : 'Oprah Winfrey',\n",
    "                7 : 'Katy Perry',\n",
    "                8 : 'Paulo Coelho',\n",
    "                9 : 'Gina Rodriguez',\n",
    "                10 : 'Russell Brand',\n",
    "                11 : 'Barack Obama'}"
   ]
  },
  {
   "cell_type": "code",
   "execution_count": null,
   "metadata": {
    "collapsed": false
   },
   "outputs": [],
   "source": []
  },
  {
   "cell_type": "markdown",
   "metadata": {
    "collapsed": false
   },
   "source": [
    "Using Cleaned Data"
   ]
  },
  {
   "cell_type": "code",
   "execution_count": null,
   "metadata": {
    "collapsed": false
   },
   "outputs": [],
   "source": [
    "cleaned_data = pd.read_pickle('data/cleaned_data.pkl')"
   ]
  },
  {
   "cell_type": "code",
   "execution_count": null,
   "metadata": {
    "collapsed": true
   },
   "outputs": [],
   "source": [
    "tfid_vec = TfidfVectorizer(stop_words='english', decode_error='replace', use_idf=True, max_df=2.0)\n",
    "c_tfid = tfid_vec.fit_transform(cleaned_data['text'])"
   ]
  },
  {
   "cell_type": "code",
   "execution_count": null,
   "metadata": {
    "collapsed": false
   },
   "outputs": [],
   "source": [
    "c_svd = TruncatedSVD(n_components=500, n_iter=100)\n",
    "c_transformed_X = pd.DataFrame(c_svd.fit_transform(c_tfid))\n",
    "#about 5 minutes"
   ]
  },
  {
   "cell_type": "code",
   "execution_count": null,
   "metadata": {
    "collapsed": false
   },
   "outputs": [],
   "source": [
    "x = range(500)\n",
    "plt.plot(x, np.cumsum(c_svd.explained_variance_ratio_), color='black')\n",
    "plt.ylim(0, 0.5)\n",
    "\n",
    "plt.xlabel('Cleaned SVD components')\n",
    "plt.ylabel('Explained Variance')\n",
    "plt.show()"
   ]
  },
  {
   "cell_type": "markdown",
   "metadata": {},
   "source": [
    "Using Raw Data"
   ]
  },
  {
   "cell_type": "code",
   "execution_count": 12,
   "metadata": {
    "collapsed": false
   },
   "outputs": [],
   "source": [
    "raw_data = pd.read_pickle('data/tweets_df.pkl')"
   ]
  },
  {
   "cell_type": "code",
   "execution_count": 13,
   "metadata": {
    "collapsed": false
   },
   "outputs": [],
   "source": [
    "tfid = TfidfVectorizer(stop_words='english', decode_error='replace', use_idf=True, max_df=2.0)\n",
    "tfid = tfid.fit_transform(raw_data['text'])"
   ]
  },
  {
   "cell_type": "code",
   "execution_count": 14,
   "metadata": {
    "collapsed": false
   },
   "outputs": [],
   "source": [
    "svd = TruncatedSVD(n_components=500, n_iter=100)\n",
    "transformed_X = pd.DataFrame(svd.fit_transform(tfid1))\n",
    "#about 5 minutes"
   ]
  },
  {
   "cell_type": "code",
   "execution_count": 15,
   "metadata": {
    "collapsed": false,
    "scrolled": false
   },
   "outputs": [
    {
     "data": {
      "image/png": "[encoded data removed]",
      "text/plain": [
       "<matplotlib.figure.Figure at 0x1156bce10>"
      ]
     },
     "metadata": {},
     "output_type": "display_data"
    }
   ],
   "source": [
    "x = range(500)\n",
    "plt.plot(x, np.cumsum(svd.explained_variance_ratio_), color='black')\n",
    "plt.ylim(0, 0.5)\n",
    "\n",
    "plt.xlabel('SVD components')\n",
    "plt.ylabel('Explained Variance')\n",
    "plt.show()"
   ]
  },
  {
   "cell_type": "code",
   "execution_count": 16,
   "metadata": {
    "collapsed": false
   },
   "outputs": [],
   "source": [
    "with open('tfid1.pkl', 'w') as picklefile:\n",
    "    pickle.dump(tfid1, picklefile)"
   ]
  },
  {
   "cell_type": "code",
   "execution_count": 17,
   "metadata": {
    "collapsed": true
   },
   "outputs": [],
   "source": [
    "with open('svd.pkl', 'w') as picklefile:\n",
    "    pickle.dump(svd, picklefile)"
   ]
  },
  {
   "cell_type": "markdown",
   "metadata": {},
   "source": [
    "#### Raw Data"
   ]
  },
  {
   "cell_type": "code",
   "execution_count": null,
   "metadata": {
    "collapsed": false
   },
   "outputs": [],
   "source": [
    "y = raw_data['user']\n",
    "X = transformed_X "
   ]
  },
  {
   "cell_type": "code",
   "execution_count": null,
   "metadata": {
    "collapsed": false
   },
   "outputs": [],
   "source": [
    "le = LabelEncoder()\n",
    "y = le.fit_transform(y)"
   ]
  },
  {
   "cell_type": "code",
   "execution_count": null,
   "metadata": {
    "collapsed": false
   },
   "outputs": [],
   "source": [
    "X_train, X_test, y_train, y_test = train_test_split(X, y, test_size=.3, random_state=50 )\n",
    "data_dict = {\n",
    "             'X_test' : X_test,\n",
    "             'X_train' : X_train,\n",
    "             'y_test' : y_test,\n",
    "             'y_train' : y_train} "
   ]
  },
  {
   "cell_type": "markdown",
   "metadata": {
    "collapsed": false
   },
   "source": [
    "#### Cleaned Data"
   ]
  },
  {
   "cell_type": "code",
   "execution_count": null,
   "metadata": {
    "collapsed": false
   },
   "outputs": [],
   "source": [
    "c_y = cleaned_data['user']\n",
    "c_X = c_transformed_X "
   ]
  },
  {
   "cell_type": "code",
   "execution_count": null,
   "metadata": {
    "collapsed": false
   },
   "outputs": [],
   "source": [
    "le = LabelEncoder()\n",
    "c_y = le.fit_transform(c_y)"
   ]
  },
  {
   "cell_type": "code",
   "execution_count": null,
   "metadata": {
    "collapsed": true
   },
   "outputs": [],
   "source": [
    "c_X_train, c_X_test, c_y_train, c_y_test = train_test_split(c_X, c_y, test_size=.3, random_state=50 )\n",
    "data_dict = {\n",
    "             'X_test' : c_X_test,\n",
    "             'X_train' : c_X_train,\n",
    "             'y_test' : c_y_test,\n",
    "             'y_train' : c_y_train} "
   ]
  },
  {
   "cell_type": "code",
   "execution_count": null,
   "metadata": {
    "collapsed": false
   },
   "outputs": [],
   "source": [
    "# kmeans = KMeans(n_clusters=12)\n",
    "# kmeans.fit(X)"
   ]
  },
  {
   "cell_type": "code",
   "execution_count": null,
   "metadata": {
    "collapsed": false
   },
   "outputs": [],
   "source": [
    "# labels = kmeans.labels_\n",
    "# centroids = kmeans.cluster_centers_"
   ]
  },
  {
   "cell_type": "code",
   "execution_count": null,
   "metadata": {
    "collapsed": false
   },
   "outputs": [],
   "source": [
    "# silhouette_score(X, labels, metric='euclidean')\n",
    "# print(classification_report(y, predicted_y))\n",
    "# print(confusion_matrix(y, predicted_y))"
   ]
  },
  {
   "cell_type": "code",
   "execution_count": null,
   "metadata": {
    "collapsed": true
   },
   "outputs": [],
   "source": [
    "# def k_means_fit_score(X, y, k):\n",
    "#     print(\"k: {}\".format(k))\n",
    "#     kmeans = cluster.KMeans(n_clusters=k)\n",
    "#     kmeans.fit(X)\n",
    "    \n",
    "#     labels = kmeans.labels_\n",
    "#     centroids = kmeans.cluster_centers_\n",
    "#     predicted_y = np.choose(labels, range(1,k+1))\n",
    "#     acc = metrics.accuracy_score(y, predicted_y)\n",
    "#     sil = metrics.silhouette_score(X, labels, metric='euclidean')\n",
    "#     print(\"---\")\n",
    "#     print(\"accuracy: {}\".format(acc))\n",
    "#     print(\"silhouette score: {}\".format(sil))\n",
    "#     print(\"classfication report\")\n",
    "#     print(metrics.classification_report(y, predicted_y))\n",
    "#     print(\"confusion matrix\")\n",
    "#     print(metrics.confusion_matrix(y, predicted_y))\n",
    "#     print(\"\\n\")\n",
    "    \n",
    "#     return acc, sil"
   ]
  },
  {
   "cell_type": "code",
   "execution_count": null,
   "metadata": {
    "collapsed": true
   },
   "outputs": [],
   "source": []
  },
  {
   "cell_type": "markdown",
   "metadata": {},
   "source": [
    "#### Logistic Regression"
   ]
  },
  {
   "cell_type": "code",
   "execution_count": null,
   "metadata": {
    "collapsed": false,
    "scrolled": true
   },
   "outputs": [],
   "source": [
    "log_reg = LogisticRegression(penalty='l2', C=1)\n",
    "log_reg.fit(X_train, y_train)\n",
    "accuracy = log_reg.score(X_test, y_test)\n",
    "print(\"Accuracy: %.2f%%\" % (accuracy * 100.0))"
   ]
  },
  {
   "cell_type": "code",
   "execution_count": null,
   "metadata": {
    "collapsed": false
   },
   "outputs": [],
   "source": [
    "c_log_reg = LogisticRegression(penalty='l2', C=1)\n",
    "c_log_reg.fit(c_X_train, c_y_train)\n",
    "c_accuracy = c_log_reg.score(c_X_test, c_y_test)\n",
    "print(\"Accuracy: %.2f%%\" % (c_accuracy * 100.0))"
   ]
  },
  {
   "cell_type": "code",
   "execution_count": null,
   "metadata": {
    "collapsed": false
   },
   "outputs": [],
   "source": [
    "pred_prob = log_reg.predict_proba(X_test[2050:2051]).argmax()\n",
    "print \"The predicted twitter user is:\"\n",
    "print twitionary[pred_prob]\n",
    "print ''\n",
    "print \"The real twitter user is:\"\n",
    "print twitionary[y_test[2050]]"
   ]
  },
  {
   "cell_type": "code",
   "execution_count": null,
   "metadata": {
    "collapsed": false
   },
   "outputs": [],
   "source": [
    "labels = twitionary.keys()\n",
    "plt.pie(pred_prob, autopct='%1.1f%%', shadow=True, startangle=90)\n",
    "plt.show()\n",
    "actual = y_test[2000]\n",
    "print(\"Probability: %.2f%%\" % (pred_prob.max() * 100.0))\n",
    "print pred_prob.argmax()"
   ]
  },
  {
   "cell_type": "code",
   "execution_count": null,
   "metadata": {
    "collapsed": false
   },
   "outputs": [],
   "source": [
    "# X = raw_data.text\n",
    "# def clean_text(X):\n",
    "#     all_words = [rb_words, gr_words, dt_words, bo_words, mm_words, ow_words, em_words, kk_words, kp_words, nc_worwords = X.replace('\\(', '').replace('\\)', '').replace('@', '').replace('https://.?', '')\n",
    "# X = re.sub(r\"http\\S+\", \"\", X)\n",
    "# X = re.sub(\"['\\''%'':''#'')''('';''\\n''/''.''!''*''-''+''$'',''?''~''&''@''``''-''=''--''|''<''>']\", \"\", X)\n",
    "# stop_words = set(stopwords.words('english'))\n",
    "# word_tokens = word_tokenize(X.lower())\n",
    "# filtered_text = [w for w in X if not w in stop_words]"
   ]
  },
  {
   "cell_type": "markdown",
   "metadata": {
    "collapsed": false
   },
   "source": [
    "#### Decision Trees"
   ]
  },
  {
   "cell_type": "code",
   "execution_count": null,
   "metadata": {
    "collapsed": false
   },
   "outputs": [],
   "source": [
    "dec_tree = DecisionTreeClassifier(criterion='gini',max_depth=None, min_samples_split=3)\n",
    "dec_tree.fit(X_train, y_train)\n",
    "accuracy = dec_tree.score(X_test, y_test)\n",
    "print(\"Accuracy: %.2f%%\" % (accuracy * 100.0))"
   ]
  },
  {
   "cell_type": "code",
   "execution_count": null,
   "metadata": {
    "collapsed": false
   },
   "outputs": [],
   "source": [
    "c_dec_tree = DecisionTreeClassifier(criterion='gini',max_depth=None, min_samples_split=3)\n",
    "c_dec_tree.fit(c_X_train, c_y_train)\n",
    "c_accuracy = c_dec_tree.score(c_X_test, c_y_test)\n",
    "print(\"Accuracy: %.2f%%\" % (c_accuracy * 100.0))"
   ]
  },
  {
   "cell_type": "markdown",
   "metadata": {},
   "source": [
    "#### Random Forest"
   ]
  },
  {
   "cell_type": "code",
   "execution_count": null,
   "metadata": {
    "collapsed": false
   },
   "outputs": [],
   "source": [
    "rand_for = RandomForestClassifier(n_estimators=50, min_samples_split=3, criterion='gini')\n",
    "rand_for.fit(X_train, y_train)\n",
    "accuracy = rand_for.score(X_test, y_test)\n",
    "print(\"Accuracy: %.2f%%\" % (accuracy * 100.0))"
   ]
  },
  {
   "cell_type": "code",
   "execution_count": null,
   "metadata": {
    "collapsed": false
   },
   "outputs": [],
   "source": [
    "c_rand_for = RandomForestClassifier(n_estimators=50, min_samples_split=3, criterion='gini')\n",
    "c_rand_for.fit(c_X_train, c_y_train)\n",
    "c_accuracy = rand_for.score(c_X_test, c_y_test)\n",
    "print(\"Accuracy: %.2f%%\" % (c_accuracy * 100.0))"
   ]
  },
  {
   "cell_type": "markdown",
   "metadata": {},
   "source": [
    "#### K Neighbors "
   ]
  },
  {
   "cell_type": "code",
   "execution_count": null,
   "metadata": {
    "collapsed": false
   },
   "outputs": [],
   "source": [
    "knn = KNeighborsClassifier(n_neighbors=5, weights='distance', algorithm='brute')\n",
    "knn.fit(X_train, y_train)\n",
    "accuracy = knn.score(X_test, y_test)\n",
    "print(\"Accuracy: %.2f%%\" % (accuracy * 100.0))"
   ]
  },
  {
   "cell_type": "code",
   "execution_count": null,
   "metadata": {
    "collapsed": false
   },
   "outputs": [],
   "source": [
    "c_knn = KNeighborsClassifier(n_neighbors=5, weights='distance', algorithm='brute')\n",
    "c_knn.fit(c_X_train, c_y_train)\n",
    "c_accuracy = c_knn.score(c_X_test, c_y_test)\n",
    "print(\"Accuracy: %.2f%%\" % (c_accuracy * 100.0))"
   ]
  },
  {
   "cell_type": "markdown",
   "metadata": {},
   "source": [
    "#### Extra Trees"
   ]
  },
  {
   "cell_type": "code",
   "execution_count": null,
   "metadata": {
    "collapsed": false
   },
   "outputs": [],
   "source": [
    "ext_tree = ExtraTreesClassifier(n_estimators=50, criterion='entropy')\n",
    "ext_tree.fit(X_train, y_train)\n",
    "accuracy =  ext_tree.score(X_test, y_test)\n",
    "print(\"Accuracy: %.2f%%\" % (accuracy * 100.0))"
   ]
  },
  {
   "cell_type": "code",
   "execution_count": null,
   "metadata": {
    "collapsed": false
   },
   "outputs": [],
   "source": [
    "c_ext_tree = ExtraTreesClassifier(n_estimators=50, criterion='entropy')\n",
    "c_ext_tree.fit(c_X_train, c_y_train)\n",
    "c_accuracy =  c_ext_tree.score(c_X_test, c_y_test)\n",
    "print(\"Accuracy: %.2f%%\" % (c_accuracy * 100.0))"
   ]
  },
  {
   "cell_type": "markdown",
   "metadata": {},
   "source": [
    "#### Naive Bayes"
   ]
  },
  {
   "cell_type": "code",
   "execution_count": null,
   "metadata": {
    "collapsed": false
   },
   "outputs": [],
   "source": [
    "gnb = GaussianNB()\n",
    "gnb.fit(X_train, y_train)\n",
    "accuracy =  gnb.score(X_test, y_test)\n",
    "print(\"Accuracy: %.2f%%\" % (accuracy * 100.0))"
   ]
  },
  {
   "cell_type": "code",
   "execution_count": null,
   "metadata": {
    "collapsed": false
   },
   "outputs": [],
   "source": [
    "c_gnb = GaussianNB()\n",
    "c_gnb.fit(c_X_train, c_y_train)\n",
    "c_accuracy =  c_gnb.score(c_X_test, c_y_test)\n",
    "print(\"Accuracy: %.2f%%\" % (c_accuracy * 100.0))"
   ]
  },
  {
   "cell_type": "markdown",
   "metadata": {},
   "source": [
    "#### Gradient Boosting"
   ]
  },
  {
   "cell_type": "code",
   "execution_count": null,
   "metadata": {
    "collapsed": false
   },
   "outputs": [],
   "source": [
    "gbc = GradientBoostingClassifier(max_depth=1, warm_start=True)\n",
    "gbc.fit(X_train, y_train)\n",
    "accuracy =  gbc.score(X_test, y_test)\n",
    "print(\"Accuracy: %.2f%%\" % (accuracy * 100.0))"
   ]
  },
  {
   "cell_type": "code",
   "execution_count": null,
   "metadata": {
    "collapsed": false
   },
   "outputs": [],
   "source": [
    "c_gbc = GradientBoostingClassifier(max_depth=1, warm_start=True)\n",
    "c_gbc.fit(c_X_train, c_y_train)\n",
    "c_accuracy =  c_gbc.score(c_X_test, c_y_test)\n",
    "print(\"Accuracy: %.2f%%\" % (c_accuracy * 100.0))"
   ]
  },
  {
   "cell_type": "markdown",
   "metadata": {},
   "source": [
    "#### Neural Network "
   ]
  },
  {
   "cell_type": "code",
   "execution_count": null,
   "metadata": {
    "collapsed": false
   },
   "outputs": [],
   "source": [
    "mlpc = nn.MLPClassifier(verbose=2, max_iter=2000, activation = 'logistic', solver= 'adam', hidden_layer_sizes= (100,))                    \n",
    "mlpc.fit(X_train, y_train)\n",
    "\n",
    "pred = mlpc.predict(X_test)\n",
    "mlpc_results = zip(pred,y_test)\n",
    "results = []\n",
    "for m in mlpc_results: \n",
    "    if m[0] == m[1]:\n",
    "        results.append(int(1))\n",
    "    else:\n",
    "        results.append(int(0))\n",
    "accuracy = float(sum(results))/len(results)\n",
    "print(\"Accuracy: %.2f%%\" % (accuracy * 100.0))"
   ]
  },
  {
   "cell_type": "code",
   "execution_count": null,
   "metadata": {
    "collapsed": true
   },
   "outputs": [],
   "source": [
    "with open('mlpc.pkl', 'w') as picklefile:\n",
    "    pickle.dump(mlpc, picklefile)"
   ]
  },
  {
   "cell_type": "code",
   "execution_count": null,
   "metadata": {
    "collapsed": true
   },
   "outputs": [],
   "source": []
  },
  {
   "cell_type": "code",
   "execution_count": null,
   "metadata": {
    "collapsed": true
   },
   "outputs": [],
   "source": []
  },
  {
   "cell_type": "code",
   "execution_count": null,
   "metadata": {
    "collapsed": true
   },
   "outputs": [],
   "source": []
  },
  {
   "cell_type": "code",
   "execution_count": null,
   "metadata": {
    "collapsed": false
   },
   "outputs": [],
   "source": [
    "c_mlpc = nn.MLPClassifier(verbose=2, max_iter=2000, activation = 'logistic', hidden_layer_sizes= (100,))                    \n",
    "mlpc.fit(c_X_train, c_y_train)\n",
    "\n",
    "c_pred= mlpc.predict(c_X_test)\n",
    "c_mlpc_results = zip(c_pred,c_y_test)\n",
    "results = []\n",
    "for m in c_mlpc_results:\n",
    "    if m[0] == m[1]:\n",
    "        results.append(int(1))\n",
    "    else:\n",
    "        results.append(int(0))\n",
    "c_accuracy = float(sum(results))/len(results)\n",
    "print(\"Accuracy: %.2f%%\" % (c_accuracy * 100.0))\n"
   ]
  },
  {
   "cell_type": "code",
   "execution_count": null,
   "metadata": {
    "collapsed": false
   },
   "outputs": [],
   "source": [
    "pred_prob = mlpc.predict_proba(X_test[3008:3009]).argmax()\n",
    "print \"The predicted twitter user is:\"\n",
    "print twitionary[pred_prob]\n",
    "print ''\n",
    "print \"The real twitter user is:\"\n",
    "print twitionary[y_test[3008]]"
   ]
  }
 ],
 "metadata": {
  "anaconda-cloud": {},
  "kernelspec": {
   "display_name": "Python [conda root]",
   "language": "python",
   "name": "conda-root-py"
  },
  "language_info": {
   "codemirror_mode": {
    "name": "ipython",
    "version": 2
   },
   "file_extension": ".py",
   "mimetype": "text/x-python",
   "name": "python",
   "nbconvert_exporter": "python",
   "pygments_lexer": "ipython2",
   "version": "2.7.12"
  }
 },
 "nbformat": 4,
 "nbformat_minor": 1
}
