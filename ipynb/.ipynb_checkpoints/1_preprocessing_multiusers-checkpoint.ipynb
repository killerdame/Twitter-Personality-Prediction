{
 "cells": [
  {
   "cell_type": "code",
   "execution_count": 22,
   "metadata": {
    "collapsed": false
   },
   "outputs": [],
   "source": [
    "import os\n",
    "os.chdir('../')"
   ]
  },
  {
   "cell_type": "code",
   "execution_count": 23,
   "metadata": {
    "collapsed": false
   },
   "outputs": [],
   "source": [
    "from lib.pull_tweets import connect_to_mongo, get_twitter_client, select_all_tweets, get_user_tweets\n",
    "import twitter, yaml, tweepy\n",
    "import pymongo\n",
    "import pandas as pd\n",
    "from pymongo import MongoClient\n",
    "import csv\n",
    "import re\n",
    "from nltk.tokenize import RegexpTokenizer\n",
    "from nltk.stem import LancasterStemmer\n",
    "from nltk.corpus import stopwords\n",
    "from unidecode import unidecode\n",
    "from lib.cleaning_module import clean_text\n",
    "from nltk.tokenize import word_tokenize\n",
    "import pickle\n",
    "from tweepy import OAuthHandler\n",
    "import json"
   ]
  },
  {
   "cell_type": "code",
   "execution_count": 25,
   "metadata": {
    "collapsed": false,
    "scrolled": true
   },
   "outputs": [
    {
     "name": "stdout",
     "output_type": "stream",
     "text": [
      "[u'ellen', u'creator_tweets', u'innocent_tweets', u'gina', u'rebel_tweets', u'sage_tweets', u'tweets', u'elon', u'donald', u'russell', u'ruler_tweets', u'michael', u'magician_tweets', u'jester_tweets', u'noam', u'paolo', u'nurturer_tweets', u'pers', u'oprah', u'katy', u'explorer_tweets', u'barack', u'bourdain', u'lover_tweets', u'kim', u'hero_tweets', u'every_tweets']\n"
     ]
    }
   ],
   "source": [
    "client_aws = connect_to_mongo()"
   ]
  },
  {
   "cell_type": "code",
   "execution_count": 5,
   "metadata": {
    "collapsed": false
   },
   "outputs": [],
   "source": [
    "access_key =  '823714388905336832-Vk8UvBNUR7VodGhHzdKEmK5GNs3ULxB'\n",
    "access_secret = 'XK86kGwlp4zwDzxYhYc2oHu0qJIE11uRp83Ex6TUg4JCg'\n",
    "consumer_token =  'N5dNhpdbhfLbn5Z94XyRVpr3I'\n",
    "consumer_secret = 'G8CfW44BA1mofPBh3bP0gRGp6hokuw5h3PlZCUkPRYMccyYznE'"
   ]
  },
  {
   "cell_type": "code",
   "execution_count": 28,
   "metadata": {
    "collapsed": false
   },
   "outputs": [],
   "source": [
    "def get_user_tweets(screen_name):\n",
    "\n",
    "    auth = OAuthHandler(consumer_token, consumer_secret)\n",
    "    auth.set_access_token(access_key, access_secret)\n",
    "    api = tweepy.API(auth)\n",
    "    \n",
    "    alltweets = []    \n",
    "    new_tweets = api.user_timeline(screen_name = screen_name,count=200)\n",
    "    alltweets.extend(new_tweets)\n",
    "    user=api.get_user(screen_name=screen_name)\n",
    "    oldest = alltweets[-1].id - 1\n",
    "    \n",
    "    while len(new_tweets) > 0:\n",
    "        new_tweets = api.user_timeline(screen_name = screen_name, count=200,max_id=oldest)\n",
    "        alltweets.extend(new_tweets)\n",
    "        oldest = alltweets[-1].id - 1\n",
    "    return alltweets"
   ]
  },
  {
   "cell_type": "code",
   "execution_count": null,
   "metadata": {
    "collapsed": true
   },
   "outputs": [],
   "source": []
  },
  {
   "cell_type": "code",
   "execution_count": 7,
   "metadata": {
    "collapsed": true
   },
   "outputs": [],
   "source": [
    "# innocent_user_list = ['jessicaalba', 'HereIsGina', 'Louis_Tomlinson', 'hitRECordJoe']\n",
    "# every_user_list = ['katyperry', 'ZooeyDeschanel' ,'channingtatum' ,'iamjamiefoxx']\n",
    "# hero_user_list = ['BarackObama', 'GavinNewsom' ,'JustinTrudeau' ,'Captsully']\n",
    "# nurturer_user_list = ['Oprah', 'RWitherspoon' ,'DeepakChopra' ,'iamkidpresident']\n",
    "# creator_user_list = ['rustyrockets', 'mcuban' ,'MarthaStewart' ,'shondarhimes']\n",
    "# explorer_user_list = ['', '' ,'' ,'']\n",
    "# rebel_user_list = ['', '' ,'' ,'']\n",
    "# lover_user_list = ['', '' ,'' ,'']\n",
    "# magician_user_list = ['', '' ,'' ,'']\n",
    "# jester_user_list = ['', '' ,'' ,'']\n",
    "# sage_user_list = ['', '' ,'' ,'']\n",
    "# ruler_user_list = ['', '' ,'' ,'']"
   ]
  },
  {
   "cell_type": "code",
   "execution_count": 34,
   "metadata": {
    "collapsed": false
   },
   "outputs": [],
   "source": [
    "# #gets each tweet in a users historical twitter account and adds them all to a mongodb collection\n",
    "# for user in innocent_user_list:\n",
    "#     all_tweets = get_user_tweets(user)\n",
    "#     for tweet in all_tweets:\n",
    "#         client_aws.innocent_tweets.insert_one(json.loads(json.dumps(tweet._json)))"
   ]
  },
  {
   "cell_type": "code",
   "execution_count": 10,
   "metadata": {
    "collapsed": false
   },
   "outputs": [],
   "source": [
    "# for user in every_user_list:\n",
    "#     alltweets = get_user_tweets(user)\n",
    "#     for tweet in alltweets:\n",
    "#         client_aws.every_tweets.insert_one(json.loads(json.dumps(tweet._json)))"
   ]
  },
  {
   "cell_type": "code",
   "execution_count": 13,
   "metadata": {
    "collapsed": false
   },
   "outputs": [],
   "source": [
    "#  for user in hero_user_list:\n",
    "#     alltweets = get_user_tweets(user)\n",
    "#     for tweet in alltweets:\n",
    "#         client_aws.hero_tweets.insert_one(json.loads(json.dumps(tweet._json)))"
   ]
  },
  {
   "cell_type": "code",
   "execution_count": 14,
   "metadata": {
    "collapsed": false
   },
   "outputs": [],
   "source": [
    "# for user in nurturer_user_list:\n",
    "#     alltweets = get_user_tweets(user)\n",
    "#     for tweet in alltweets:\n",
    "#         client_aws.nurturer_tweets.insert_one(json.loads(json.dumps(tweet._json)))"
   ]
  },
  {
   "cell_type": "code",
   "execution_count": 15,
   "metadata": {
    "collapsed": true
   },
   "outputs": [],
   "source": [
    "# for user in creator_user_list:\n",
    "#     alltweets = get_user_tweets(user)\n",
    "#     for tweet in alltweets:\n",
    "#         client_aws.creator_tweets.insert_one(json.loads(json.dumps(tweet._json)))"
   ]
  },
  {
   "cell_type": "code",
   "execution_count": null,
   "metadata": {
    "collapsed": true
   },
   "outputs": [],
   "source": [
    "# for user in rebel_user_list:\n",
    "#     alltweets = get_user_tweets(user)\n",
    "#     for tweet in alltweets:\n",
    "#         client_aws.rebel_tweets.insert_one(json.loads(json.dumps(tweet._json)))"
   ]
  },
  {
   "cell_type": "code",
   "execution_count": null,
   "metadata": {
    "collapsed": true
   },
   "outputs": [],
   "source": [
    "# for user in lover_user_list:\n",
    "#     alltweets = get_user_tweets(user)\n",
    "#     for tweet in alltweets:\n",
    "#         client_aws.lover_tweets.insert_one(json.loads(json.dumps(tweet._json)))"
   ]
  },
  {
   "cell_type": "code",
   "execution_count": null,
   "metadata": {
    "collapsed": true
   },
   "outputs": [],
   "source": [
    "# for user in magician_user_list:\n",
    "#     alltweets = get_user_tweets(user)\n",
    "#     for tweet in alltweets:\n",
    "#         client_aws.magician_tweets.insert_one(json.loads(json.dumps(tweet._json)))"
   ]
  },
  {
   "cell_type": "code",
   "execution_count": null,
   "metadata": {
    "collapsed": true
   },
   "outputs": [],
   "source": [
    "# for user in jester_user_list:\n",
    "#     alltweets = get_user_tweets(user)\n",
    "#     for tweet in alltweets:\n",
    "#         client_aws.jester_tweets.insert_one(json.loads(json.dumps(tweet._json)))"
   ]
  },
  {
   "cell_type": "code",
   "execution_count": 44,
   "metadata": {
    "collapsed": false
   },
   "outputs": [],
   "source": [
    "alltweets = get_user_tweets('EmmaWatson')\n",
    "for tweet in alltweets:\n",
    "    client_aws.sage_tweets.insert_one(json.loads(json.dumps(tweet._json)))"
   ]
  },
  {
   "cell_type": "code",
   "execution_count": 45,
   "metadata": {
    "collapsed": true
   },
   "outputs": [],
   "source": [
    "alltweets = get_user_tweets('IyanlaVanzant')\n",
    "for tweet in alltweets:\n",
    "    client_aws.sage_tweets.insert_one(json.loads(json.dumps(tweet._json)))"
   ]
  },
  {
   "cell_type": "code",
   "execution_count": null,
   "metadata": {
    "collapsed": true
   },
   "outputs": [],
   "source": [
    "# for user in sage_user_list:\n",
    "#     alltweets = get_user_tweets(user)\n",
    "#     for tweet in alltweets:\n",
    "#         client_aws.sage_tweets.insert_one(json.loads(json.dumps(tweet._json)))"
   ]
  },
  {
   "cell_type": "code",
   "execution_count": null,
   "metadata": {
    "collapsed": true
   },
   "outputs": [],
   "source": [
    "# for user in ruler_user_list:\n",
    "#     alltweets = get_user_tweets(user)\n",
    "#     for tweet in alltweets:\n",
    "#         client_aws.ruler_tweets.insert_one(json.loads(json.dumps(tweet._json)))"
   ]
  },
  {
   "cell_type": "code",
   "execution_count": 26,
   "metadata": {
    "collapsed": true
   },
   "outputs": [],
   "source": [
    "def get_texts_and_user(user):\n",
    "    tweets = get_user_tweets(user)\n",
    "    return pd.concat([pd.DataFrame([[i.user.screen_name, i.text]], columns=['user','text']) for i in tweets],axis=0).reset_index(drop=True)"
   ]
  },
  {
   "cell_type": "code",
   "execution_count": 66,
   "metadata": {
    "collapsed": false
   },
   "outputs": [],
   "source": [
    "# jessica_df = get_texts_and_user('jessicaalba')\n",
    "# louis_df = get_texts_and_user('Louis_Tomlinson')\n",
    "# joseph_df = get_texts_and_user('hitRECordJoe')\n",
    "# zooey_df = get_texts_and_user('ZooeyDeschanel')\n",
    "# channing_df = get_texts_and_user('channingtatum')\n",
    "# jamie_df = get_texts_and_user('iamjamiefoxx')\n",
    "# gavin_df = get_texts_and_user('GavinNewsom')\n",
    "# justin_df = get_texts_and_user('JustinTrudeau')\n",
    "# sully_df = get_texts_and_user('Captsully')\n",
    "# reese_df = get_texts_and_user('RWitherspoon')\n",
    "# deepak_df = get_texts_and_user('DeepakChopra')\n",
    "# kid_df = get_texts_and_user('iamkidpresident')\n",
    "# mark_df = get_texts_and_user('mcuban')\n",
    "# martha_df = get_texts_and_user('MarthaStewart')\n",
    "# shonda_df = get_texts_and_user('shondarhimes')\n",
    "# laverne_df = get_texts_and_user('Lavernecox')\n",
    "# christiane_df = get_texts_and_user('camanpour')\n",
    "# courtney_df = get_texts_and_user('Courtney')\n",
    "# bill_df = get_texts_and_user('billmaher')\n",
    "# lena_df = get_texts_and_user('lenadunham')\n",
    "# madonna_df = get_texts_and_user('Madonna')\n",
    "# usher_df = get_texts_and_user('Usher')\n",
    "# weeknd_df = get_texts_and_user('theweeknd')\n",
    "# james_df = get_texts_and_user('JKCorden')\n",
    "# seth_df = get_texts_and_user('SethMacFarlane')\n",
    "# sarah_df = get_texts_and_user('SarahKSilverman')\n",
    "# dalai_df = get_texts_and_user('dalailama')\n",
    "# pope_df = get_texts_and_user('Pontifex')\n",
    "# diane_df = get_texts_and_user('DianeSawyer')\n",
    "# oz_df = get_texts_and_user('DrOz')\n",
    "# tony_df = get_texts_and_user('TonyRobbins')\n",
    "# lori_df = get_texts_and_user('LoriGreiner')\n",
    "# david_df = get_texts_and_user('David_Cameron')\n",
    "# marissa_df = get_texts_and_user('marissamayer')\n",
    "hillary_df = get_texts_and_user('HillaryClinton')\n",
    "# gina_df = get_texts_and_user('HereIsGina')\n",
    "# katy_df = get_texts_and_user('katyperry')\n",
    "# barack_df = get_texts_and_user('BarackObama')\n",
    "# oprah_df = get_texts_and_user('Oprah')\n",
    "# noam_df = get_texts_and_user('noamchomskyT')\n",
    "# michael_df = get_texts_and_user('MMFlint')\n",
    "# kim_df = get_texts_and_user('KimKardashian')\n",
    "# russell_df = get_texts_and_user('rustyrockets')\n",
    "# ellen_df = get_texts_and_user('TheEllenShow')\n",
    "# paulo_df = get_texts_and_user('paulocoelho')\n",
    "# elon_df = get_texts_and_user('elonmusk')\n",
    "# donald_df = get_texts_and_user('realDonaldTrump')\n",
    "# anthony_df = get_texts_and_user('bourdain')\n",
    "# emma_df = get_texts_and_user('EmmaWatson')\n",
    "# iyanla_df = get_texts_and_user('IyanlaVanzant')"
   ]
  },
  {
   "cell_type": "code",
   "execution_count": 47,
   "metadata": {
    "collapsed": false,
    "scrolled": true
   },
   "outputs": [
    {
     "data": {
      "text/plain": [
       "12862"
      ]
     },
     "execution_count": 47,
     "metadata": {},
     "output_type": "execute_result"
    }
   ],
   "source": [
    "innocent = [gina_df, jessica_df, louis_df, joseph_df]\n",
    "innocent_df = pd.concat(innocent)\n",
    "len(innocent_df)"
   ]
  },
  {
   "cell_type": "code",
   "execution_count": null,
   "metadata": {
    "collapsed": true
   },
   "outputs": [],
   "source": []
  },
  {
   "cell_type": "code",
   "execution_count": 48,
   "metadata": {
    "collapsed": false
   },
   "outputs": [
    {
     "data": {
      "text/plain": [
       "11964"
      ]
     },
     "execution_count": 48,
     "metadata": {},
     "output_type": "execute_result"
    }
   ],
   "source": [
    "everyperson = [katy_df, zooey_df, channing_df, jamie_df]\n",
    "everyperson_df = pd.concat(everyperson)\n",
    "len(everyperson_df)"
   ]
  },
  {
   "cell_type": "code",
   "execution_count": 49,
   "metadata": {
    "collapsed": false
   },
   "outputs": [
    {
     "data": {
      "text/plain": [
       "10880"
      ]
     },
     "execution_count": 49,
     "metadata": {},
     "output_type": "execute_result"
    }
   ],
   "source": [
    "hero = [barack_df, gavin_df, justin_df, sully_df]\n",
    "hero_df = pd.concat(hero)\n",
    "len(hero_df)"
   ]
  },
  {
   "cell_type": "code",
   "execution_count": 50,
   "metadata": {
    "collapsed": false
   },
   "outputs": [
    {
     "data": {
      "text/plain": [
       "12885"
      ]
     },
     "execution_count": 50,
     "metadata": {},
     "output_type": "execute_result"
    }
   ],
   "source": [
    "nurturer = [oprah_df, reese_df, deepak_df, kid_df]\n",
    "nurturer_df = pd.concat(nurturer)\n",
    "len(nurturer_df)"
   ]
  },
  {
   "cell_type": "code",
   "execution_count": 51,
   "metadata": {
    "collapsed": false
   },
   "outputs": [
    {
     "data": {
      "text/plain": [
       "12881"
      ]
     },
     "execution_count": 51,
     "metadata": {},
     "output_type": "execute_result"
    }
   ],
   "source": [
    "explorer = [noam_df, anthony_df, laverne_df, christiane_df]\n",
    "explorer_df = pd.concat(explorer)\n",
    "len(explorer_df)"
   ]
  },
  {
   "cell_type": "code",
   "execution_count": 71,
   "metadata": {
    "collapsed": false
   },
   "outputs": [
    {
     "data": {
      "text/plain": [
       "12853"
      ]
     },
     "execution_count": 71,
     "metadata": {},
     "output_type": "execute_result"
    }
   ],
   "source": [
    "rebel = [michael_df, courtney_df, bill_df, lena_df]\n",
    "rebel_df = pd.concat(rebel)\n",
    "len(rebel_df)"
   ]
  },
  {
   "cell_type": "code",
   "execution_count": 52,
   "metadata": {
    "collapsed": false
   },
   "outputs": [
    {
     "data": {
      "text/plain": [
       "11254"
      ]
     },
     "execution_count": 52,
     "metadata": {},
     "output_type": "execute_result"
    }
   ],
   "source": [
    "lover = [kim_df, madonna_df, usher_df, weeknd_df]\n",
    "lover_df = pd.concat(lover)\n",
    "len(lover_df)"
   ]
  },
  {
   "cell_type": "code",
   "execution_count": 53,
   "metadata": {
    "collapsed": false
   },
   "outputs": [
    {
     "data": {
      "text/plain": [
       "11280"
      ]
     },
     "execution_count": 53,
     "metadata": {},
     "output_type": "execute_result"
    }
   ],
   "source": [
    "creator = [russell_df, martha_df, mark_df, shonda_df]\n",
    "creator_df = pd.concat(creator)\n",
    "len(creator_df)"
   ]
  },
  {
   "cell_type": "code",
   "execution_count": 54,
   "metadata": {
    "collapsed": false
   },
   "outputs": [
    {
     "data": {
      "text/plain": [
       "12865"
      ]
     },
     "execution_count": 54,
     "metadata": {},
     "output_type": "execute_result"
    }
   ],
   "source": [
    "jester = [ellen_df, james_df, seth_df, sarah_df]\n",
    "jester_df = pd.concat(jester)\n",
    "len(jester_df)"
   ]
  },
  {
   "cell_type": "code",
   "execution_count": 56,
   "metadata": {
    "collapsed": false
   },
   "outputs": [
    {
     "data": {
      "text/plain": [
       "11539"
      ]
     },
     "execution_count": 56,
     "metadata": {},
     "output_type": "execute_result"
    }
   ],
   "source": [
    "sage = [paulo_df, dalai_df, pope_df, diane_df, iyanla_df, emma_df]\n",
    "sage_df = pd.concat(sage)\n",
    "len(sage_df)"
   ]
  },
  {
   "cell_type": "code",
   "execution_count": 59,
   "metadata": {
    "collapsed": false
   },
   "outputs": [
    {
     "data": {
      "text/plain": [
       "12364"
      ]
     },
     "execution_count": 59,
     "metadata": {},
     "output_type": "execute_result"
    }
   ],
   "source": [
    "magician = [elon_df, oz_df, tony_df, lori_df]\n",
    "magician_df = pd.concat(magician)\n",
    "len(magician_df)"
   ]
  },
  {
   "cell_type": "code",
   "execution_count": 67,
   "metadata": {
    "collapsed": false
   },
   "outputs": [
    {
     "data": {
      "text/plain": [
       "10368"
      ]
     },
     "execution_count": 67,
     "metadata": {},
     "output_type": "execute_result"
    }
   ],
   "source": [
    "ruler = [donald_df, david_df, marissa_df, hillary_df]\n",
    "ruler_df = pd.concat(ruler)\n",
    "len(ruler_df)"
   ]
  },
  {
   "cell_type": "code",
   "execution_count": 72,
   "metadata": {
    "collapsed": false
   },
   "outputs": [],
   "source": [
    "all_tweets = [innocent_df, \n",
    "              everyperson_df, \n",
    "              hero_df, \n",
    "              nurturer_df, \n",
    "              explorer_df, \n",
    "              rebel_df, \n",
    "              lover_df, \n",
    "              creator_df, \n",
    "              jester_df, \n",
    "              sage_df, \n",
    "              magician_df, \n",
    "              ruler_df]\n",
    "all_tweets_df = pd.concat(all_tweets)"
   ]
  },
  {
   "cell_type": "code",
   "execution_count": 73,
   "metadata": {
    "collapsed": false
   },
   "outputs": [
    {
     "data": {
      "text/plain": [
       "143995"
      ]
     },
     "execution_count": 73,
     "metadata": {},
     "output_type": "execute_result"
    }
   ],
   "source": [
    "len(all_tweets_df)"
   ]
  },
  {
   "cell_type": "code",
   "execution_count": 74,
   "metadata": {
    "collapsed": true
   },
   "outputs": [],
   "source": [
    "with open('all_tweets_df_df.pkl', 'w') as picklefile:\n",
    "    pickle.dump(all_tweets_df, picklefile)"
   ]
  },
  {
   "cell_type": "code",
   "execution_count": 75,
   "metadata": {
    "collapsed": true
   },
   "outputs": [],
   "source": [
    "with open('innocent_df.pkl', 'w') as picklefile:\n",
    "    pickle.dump(innocent_df, picklefile)"
   ]
  },
  {
   "cell_type": "code",
   "execution_count": 76,
   "metadata": {
    "collapsed": true
   },
   "outputs": [],
   "source": [
    "with open('everyperson_df.pkl', 'w') as picklefile:\n",
    "    pickle.dump(everyperson_df, picklefile)"
   ]
  },
  {
   "cell_type": "code",
   "execution_count": 77,
   "metadata": {
    "collapsed": true
   },
   "outputs": [],
   "source": [
    "with open('hero_df.pkl', 'w') as picklefile:\n",
    "    pickle.dump(hero_df, picklefile)"
   ]
  },
  {
   "cell_type": "code",
   "execution_count": 78,
   "metadata": {
    "collapsed": true
   },
   "outputs": [],
   "source": [
    "with open('nurturer_df.pkl', 'w') as picklefile:\n",
    "    pickle.dump(nurturer_df, picklefile)"
   ]
  },
  {
   "cell_type": "code",
   "execution_count": 79,
   "metadata": {
    "collapsed": true
   },
   "outputs": [],
   "source": [
    "with open('explorer_df.pkl', 'w') as picklefile:\n",
    "    pickle.dump(explorer_df, picklefile)"
   ]
  },
  {
   "cell_type": "code",
   "execution_count": 80,
   "metadata": {
    "collapsed": true
   },
   "outputs": [],
   "source": [
    "with open('rebel_df.pkl', 'w') as picklefile:\n",
    "    pickle.dump(rebel_df, picklefile)"
   ]
  },
  {
   "cell_type": "code",
   "execution_count": 81,
   "metadata": {
    "collapsed": true
   },
   "outputs": [],
   "source": [
    "with open('lover_df.pkl', 'w') as picklefile:\n",
    "    pickle.dump(lover_df, picklefile)"
   ]
  },
  {
   "cell_type": "code",
   "execution_count": 83,
   "metadata": {
    "collapsed": false
   },
   "outputs": [],
   "source": [
    "with open('creator_df.pkl', 'w') as picklefile:\n",
    "    pickle.dump(creator_df, picklefile)"
   ]
  },
  {
   "cell_type": "code",
   "execution_count": 84,
   "metadata": {
    "collapsed": true
   },
   "outputs": [],
   "source": [
    "with open('jester_df.pkl', 'w') as picklefile:\n",
    "    pickle.dump(jester_df, picklefile)"
   ]
  },
  {
   "cell_type": "code",
   "execution_count": 85,
   "metadata": {
    "collapsed": true
   },
   "outputs": [],
   "source": [
    "with open('sage_df.pkl', 'w') as picklefile:\n",
    "    pickle.dump(sage_df, picklefile)"
   ]
  },
  {
   "cell_type": "code",
   "execution_count": 86,
   "metadata": {
    "collapsed": true
   },
   "outputs": [],
   "source": [
    "with open('magician_df.pkl', 'w') as picklefile:\n",
    "    pickle.dump(magician_df, picklefile)"
   ]
  },
  {
   "cell_type": "code",
   "execution_count": 87,
   "metadata": {
    "collapsed": true
   },
   "outputs": [],
   "source": [
    "with open('ruler_df.pkl', 'w') as picklefile:\n",
    "    pickle.dump(ruler_df, picklefile)"
   ]
  },
  {
   "cell_type": "code",
   "execution_count": null,
   "metadata": {
    "collapsed": true
   },
   "outputs": [],
   "source": []
  }
 ],
 "metadata": {
  "anaconda-cloud": {},
  "kernelspec": {
   "display_name": "Python [conda root]",
   "language": "python",
   "name": "conda-root-py"
  },
  "language_info": {
   "codemirror_mode": {
    "name": "ipython",
    "version": 2
   },
   "file_extension": ".py",
   "mimetype": "text/x-python",
   "name": "python",
   "nbconvert_exporter": "python",
   "pygments_lexer": "ipython2",
   "version": "2.7.12"
  }
 },
 "nbformat": 4,
 "nbformat_minor": 1
}
